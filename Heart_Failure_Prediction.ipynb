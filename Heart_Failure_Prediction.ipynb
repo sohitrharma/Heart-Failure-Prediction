{
  "cells": [
    {
      "cell_type": "code",
      "source": [
        "import warnings\n",
        "warnings.filterwarnings('ignore')"
      ],
      "metadata": {
        "id": "kYMCyEWl0Nru"
      },
      "execution_count": null,
      "outputs": []
    },
    {
      "cell_type": "markdown",
      "source": [
        "##Imports"
      ],
      "metadata": {
        "id": "BewFz0fkkPVu"
      }
    },
    {
      "cell_type": "code",
      "execution_count": null,
      "metadata": {
        "id": "cJerJwTLMKZ3"
      },
      "outputs": [],
      "source": [
        "import pandas as pd\n",
        "import matplotlib.pyplot as plt\n",
        "import seaborn as sns\n",
        "from pandas.plotting import scatter_matrix\n",
        "from pandas import set_option\n",
        "from pandas import read_csv\n",
        "from sklearn import preprocessing\n",
        "import numpy as np\n",
        "from collections import Counter\n",
        "# from sklearn.linear_model import LogisticRegression\n",
        "# from sklearn.metrics import accuracy_score"
      ]
    },
    {
      "cell_type": "markdown",
      "source": [
        "##ETL"
      ],
      "metadata": {
        "id": "MXNFDr7akRto"
      }
    },
    {
      "cell_type": "code",
      "execution_count": null,
      "metadata": {
        "colab": {
          "base_uri": "https://localhost:8080/"
        },
        "id": "fA8Pvqv18hdh",
        "outputId": "6bcc9e8b-fc4e-4992-8ac5-f6b7b5d59cf3"
      },
      "outputs": [
        {
          "output_type": "stream",
          "name": "stdout",
          "text": [
            "Mounted at /content/drive\n"
          ]
        }
      ],
      "source": [
        "from google.colab import drive\n",
        "drive.mount('/content/drive')"
      ]
    },
    {
      "cell_type": "code",
      "execution_count": null,
      "metadata": {
        "colab": {
          "base_uri": "https://localhost:8080/",
          "height": 206
        },
        "id": "WP-zRjPZM74m",
        "outputId": "1b0c2526-326b-43b5-d0ed-bbcc84050f0a"
      },
      "outputs": [
        {
          "output_type": "execute_result",
          "data": {
            "text/plain": [
              "    age  anaemia  creatinine_phosphokinase  diabetes  ejection_fraction  \\\n",
              "0  75.0        0                       582         0                 20   \n",
              "1  55.0        0                      7861         0                 38   \n",
              "2  65.0        0                       146         0                 20   \n",
              "3  50.0        1                       111         0                 20   \n",
              "4  65.0        1                       160         1                 20   \n",
              "\n",
              "   high_blood_pressure  platelets  serum_creatinine  serum_sodium  sex  \\\n",
              "0                    1  265000.00               1.9           130    1   \n",
              "1                    0  263358.03               1.1           136    1   \n",
              "2                    0  162000.00               1.3           129    1   \n",
              "3                    0  210000.00               1.9           137    1   \n",
              "4                    0  327000.00               2.7           116    0   \n",
              "\n",
              "   smoking  time  DEATH_EVENT  \n",
              "0        0     4            1  \n",
              "1        0     6            1  \n",
              "2        1     7            1  \n",
              "3        0     7            1  \n",
              "4        0     8            1  "
            ],
            "text/html": [
              "\n",
              "  <div id=\"df-47841172-7b9c-47e8-bfd2-1351f33b9c70\">\n",
              "    <div class=\"colab-df-container\">\n",
              "      <div>\n",
              "<style scoped>\n",
              "    .dataframe tbody tr th:only-of-type {\n",
              "        vertical-align: middle;\n",
              "    }\n",
              "\n",
              "    .dataframe tbody tr th {\n",
              "        vertical-align: top;\n",
              "    }\n",
              "\n",
              "    .dataframe thead th {\n",
              "        text-align: right;\n",
              "    }\n",
              "</style>\n",
              "<table border=\"1\" class=\"dataframe\">\n",
              "  <thead>\n",
              "    <tr style=\"text-align: right;\">\n",
              "      <th></th>\n",
              "      <th>age</th>\n",
              "      <th>anaemia</th>\n",
              "      <th>creatinine_phosphokinase</th>\n",
              "      <th>diabetes</th>\n",
              "      <th>ejection_fraction</th>\n",
              "      <th>high_blood_pressure</th>\n",
              "      <th>platelets</th>\n",
              "      <th>serum_creatinine</th>\n",
              "      <th>serum_sodium</th>\n",
              "      <th>sex</th>\n",
              "      <th>smoking</th>\n",
              "      <th>time</th>\n",
              "      <th>DEATH_EVENT</th>\n",
              "    </tr>\n",
              "  </thead>\n",
              "  <tbody>\n",
              "    <tr>\n",
              "      <th>0</th>\n",
              "      <td>75.0</td>\n",
              "      <td>0</td>\n",
              "      <td>582</td>\n",
              "      <td>0</td>\n",
              "      <td>20</td>\n",
              "      <td>1</td>\n",
              "      <td>265000.00</td>\n",
              "      <td>1.9</td>\n",
              "      <td>130</td>\n",
              "      <td>1</td>\n",
              "      <td>0</td>\n",
              "      <td>4</td>\n",
              "      <td>1</td>\n",
              "    </tr>\n",
              "    <tr>\n",
              "      <th>1</th>\n",
              "      <td>55.0</td>\n",
              "      <td>0</td>\n",
              "      <td>7861</td>\n",
              "      <td>0</td>\n",
              "      <td>38</td>\n",
              "      <td>0</td>\n",
              "      <td>263358.03</td>\n",
              "      <td>1.1</td>\n",
              "      <td>136</td>\n",
              "      <td>1</td>\n",
              "      <td>0</td>\n",
              "      <td>6</td>\n",
              "      <td>1</td>\n",
              "    </tr>\n",
              "    <tr>\n",
              "      <th>2</th>\n",
              "      <td>65.0</td>\n",
              "      <td>0</td>\n",
              "      <td>146</td>\n",
              "      <td>0</td>\n",
              "      <td>20</td>\n",
              "      <td>0</td>\n",
              "      <td>162000.00</td>\n",
              "      <td>1.3</td>\n",
              "      <td>129</td>\n",
              "      <td>1</td>\n",
              "      <td>1</td>\n",
              "      <td>7</td>\n",
              "      <td>1</td>\n",
              "    </tr>\n",
              "    <tr>\n",
              "      <th>3</th>\n",
              "      <td>50.0</td>\n",
              "      <td>1</td>\n",
              "      <td>111</td>\n",
              "      <td>0</td>\n",
              "      <td>20</td>\n",
              "      <td>0</td>\n",
              "      <td>210000.00</td>\n",
              "      <td>1.9</td>\n",
              "      <td>137</td>\n",
              "      <td>1</td>\n",
              "      <td>0</td>\n",
              "      <td>7</td>\n",
              "      <td>1</td>\n",
              "    </tr>\n",
              "    <tr>\n",
              "      <th>4</th>\n",
              "      <td>65.0</td>\n",
              "      <td>1</td>\n",
              "      <td>160</td>\n",
              "      <td>1</td>\n",
              "      <td>20</td>\n",
              "      <td>0</td>\n",
              "      <td>327000.00</td>\n",
              "      <td>2.7</td>\n",
              "      <td>116</td>\n",
              "      <td>0</td>\n",
              "      <td>0</td>\n",
              "      <td>8</td>\n",
              "      <td>1</td>\n",
              "    </tr>\n",
              "  </tbody>\n",
              "</table>\n",
              "</div>\n",
              "      <button class=\"colab-df-convert\" onclick=\"convertToInteractive('df-47841172-7b9c-47e8-bfd2-1351f33b9c70')\"\n",
              "              title=\"Convert this dataframe to an interactive table.\"\n",
              "              style=\"display:none;\">\n",
              "        \n",
              "  <svg xmlns=\"http://www.w3.org/2000/svg\" height=\"24px\"viewBox=\"0 0 24 24\"\n",
              "       width=\"24px\">\n",
              "    <path d=\"M0 0h24v24H0V0z\" fill=\"none\"/>\n",
              "    <path d=\"M18.56 5.44l.94 2.06.94-2.06 2.06-.94-2.06-.94-.94-2.06-.94 2.06-2.06.94zm-11 1L8.5 8.5l.94-2.06 2.06-.94-2.06-.94L8.5 2.5l-.94 2.06-2.06.94zm10 10l.94 2.06.94-2.06 2.06-.94-2.06-.94-.94-2.06-.94 2.06-2.06.94z\"/><path d=\"M17.41 7.96l-1.37-1.37c-.4-.4-.92-.59-1.43-.59-.52 0-1.04.2-1.43.59L10.3 9.45l-7.72 7.72c-.78.78-.78 2.05 0 2.83L4 21.41c.39.39.9.59 1.41.59.51 0 1.02-.2 1.41-.59l7.78-7.78 2.81-2.81c.8-.78.8-2.07 0-2.86zM5.41 20L4 18.59l7.72-7.72 1.47 1.35L5.41 20z\"/>\n",
              "  </svg>\n",
              "      </button>\n",
              "      \n",
              "  <style>\n",
              "    .colab-df-container {\n",
              "      display:flex;\n",
              "      flex-wrap:wrap;\n",
              "      gap: 12px;\n",
              "    }\n",
              "\n",
              "    .colab-df-convert {\n",
              "      background-color: #E8F0FE;\n",
              "      border: none;\n",
              "      border-radius: 50%;\n",
              "      cursor: pointer;\n",
              "      display: none;\n",
              "      fill: #1967D2;\n",
              "      height: 32px;\n",
              "      padding: 0 0 0 0;\n",
              "      width: 32px;\n",
              "    }\n",
              "\n",
              "    .colab-df-convert:hover {\n",
              "      background-color: #E2EBFA;\n",
              "      box-shadow: 0px 1px 2px rgba(60, 64, 67, 0.3), 0px 1px 3px 1px rgba(60, 64, 67, 0.15);\n",
              "      fill: #174EA6;\n",
              "    }\n",
              "\n",
              "    [theme=dark] .colab-df-convert {\n",
              "      background-color: #3B4455;\n",
              "      fill: #D2E3FC;\n",
              "    }\n",
              "\n",
              "    [theme=dark] .colab-df-convert:hover {\n",
              "      background-color: #434B5C;\n",
              "      box-shadow: 0px 1px 3px 1px rgba(0, 0, 0, 0.15);\n",
              "      filter: drop-shadow(0px 1px 2px rgba(0, 0, 0, 0.3));\n",
              "      fill: #FFFFFF;\n",
              "    }\n",
              "  </style>\n",
              "\n",
              "      <script>\n",
              "        const buttonEl =\n",
              "          document.querySelector('#df-47841172-7b9c-47e8-bfd2-1351f33b9c70 button.colab-df-convert');\n",
              "        buttonEl.style.display =\n",
              "          google.colab.kernel.accessAllowed ? 'block' : 'none';\n",
              "\n",
              "        async function convertToInteractive(key) {\n",
              "          const element = document.querySelector('#df-47841172-7b9c-47e8-bfd2-1351f33b9c70');\n",
              "          const dataTable =\n",
              "            await google.colab.kernel.invokeFunction('convertToInteractive',\n",
              "                                                     [key], {});\n",
              "          if (!dataTable) return;\n",
              "\n",
              "          const docLinkHtml = 'Like what you see? Visit the ' +\n",
              "            '<a target=\"_blank\" href=https://colab.research.google.com/notebooks/data_table.ipynb>data table notebook</a>'\n",
              "            + ' to learn more about interactive tables.';\n",
              "          element.innerHTML = '';\n",
              "          dataTable['output_type'] = 'display_data';\n",
              "          await google.colab.output.renderOutput(dataTable, element);\n",
              "          const docLink = document.createElement('div');\n",
              "          docLink.innerHTML = docLinkHtml;\n",
              "          element.appendChild(docLink);\n",
              "        }\n",
              "      </script>\n",
              "    </div>\n",
              "  </div>\n",
              "  "
            ]
          },
          "metadata": {},
          "execution_count": 3
        }
      ],
      "source": [
        "data = pd.read_csv('./heart_failure_clinical_records_dataset.csv')\n",
        "data.head()"
      ]
    },
    {
      "cell_type": "markdown",
      "source": [
        "##EDA"
      ],
      "metadata": {
        "id": "UmTK7sMxkT6h"
      }
    },
    {
      "cell_type": "code",
      "execution_count": null,
      "metadata": {
        "colab": {
          "base_uri": "https://localhost:8080/",
          "height": 206
        },
        "id": "ixQtmaBB86x-",
        "outputId": "883ce1dd-b735-4645-df92-a741c7ef4db4"
      },
      "outputs": [
        {
          "output_type": "execute_result",
          "data": {
            "text/plain": [
              "      age  anaemia  creatinine_phosphokinase  diabetes  ejection_fraction  \\\n",
              "294  62.0        0                        61         1                 38   \n",
              "295  55.0        0                      1820         0                 38   \n",
              "296  45.0        0                      2060         1                 60   \n",
              "297  45.0        0                      2413         0                 38   \n",
              "298  50.0        0                       196         0                 45   \n",
              "\n",
              "     high_blood_pressure  platelets  serum_creatinine  serum_sodium  sex  \\\n",
              "294                    1   155000.0               1.1           143    1   \n",
              "295                    0   270000.0               1.2           139    0   \n",
              "296                    0   742000.0               0.8           138    0   \n",
              "297                    0   140000.0               1.4           140    1   \n",
              "298                    0   395000.0               1.6           136    1   \n",
              "\n",
              "     smoking  time  DEATH_EVENT  \n",
              "294        1   270            0  \n",
              "295        0   271            0  \n",
              "296        0   278            0  \n",
              "297        1   280            0  \n",
              "298        1   285            0  "
            ],
            "text/html": [
              "\n",
              "  <div id=\"df-af54b354-bd1b-46ee-9206-61b78162a3b3\">\n",
              "    <div class=\"colab-df-container\">\n",
              "      <div>\n",
              "<style scoped>\n",
              "    .dataframe tbody tr th:only-of-type {\n",
              "        vertical-align: middle;\n",
              "    }\n",
              "\n",
              "    .dataframe tbody tr th {\n",
              "        vertical-align: top;\n",
              "    }\n",
              "\n",
              "    .dataframe thead th {\n",
              "        text-align: right;\n",
              "    }\n",
              "</style>\n",
              "<table border=\"1\" class=\"dataframe\">\n",
              "  <thead>\n",
              "    <tr style=\"text-align: right;\">\n",
              "      <th></th>\n",
              "      <th>age</th>\n",
              "      <th>anaemia</th>\n",
              "      <th>creatinine_phosphokinase</th>\n",
              "      <th>diabetes</th>\n",
              "      <th>ejection_fraction</th>\n",
              "      <th>high_blood_pressure</th>\n",
              "      <th>platelets</th>\n",
              "      <th>serum_creatinine</th>\n",
              "      <th>serum_sodium</th>\n",
              "      <th>sex</th>\n",
              "      <th>smoking</th>\n",
              "      <th>time</th>\n",
              "      <th>DEATH_EVENT</th>\n",
              "    </tr>\n",
              "  </thead>\n",
              "  <tbody>\n",
              "    <tr>\n",
              "      <th>294</th>\n",
              "      <td>62.0</td>\n",
              "      <td>0</td>\n",
              "      <td>61</td>\n",
              "      <td>1</td>\n",
              "      <td>38</td>\n",
              "      <td>1</td>\n",
              "      <td>155000.0</td>\n",
              "      <td>1.1</td>\n",
              "      <td>143</td>\n",
              "      <td>1</td>\n",
              "      <td>1</td>\n",
              "      <td>270</td>\n",
              "      <td>0</td>\n",
              "    </tr>\n",
              "    <tr>\n",
              "      <th>295</th>\n",
              "      <td>55.0</td>\n",
              "      <td>0</td>\n",
              "      <td>1820</td>\n",
              "      <td>0</td>\n",
              "      <td>38</td>\n",
              "      <td>0</td>\n",
              "      <td>270000.0</td>\n",
              "      <td>1.2</td>\n",
              "      <td>139</td>\n",
              "      <td>0</td>\n",
              "      <td>0</td>\n",
              "      <td>271</td>\n",
              "      <td>0</td>\n",
              "    </tr>\n",
              "    <tr>\n",
              "      <th>296</th>\n",
              "      <td>45.0</td>\n",
              "      <td>0</td>\n",
              "      <td>2060</td>\n",
              "      <td>1</td>\n",
              "      <td>60</td>\n",
              "      <td>0</td>\n",
              "      <td>742000.0</td>\n",
              "      <td>0.8</td>\n",
              "      <td>138</td>\n",
              "      <td>0</td>\n",
              "      <td>0</td>\n",
              "      <td>278</td>\n",
              "      <td>0</td>\n",
              "    </tr>\n",
              "    <tr>\n",
              "      <th>297</th>\n",
              "      <td>45.0</td>\n",
              "      <td>0</td>\n",
              "      <td>2413</td>\n",
              "      <td>0</td>\n",
              "      <td>38</td>\n",
              "      <td>0</td>\n",
              "      <td>140000.0</td>\n",
              "      <td>1.4</td>\n",
              "      <td>140</td>\n",
              "      <td>1</td>\n",
              "      <td>1</td>\n",
              "      <td>280</td>\n",
              "      <td>0</td>\n",
              "    </tr>\n",
              "    <tr>\n",
              "      <th>298</th>\n",
              "      <td>50.0</td>\n",
              "      <td>0</td>\n",
              "      <td>196</td>\n",
              "      <td>0</td>\n",
              "      <td>45</td>\n",
              "      <td>0</td>\n",
              "      <td>395000.0</td>\n",
              "      <td>1.6</td>\n",
              "      <td>136</td>\n",
              "      <td>1</td>\n",
              "      <td>1</td>\n",
              "      <td>285</td>\n",
              "      <td>0</td>\n",
              "    </tr>\n",
              "  </tbody>\n",
              "</table>\n",
              "</div>\n",
              "      <button class=\"colab-df-convert\" onclick=\"convertToInteractive('df-af54b354-bd1b-46ee-9206-61b78162a3b3')\"\n",
              "              title=\"Convert this dataframe to an interactive table.\"\n",
              "              style=\"display:none;\">\n",
              "        \n",
              "  <svg xmlns=\"http://www.w3.org/2000/svg\" height=\"24px\"viewBox=\"0 0 24 24\"\n",
              "       width=\"24px\">\n",
              "    <path d=\"M0 0h24v24H0V0z\" fill=\"none\"/>\n",
              "    <path d=\"M18.56 5.44l.94 2.06.94-2.06 2.06-.94-2.06-.94-.94-2.06-.94 2.06-2.06.94zm-11 1L8.5 8.5l.94-2.06 2.06-.94-2.06-.94L8.5 2.5l-.94 2.06-2.06.94zm10 10l.94 2.06.94-2.06 2.06-.94-2.06-.94-.94-2.06-.94 2.06-2.06.94z\"/><path d=\"M17.41 7.96l-1.37-1.37c-.4-.4-.92-.59-1.43-.59-.52 0-1.04.2-1.43.59L10.3 9.45l-7.72 7.72c-.78.78-.78 2.05 0 2.83L4 21.41c.39.39.9.59 1.41.59.51 0 1.02-.2 1.41-.59l7.78-7.78 2.81-2.81c.8-.78.8-2.07 0-2.86zM5.41 20L4 18.59l7.72-7.72 1.47 1.35L5.41 20z\"/>\n",
              "  </svg>\n",
              "      </button>\n",
              "      \n",
              "  <style>\n",
              "    .colab-df-container {\n",
              "      display:flex;\n",
              "      flex-wrap:wrap;\n",
              "      gap: 12px;\n",
              "    }\n",
              "\n",
              "    .colab-df-convert {\n",
              "      background-color: #E8F0FE;\n",
              "      border: none;\n",
              "      border-radius: 50%;\n",
              "      cursor: pointer;\n",
              "      display: none;\n",
              "      fill: #1967D2;\n",
              "      height: 32px;\n",
              "      padding: 0 0 0 0;\n",
              "      width: 32px;\n",
              "    }\n",
              "\n",
              "    .colab-df-convert:hover {\n",
              "      background-color: #E2EBFA;\n",
              "      box-shadow: 0px 1px 2px rgba(60, 64, 67, 0.3), 0px 1px 3px 1px rgba(60, 64, 67, 0.15);\n",
              "      fill: #174EA6;\n",
              "    }\n",
              "\n",
              "    [theme=dark] .colab-df-convert {\n",
              "      background-color: #3B4455;\n",
              "      fill: #D2E3FC;\n",
              "    }\n",
              "\n",
              "    [theme=dark] .colab-df-convert:hover {\n",
              "      background-color: #434B5C;\n",
              "      box-shadow: 0px 1px 3px 1px rgba(0, 0, 0, 0.15);\n",
              "      filter: drop-shadow(0px 1px 2px rgba(0, 0, 0, 0.3));\n",
              "      fill: #FFFFFF;\n",
              "    }\n",
              "  </style>\n",
              "\n",
              "      <script>\n",
              "        const buttonEl =\n",
              "          document.querySelector('#df-af54b354-bd1b-46ee-9206-61b78162a3b3 button.colab-df-convert');\n",
              "        buttonEl.style.display =\n",
              "          google.colab.kernel.accessAllowed ? 'block' : 'none';\n",
              "\n",
              "        async function convertToInteractive(key) {\n",
              "          const element = document.querySelector('#df-af54b354-bd1b-46ee-9206-61b78162a3b3');\n",
              "          const dataTable =\n",
              "            await google.colab.kernel.invokeFunction('convertToInteractive',\n",
              "                                                     [key], {});\n",
              "          if (!dataTable) return;\n",
              "\n",
              "          const docLinkHtml = 'Like what you see? Visit the ' +\n",
              "            '<a target=\"_blank\" href=https://colab.research.google.com/notebooks/data_table.ipynb>data table notebook</a>'\n",
              "            + ' to learn more about interactive tables.';\n",
              "          element.innerHTML = '';\n",
              "          dataTable['output_type'] = 'display_data';\n",
              "          await google.colab.output.renderOutput(dataTable, element);\n",
              "          const docLink = document.createElement('div');\n",
              "          docLink.innerHTML = docLinkHtml;\n",
              "          element.appendChild(docLink);\n",
              "        }\n",
              "      </script>\n",
              "    </div>\n",
              "  </div>\n",
              "  "
            ]
          },
          "metadata": {},
          "execution_count": 4
        }
      ],
      "source": [
        "data.tail()"
      ]
    },
    {
      "cell_type": "code",
      "execution_count": null,
      "metadata": {
        "colab": {
          "base_uri": "https://localhost:8080/",
          "height": 300
        },
        "id": "oX49RYqt8_Uj",
        "outputId": "f61a87cf-95d1-4d81-ad66-9f9f7222b82f"
      },
      "outputs": [
        {
          "output_type": "execute_result",
          "data": {
            "text/plain": [
              "              age     anaemia  creatinine_phosphokinase    diabetes  \\\n",
              "count  299.000000  299.000000                299.000000  299.000000   \n",
              "mean    60.833893    0.431438                581.839465    0.418060   \n",
              "std     11.894809    0.496107                970.287881    0.494067   \n",
              "min     40.000000    0.000000                 23.000000    0.000000   \n",
              "25%     51.000000    0.000000                116.500000    0.000000   \n",
              "50%     60.000000    0.000000                250.000000    0.000000   \n",
              "75%     70.000000    1.000000                582.000000    1.000000   \n",
              "max     95.000000    1.000000               7861.000000    1.000000   \n",
              "\n",
              "       ejection_fraction  high_blood_pressure      platelets  \\\n",
              "count         299.000000           299.000000     299.000000   \n",
              "mean           38.083612             0.351171  263358.029264   \n",
              "std            11.834841             0.478136   97804.236869   \n",
              "min            14.000000             0.000000   25100.000000   \n",
              "25%            30.000000             0.000000  212500.000000   \n",
              "50%            38.000000             0.000000  262000.000000   \n",
              "75%            45.000000             1.000000  303500.000000   \n",
              "max            80.000000             1.000000  850000.000000   \n",
              "\n",
              "       serum_creatinine  serum_sodium         sex    smoking        time  \\\n",
              "count         299.00000    299.000000  299.000000  299.00000  299.000000   \n",
              "mean            1.39388    136.625418    0.648829    0.32107  130.260870   \n",
              "std             1.03451      4.412477    0.478136    0.46767   77.614208   \n",
              "min             0.50000    113.000000    0.000000    0.00000    4.000000   \n",
              "25%             0.90000    134.000000    0.000000    0.00000   73.000000   \n",
              "50%             1.10000    137.000000    1.000000    0.00000  115.000000   \n",
              "75%             1.40000    140.000000    1.000000    1.00000  203.000000   \n",
              "max             9.40000    148.000000    1.000000    1.00000  285.000000   \n",
              "\n",
              "       DEATH_EVENT  \n",
              "count    299.00000  \n",
              "mean       0.32107  \n",
              "std        0.46767  \n",
              "min        0.00000  \n",
              "25%        0.00000  \n",
              "50%        0.00000  \n",
              "75%        1.00000  \n",
              "max        1.00000  "
            ],
            "text/html": [
              "\n",
              "  <div id=\"df-c7f11971-1cb3-4b16-917d-892eebabd83d\">\n",
              "    <div class=\"colab-df-container\">\n",
              "      <div>\n",
              "<style scoped>\n",
              "    .dataframe tbody tr th:only-of-type {\n",
              "        vertical-align: middle;\n",
              "    }\n",
              "\n",
              "    .dataframe tbody tr th {\n",
              "        vertical-align: top;\n",
              "    }\n",
              "\n",
              "    .dataframe thead th {\n",
              "        text-align: right;\n",
              "    }\n",
              "</style>\n",
              "<table border=\"1\" class=\"dataframe\">\n",
              "  <thead>\n",
              "    <tr style=\"text-align: right;\">\n",
              "      <th></th>\n",
              "      <th>age</th>\n",
              "      <th>anaemia</th>\n",
              "      <th>creatinine_phosphokinase</th>\n",
              "      <th>diabetes</th>\n",
              "      <th>ejection_fraction</th>\n",
              "      <th>high_blood_pressure</th>\n",
              "      <th>platelets</th>\n",
              "      <th>serum_creatinine</th>\n",
              "      <th>serum_sodium</th>\n",
              "      <th>sex</th>\n",
              "      <th>smoking</th>\n",
              "      <th>time</th>\n",
              "      <th>DEATH_EVENT</th>\n",
              "    </tr>\n",
              "  </thead>\n",
              "  <tbody>\n",
              "    <tr>\n",
              "      <th>count</th>\n",
              "      <td>299.000000</td>\n",
              "      <td>299.000000</td>\n",
              "      <td>299.000000</td>\n",
              "      <td>299.000000</td>\n",
              "      <td>299.000000</td>\n",
              "      <td>299.000000</td>\n",
              "      <td>299.000000</td>\n",
              "      <td>299.00000</td>\n",
              "      <td>299.000000</td>\n",
              "      <td>299.000000</td>\n",
              "      <td>299.00000</td>\n",
              "      <td>299.000000</td>\n",
              "      <td>299.00000</td>\n",
              "    </tr>\n",
              "    <tr>\n",
              "      <th>mean</th>\n",
              "      <td>60.833893</td>\n",
              "      <td>0.431438</td>\n",
              "      <td>581.839465</td>\n",
              "      <td>0.418060</td>\n",
              "      <td>38.083612</td>\n",
              "      <td>0.351171</td>\n",
              "      <td>263358.029264</td>\n",
              "      <td>1.39388</td>\n",
              "      <td>136.625418</td>\n",
              "      <td>0.648829</td>\n",
              "      <td>0.32107</td>\n",
              "      <td>130.260870</td>\n",
              "      <td>0.32107</td>\n",
              "    </tr>\n",
              "    <tr>\n",
              "      <th>std</th>\n",
              "      <td>11.894809</td>\n",
              "      <td>0.496107</td>\n",
              "      <td>970.287881</td>\n",
              "      <td>0.494067</td>\n",
              "      <td>11.834841</td>\n",
              "      <td>0.478136</td>\n",
              "      <td>97804.236869</td>\n",
              "      <td>1.03451</td>\n",
              "      <td>4.412477</td>\n",
              "      <td>0.478136</td>\n",
              "      <td>0.46767</td>\n",
              "      <td>77.614208</td>\n",
              "      <td>0.46767</td>\n",
              "    </tr>\n",
              "    <tr>\n",
              "      <th>min</th>\n",
              "      <td>40.000000</td>\n",
              "      <td>0.000000</td>\n",
              "      <td>23.000000</td>\n",
              "      <td>0.000000</td>\n",
              "      <td>14.000000</td>\n",
              "      <td>0.000000</td>\n",
              "      <td>25100.000000</td>\n",
              "      <td>0.50000</td>\n",
              "      <td>113.000000</td>\n",
              "      <td>0.000000</td>\n",
              "      <td>0.00000</td>\n",
              "      <td>4.000000</td>\n",
              "      <td>0.00000</td>\n",
              "    </tr>\n",
              "    <tr>\n",
              "      <th>25%</th>\n",
              "      <td>51.000000</td>\n",
              "      <td>0.000000</td>\n",
              "      <td>116.500000</td>\n",
              "      <td>0.000000</td>\n",
              "      <td>30.000000</td>\n",
              "      <td>0.000000</td>\n",
              "      <td>212500.000000</td>\n",
              "      <td>0.90000</td>\n",
              "      <td>134.000000</td>\n",
              "      <td>0.000000</td>\n",
              "      <td>0.00000</td>\n",
              "      <td>73.000000</td>\n",
              "      <td>0.00000</td>\n",
              "    </tr>\n",
              "    <tr>\n",
              "      <th>50%</th>\n",
              "      <td>60.000000</td>\n",
              "      <td>0.000000</td>\n",
              "      <td>250.000000</td>\n",
              "      <td>0.000000</td>\n",
              "      <td>38.000000</td>\n",
              "      <td>0.000000</td>\n",
              "      <td>262000.000000</td>\n",
              "      <td>1.10000</td>\n",
              "      <td>137.000000</td>\n",
              "      <td>1.000000</td>\n",
              "      <td>0.00000</td>\n",
              "      <td>115.000000</td>\n",
              "      <td>0.00000</td>\n",
              "    </tr>\n",
              "    <tr>\n",
              "      <th>75%</th>\n",
              "      <td>70.000000</td>\n",
              "      <td>1.000000</td>\n",
              "      <td>582.000000</td>\n",
              "      <td>1.000000</td>\n",
              "      <td>45.000000</td>\n",
              "      <td>1.000000</td>\n",
              "      <td>303500.000000</td>\n",
              "      <td>1.40000</td>\n",
              "      <td>140.000000</td>\n",
              "      <td>1.000000</td>\n",
              "      <td>1.00000</td>\n",
              "      <td>203.000000</td>\n",
              "      <td>1.00000</td>\n",
              "    </tr>\n",
              "    <tr>\n",
              "      <th>max</th>\n",
              "      <td>95.000000</td>\n",
              "      <td>1.000000</td>\n",
              "      <td>7861.000000</td>\n",
              "      <td>1.000000</td>\n",
              "      <td>80.000000</td>\n",
              "      <td>1.000000</td>\n",
              "      <td>850000.000000</td>\n",
              "      <td>9.40000</td>\n",
              "      <td>148.000000</td>\n",
              "      <td>1.000000</td>\n",
              "      <td>1.00000</td>\n",
              "      <td>285.000000</td>\n",
              "      <td>1.00000</td>\n",
              "    </tr>\n",
              "  </tbody>\n",
              "</table>\n",
              "</div>\n",
              "      <button class=\"colab-df-convert\" onclick=\"convertToInteractive('df-c7f11971-1cb3-4b16-917d-892eebabd83d')\"\n",
              "              title=\"Convert this dataframe to an interactive table.\"\n",
              "              style=\"display:none;\">\n",
              "        \n",
              "  <svg xmlns=\"http://www.w3.org/2000/svg\" height=\"24px\"viewBox=\"0 0 24 24\"\n",
              "       width=\"24px\">\n",
              "    <path d=\"M0 0h24v24H0V0z\" fill=\"none\"/>\n",
              "    <path d=\"M18.56 5.44l.94 2.06.94-2.06 2.06-.94-2.06-.94-.94-2.06-.94 2.06-2.06.94zm-11 1L8.5 8.5l.94-2.06 2.06-.94-2.06-.94L8.5 2.5l-.94 2.06-2.06.94zm10 10l.94 2.06.94-2.06 2.06-.94-2.06-.94-.94-2.06-.94 2.06-2.06.94z\"/><path d=\"M17.41 7.96l-1.37-1.37c-.4-.4-.92-.59-1.43-.59-.52 0-1.04.2-1.43.59L10.3 9.45l-7.72 7.72c-.78.78-.78 2.05 0 2.83L4 21.41c.39.39.9.59 1.41.59.51 0 1.02-.2 1.41-.59l7.78-7.78 2.81-2.81c.8-.78.8-2.07 0-2.86zM5.41 20L4 18.59l7.72-7.72 1.47 1.35L5.41 20z\"/>\n",
              "  </svg>\n",
              "      </button>\n",
              "      \n",
              "  <style>\n",
              "    .colab-df-container {\n",
              "      display:flex;\n",
              "      flex-wrap:wrap;\n",
              "      gap: 12px;\n",
              "    }\n",
              "\n",
              "    .colab-df-convert {\n",
              "      background-color: #E8F0FE;\n",
              "      border: none;\n",
              "      border-radius: 50%;\n",
              "      cursor: pointer;\n",
              "      display: none;\n",
              "      fill: #1967D2;\n",
              "      height: 32px;\n",
              "      padding: 0 0 0 0;\n",
              "      width: 32px;\n",
              "    }\n",
              "\n",
              "    .colab-df-convert:hover {\n",
              "      background-color: #E2EBFA;\n",
              "      box-shadow: 0px 1px 2px rgba(60, 64, 67, 0.3), 0px 1px 3px 1px rgba(60, 64, 67, 0.15);\n",
              "      fill: #174EA6;\n",
              "    }\n",
              "\n",
              "    [theme=dark] .colab-df-convert {\n",
              "      background-color: #3B4455;\n",
              "      fill: #D2E3FC;\n",
              "    }\n",
              "\n",
              "    [theme=dark] .colab-df-convert:hover {\n",
              "      background-color: #434B5C;\n",
              "      box-shadow: 0px 1px 3px 1px rgba(0, 0, 0, 0.15);\n",
              "      filter: drop-shadow(0px 1px 2px rgba(0, 0, 0, 0.3));\n",
              "      fill: #FFFFFF;\n",
              "    }\n",
              "  </style>\n",
              "\n",
              "      <script>\n",
              "        const buttonEl =\n",
              "          document.querySelector('#df-c7f11971-1cb3-4b16-917d-892eebabd83d button.colab-df-convert');\n",
              "        buttonEl.style.display =\n",
              "          google.colab.kernel.accessAllowed ? 'block' : 'none';\n",
              "\n",
              "        async function convertToInteractive(key) {\n",
              "          const element = document.querySelector('#df-c7f11971-1cb3-4b16-917d-892eebabd83d');\n",
              "          const dataTable =\n",
              "            await google.colab.kernel.invokeFunction('convertToInteractive',\n",
              "                                                     [key], {});\n",
              "          if (!dataTable) return;\n",
              "\n",
              "          const docLinkHtml = 'Like what you see? Visit the ' +\n",
              "            '<a target=\"_blank\" href=https://colab.research.google.com/notebooks/data_table.ipynb>data table notebook</a>'\n",
              "            + ' to learn more about interactive tables.';\n",
              "          element.innerHTML = '';\n",
              "          dataTable['output_type'] = 'display_data';\n",
              "          await google.colab.output.renderOutput(dataTable, element);\n",
              "          const docLink = document.createElement('div');\n",
              "          docLink.innerHTML = docLinkHtml;\n",
              "          element.appendChild(docLink);\n",
              "        }\n",
              "      </script>\n",
              "    </div>\n",
              "  </div>\n",
              "  "
            ]
          },
          "metadata": {},
          "execution_count": 5
        }
      ],
      "source": [
        "data.describe()"
      ]
    },
    {
      "cell_type": "code",
      "execution_count": null,
      "metadata": {
        "colab": {
          "base_uri": "https://localhost:8080/"
        },
        "id": "u_Af4_Kn9Bq6",
        "outputId": "efcad2a0-ec52-4cbd-fb6a-d03ab59fdb43"
      },
      "outputs": [
        {
          "output_type": "stream",
          "name": "stdout",
          "text": [
            "<class 'pandas.core.frame.DataFrame'>\n",
            "RangeIndex: 299 entries, 0 to 298\n",
            "Data columns (total 13 columns):\n",
            " #   Column                    Non-Null Count  Dtype  \n",
            "---  ------                    --------------  -----  \n",
            " 0   age                       299 non-null    float64\n",
            " 1   anaemia                   299 non-null    int64  \n",
            " 2   creatinine_phosphokinase  299 non-null    int64  \n",
            " 3   diabetes                  299 non-null    int64  \n",
            " 4   ejection_fraction         299 non-null    int64  \n",
            " 5   high_blood_pressure       299 non-null    int64  \n",
            " 6   platelets                 299 non-null    float64\n",
            " 7   serum_creatinine          299 non-null    float64\n",
            " 8   serum_sodium              299 non-null    int64  \n",
            " 9   sex                       299 non-null    int64  \n",
            " 10  smoking                   299 non-null    int64  \n",
            " 11  time                      299 non-null    int64  \n",
            " 12  DEATH_EVENT               299 non-null    int64  \n",
            "dtypes: float64(3), int64(10)\n",
            "memory usage: 30.5 KB\n"
          ]
        }
      ],
      "source": [
        "data.info()"
      ]
    },
    {
      "cell_type": "code",
      "execution_count": null,
      "metadata": {
        "colab": {
          "base_uri": "https://localhost:8080/"
        },
        "id": "UI20mgGk9DkJ",
        "outputId": "cd4b460c-f70f-4222-c337-214c8ede0ec6"
      },
      "outputs": [
        {
          "output_type": "execute_result",
          "data": {
            "text/plain": [
              "(299, 13)"
            ]
          },
          "metadata": {},
          "execution_count": 7
        }
      ],
      "source": [
        "data.shape"
      ]
    },
    {
      "cell_type": "markdown",
      "source": [
        "checking the shape of teh dataframe"
      ],
      "metadata": {
        "id": "Xy5LykpYkYAO"
      }
    },
    {
      "cell_type": "code",
      "execution_count": null,
      "metadata": {
        "colab": {
          "base_uri": "https://localhost:8080/"
        },
        "id": "5ygTAoAJ9FX9",
        "outputId": "1c2229b0-f585-4fac-d2e9-d2450fce4a15"
      },
      "outputs": [
        {
          "output_type": "execute_result",
          "data": {
            "text/plain": [
              "age                         0\n",
              "anaemia                     0\n",
              "creatinine_phosphokinase    0\n",
              "diabetes                    0\n",
              "ejection_fraction           0\n",
              "high_blood_pressure         0\n",
              "platelets                   0\n",
              "serum_creatinine            0\n",
              "serum_sodium                0\n",
              "sex                         0\n",
              "smoking                     0\n",
              "time                        0\n",
              "DEATH_EVENT                 0\n",
              "dtype: int64"
            ]
          },
          "metadata": {},
          "execution_count": 8
        }
      ],
      "source": [
        "data.isna().sum()"
      ]
    },
    {
      "cell_type": "markdown",
      "source": [
        "checking if there is any null value"
      ],
      "metadata": {
        "id": "pmo60psikayC"
      }
    },
    {
      "cell_type": "code",
      "execution_count": null,
      "metadata": {
        "colab": {
          "base_uri": "https://localhost:8080/",
          "height": 49
        },
        "id": "-ve2Qa9a9ysW",
        "outputId": "de4e2ebe-8acd-47a1-e345-0475d5ef704b"
      },
      "outputs": [
        {
          "output_type": "execute_result",
          "data": {
            "text/plain": [
              "Empty DataFrame\n",
              "Columns: [age, anaemia, creatinine_phosphokinase, diabetes, ejection_fraction, high_blood_pressure, platelets, serum_creatinine, serum_sodium, sex, smoking, time, DEATH_EVENT]\n",
              "Index: []"
            ],
            "text/html": [
              "\n",
              "  <div id=\"df-1e692a30-bb8e-4b28-bfaa-bdc940ab70fe\">\n",
              "    <div class=\"colab-df-container\">\n",
              "      <div>\n",
              "<style scoped>\n",
              "    .dataframe tbody tr th:only-of-type {\n",
              "        vertical-align: middle;\n",
              "    }\n",
              "\n",
              "    .dataframe tbody tr th {\n",
              "        vertical-align: top;\n",
              "    }\n",
              "\n",
              "    .dataframe thead th {\n",
              "        text-align: right;\n",
              "    }\n",
              "</style>\n",
              "<table border=\"1\" class=\"dataframe\">\n",
              "  <thead>\n",
              "    <tr style=\"text-align: right;\">\n",
              "      <th></th>\n",
              "      <th>age</th>\n",
              "      <th>anaemia</th>\n",
              "      <th>creatinine_phosphokinase</th>\n",
              "      <th>diabetes</th>\n",
              "      <th>ejection_fraction</th>\n",
              "      <th>high_blood_pressure</th>\n",
              "      <th>platelets</th>\n",
              "      <th>serum_creatinine</th>\n",
              "      <th>serum_sodium</th>\n",
              "      <th>sex</th>\n",
              "      <th>smoking</th>\n",
              "      <th>time</th>\n",
              "      <th>DEATH_EVENT</th>\n",
              "    </tr>\n",
              "  </thead>\n",
              "  <tbody>\n",
              "  </tbody>\n",
              "</table>\n",
              "</div>\n",
              "      <button class=\"colab-df-convert\" onclick=\"convertToInteractive('df-1e692a30-bb8e-4b28-bfaa-bdc940ab70fe')\"\n",
              "              title=\"Convert this dataframe to an interactive table.\"\n",
              "              style=\"display:none;\">\n",
              "        \n",
              "  <svg xmlns=\"http://www.w3.org/2000/svg\" height=\"24px\"viewBox=\"0 0 24 24\"\n",
              "       width=\"24px\">\n",
              "    <path d=\"M0 0h24v24H0V0z\" fill=\"none\"/>\n",
              "    <path d=\"M18.56 5.44l.94 2.06.94-2.06 2.06-.94-2.06-.94-.94-2.06-.94 2.06-2.06.94zm-11 1L8.5 8.5l.94-2.06 2.06-.94-2.06-.94L8.5 2.5l-.94 2.06-2.06.94zm10 10l.94 2.06.94-2.06 2.06-.94-2.06-.94-.94-2.06-.94 2.06-2.06.94z\"/><path d=\"M17.41 7.96l-1.37-1.37c-.4-.4-.92-.59-1.43-.59-.52 0-1.04.2-1.43.59L10.3 9.45l-7.72 7.72c-.78.78-.78 2.05 0 2.83L4 21.41c.39.39.9.59 1.41.59.51 0 1.02-.2 1.41-.59l7.78-7.78 2.81-2.81c.8-.78.8-2.07 0-2.86zM5.41 20L4 18.59l7.72-7.72 1.47 1.35L5.41 20z\"/>\n",
              "  </svg>\n",
              "      </button>\n",
              "      \n",
              "  <style>\n",
              "    .colab-df-container {\n",
              "      display:flex;\n",
              "      flex-wrap:wrap;\n",
              "      gap: 12px;\n",
              "    }\n",
              "\n",
              "    .colab-df-convert {\n",
              "      background-color: #E8F0FE;\n",
              "      border: none;\n",
              "      border-radius: 50%;\n",
              "      cursor: pointer;\n",
              "      display: none;\n",
              "      fill: #1967D2;\n",
              "      height: 32px;\n",
              "      padding: 0 0 0 0;\n",
              "      width: 32px;\n",
              "    }\n",
              "\n",
              "    .colab-df-convert:hover {\n",
              "      background-color: #E2EBFA;\n",
              "      box-shadow: 0px 1px 2px rgba(60, 64, 67, 0.3), 0px 1px 3px 1px rgba(60, 64, 67, 0.15);\n",
              "      fill: #174EA6;\n",
              "    }\n",
              "\n",
              "    [theme=dark] .colab-df-convert {\n",
              "      background-color: #3B4455;\n",
              "      fill: #D2E3FC;\n",
              "    }\n",
              "\n",
              "    [theme=dark] .colab-df-convert:hover {\n",
              "      background-color: #434B5C;\n",
              "      box-shadow: 0px 1px 3px 1px rgba(0, 0, 0, 0.15);\n",
              "      filter: drop-shadow(0px 1px 2px rgba(0, 0, 0, 0.3));\n",
              "      fill: #FFFFFF;\n",
              "    }\n",
              "  </style>\n",
              "\n",
              "      <script>\n",
              "        const buttonEl =\n",
              "          document.querySelector('#df-1e692a30-bb8e-4b28-bfaa-bdc940ab70fe button.colab-df-convert');\n",
              "        buttonEl.style.display =\n",
              "          google.colab.kernel.accessAllowed ? 'block' : 'none';\n",
              "\n",
              "        async function convertToInteractive(key) {\n",
              "          const element = document.querySelector('#df-1e692a30-bb8e-4b28-bfaa-bdc940ab70fe');\n",
              "          const dataTable =\n",
              "            await google.colab.kernel.invokeFunction('convertToInteractive',\n",
              "                                                     [key], {});\n",
              "          if (!dataTable) return;\n",
              "\n",
              "          const docLinkHtml = 'Like what you see? Visit the ' +\n",
              "            '<a target=\"_blank\" href=https://colab.research.google.com/notebooks/data_table.ipynb>data table notebook</a>'\n",
              "            + ' to learn more about interactive tables.';\n",
              "          element.innerHTML = '';\n",
              "          dataTable['output_type'] = 'display_data';\n",
              "          await google.colab.output.renderOutput(dataTable, element);\n",
              "          const docLink = document.createElement('div');\n",
              "          docLink.innerHTML = docLinkHtml;\n",
              "          element.appendChild(docLink);\n",
              "        }\n",
              "      </script>\n",
              "    </div>\n",
              "  </div>\n",
              "  "
            ]
          },
          "metadata": {},
          "execution_count": 9
        }
      ],
      "source": [
        "data[data.duplicated()]"
      ]
    },
    {
      "cell_type": "markdown",
      "source": [
        "checking if there is any duplicate value"
      ],
      "metadata": {
        "id": "_VnwkicYkdNP"
      }
    },
    {
      "cell_type": "markdown",
      "source": [
        "### Feature Wise Individual EDA"
      ],
      "metadata": {
        "id": "pMGJWLYqkg15"
      }
    },
    {
      "cell_type": "markdown",
      "source": [
        "####AGE"
      ],
      "metadata": {
        "id": "JPed65sdknmo"
      }
    },
    {
      "cell_type": "code",
      "execution_count": null,
      "metadata": {
        "colab": {
          "base_uri": "https://localhost:8080/",
          "height": 725
        },
        "id": "gL_bhJRw_YwO",
        "outputId": "5871411d-350f-4fd1-9603-8e4d71b45b3e"
      },
      "outputs": [
        {
          "output_type": "stream",
          "name": "stdout",
          "text": [
            "Top 5 Most Common Values in \"AGE\" column: \n",
            "60.0    33\n",
            "50.0    27\n",
            "65.0    26\n",
            "70.0    25\n",
            "45.0    19\n",
            "Name: age, dtype: int64\n",
            "\n",
            "Top 5 Least Common Values in \"AGE\" column: \n",
            "43.0    1\n",
            "86.0    1\n",
            "81.0    1\n",
            "79.0    1\n",
            "41.0    1\n",
            "Name: age, dtype: int64\n",
            "\n",
            "Axes(0.125,0.11;0.775x0.77)\n"
          ]
        },
        {
          "output_type": "display_data",
          "data": {
            "text/plain": [
              "<Figure size 640x480 with 1 Axes>"
            ],
            "image/png": "[encoded data removed]"
          },
          "metadata": {}
        }
      ],
      "source": [
        "print('Top 5 Most Common Values in \"AGE\" column: ')\n",
        "print(data['age'].value_counts().nlargest(5))\n",
        "print()\n",
        "print('Top 5 Least Common Values in \"AGE\" column: ')\n",
        "print(data['age'].value_counts().nsmallest(5))\n",
        "print()\n",
        "print(data['age'].hist(bins=20))"
      ]
    },
    {
      "cell_type": "code",
      "execution_count": null,
      "metadata": {
        "colab": {
          "base_uri": "https://localhost:8080/",
          "height": 452
        },
        "id": "dWQJbidvEuDK",
        "outputId": "b6a78c03-12e3-41d0-abfd-a405f4b1441f"
      },
      "outputs": [
        {
          "output_type": "display_data",
          "data": {
            "text/plain": [
              "<Figure size 640x480 with 1 Axes>"
            ],
            "image/png": "[encoded data removed]"
          },
          "metadata": {}
        }
      ],
      "source": [
        "plt.boxplot(data['age'])\n",
        "plt.title(\"Box Plot for Column 'AGE'\")\n",
        "plt.ylabel('Values')\n",
        "plt.show()"
      ]
    },
    {
      "cell_type": "markdown",
      "source": [
        "####ANAEMIA"
      ],
      "metadata": {
        "id": "ItcOOjF7kqyo"
      }
    },
    {
      "cell_type": "code",
      "execution_count": null,
      "metadata": {
        "colab": {
          "base_uri": "https://localhost:8080/",
          "height": 621
        },
        "id": "Ip-KMTM0D1s8",
        "outputId": "e32a5d17-8314-4f4c-e264-1f1b1efd7cd3"
      },
      "outputs": [
        {
          "output_type": "stream",
          "name": "stdout",
          "text": [
            "Top 5 Most Common Values in \"ANAEMIA\" column: \n",
            "0    170\n",
            "1    129\n",
            "Name: anaemia, dtype: int64\n",
            "\n",
            "Top 5 Least Common Values in \"ANAEMIA\" column: \n",
            "1    129\n",
            "0    170\n",
            "Name: anaemia, dtype: int64\n",
            "\n"
          ]
        },
        {
          "output_type": "execute_result",
          "data": {
            "text/plain": [
              "<Axes: >"
            ]
          },
          "metadata": {},
          "execution_count": 12
        },
        {
          "output_type": "display_data",
          "data": {
            "text/plain": [
              "<Figure size 640x480 with 1 Axes>"
            ],
            "image/png": "[encoded data removed]"
          },
          "metadata": {}
        }
      ],
      "source": [
        "print('Top 5 Most Common Values in \"ANAEMIA\" column: ')\n",
        "print(data['anaemia'].value_counts().nlargest(5))\n",
        "print()\n",
        "print('Top 5 Least Common Values in \"ANAEMIA\" column: ')\n",
        "print(data['anaemia'].value_counts().nsmallest(5))\n",
        "print()\n",
        "data['anaemia'].hist(bins=20)"
      ]
    },
    {
      "cell_type": "markdown",
      "source": [
        "####CREATININE PHOSPHOKINASE"
      ],
      "metadata": {
        "id": "WAnLW0OJku9Y"
      }
    },
    {
      "cell_type": "code",
      "execution_count": null,
      "metadata": {
        "colab": {
          "base_uri": "https://localhost:8080/",
          "height": 725
        },
        "id": "IBdsX1ZXFBCm",
        "outputId": "972caff5-3243-407d-8a19-85a29e58f252"
      },
      "outputs": [
        {
          "output_type": "stream",
          "name": "stdout",
          "text": [
            "Top 5 Most Common Values in \"CREATININE PHOSPHOKINASE\" column: \n",
            "582    47\n",
            "66      4\n",
            "129     4\n",
            "231     3\n",
            "69      3\n",
            "Name: creatinine_phosphokinase, dtype: int64\n",
            "\n",
            "Top 5 Least Common Values in \"CREATININE PHOSPHOKINASE\" column: \n",
            "151    1\n",
            "320    1\n",
            "244    1\n",
            "62     1\n",
            "121    1\n",
            "Name: creatinine_phosphokinase, dtype: int64\n",
            "\n",
            "Axes(0.125,0.11;0.775x0.77)\n"
          ]
        },
        {
          "output_type": "display_data",
          "data": {
            "text/plain": [
              "<Figure size 640x480 with 1 Axes>"
            ],
            "image/png": "[encoded data removed]"
          },
          "metadata": {}
        }
      ],
      "source": [
        "print('Top 5 Most Common Values in \"CREATININE PHOSPHOKINASE\" column: ')\n",
        "print(data['creatinine_phosphokinase'].value_counts().nlargest(5))\n",
        "print()\n",
        "print('Top 5 Least Common Values in \"CREATININE PHOSPHOKINASE\" column: ')\n",
        "print(data['creatinine_phosphokinase'].value_counts().nsmallest(5))\n",
        "print()\n",
        "print(data['creatinine_phosphokinase'].hist(bins=20))"
      ]
    },
    {
      "cell_type": "code",
      "execution_count": null,
      "metadata": {
        "colab": {
          "base_uri": "https://localhost:8080/",
          "height": 452
        },
        "id": "FTkyydDRF8vQ",
        "outputId": "e588461e-171b-4ba2-e75d-f418dcc0bfd3"
      },
      "outputs": [
        {
          "output_type": "display_data",
          "data": {
            "text/plain": [
              "<Figure size 640x480 with 1 Axes>"
            ],
            "image/png": "[encoded data removed]"
          },
          "metadata": {}
        }
      ],
      "source": [
        "plt.boxplot(data['creatinine_phosphokinase'])\n",
        "plt.title(\"Box Plot for Column 'CREATININE PHOSPHOKINASE'\")\n",
        "plt.ylabel('Values')\n",
        "plt.show()"
      ]
    },
    {
      "cell_type": "markdown",
      "source": [
        "####DIABETES"
      ],
      "metadata": {
        "id": "tNfkv9P1kzYt"
      }
    },
    {
      "cell_type": "code",
      "execution_count": null,
      "metadata": {
        "colab": {
          "base_uri": "https://localhost:8080/",
          "height": 621
        },
        "id": "4IWuFV9gGWOC",
        "outputId": "681d69d7-ab59-4b34-cb5a-a14970fe484e"
      },
      "outputs": [
        {
          "output_type": "stream",
          "name": "stdout",
          "text": [
            "Top 5 Most Common Values in \"DIABETES\" column: \n",
            "0    174\n",
            "1    125\n",
            "Name: diabetes, dtype: int64\n",
            "\n",
            "Top 5 Least Common Values in \"DIABETES\" column: \n",
            "1    125\n",
            "0    174\n",
            "Name: diabetes, dtype: int64\n",
            "\n",
            "Axes(0.125,0.11;0.775x0.77)\n"
          ]
        },
        {
          "output_type": "display_data",
          "data": {
            "text/plain": [
              "<Figure size 640x480 with 1 Axes>"
            ],
            "image/png": "[encoded data removed]"
          },
          "metadata": {}
        }
      ],
      "source": [
        "print('Top 5 Most Common Values in \"DIABETES\" column: ')\n",
        "print(data['diabetes'].value_counts().nlargest(5))\n",
        "print()\n",
        "print('Top 5 Least Common Values in \"DIABETES\" column: ')\n",
        "print(data['diabetes'].value_counts().nsmallest(5))\n",
        "print()\n",
        "print(data['diabetes'].hist(bins=20))"
      ]
    },
    {
      "cell_type": "markdown",
      "source": [
        "####EJECTION FRACTION"
      ],
      "metadata": {
        "id": "jYuoxfDQk2S5"
      }
    },
    {
      "cell_type": "code",
      "execution_count": null,
      "metadata": {
        "colab": {
          "base_uri": "https://localhost:8080/",
          "height": 726
        },
        "id": "1vi-4tZuGyK6",
        "outputId": "87891864-5975-4896-df20-dc46fb2eda3b"
      },
      "outputs": [
        {
          "output_type": "stream",
          "name": "stdout",
          "text": [
            "Top 5 Most Common Values in \"EJECTION FRACTION\" column: \n",
            "35    49\n",
            "38    40\n",
            "40    37\n",
            "25    36\n",
            "30    34\n",
            "Name: ejection_fraction, dtype: int64\n",
            "\n",
            "Top 5 Least Common Values in \"EJECTION FRACTION\" column: \n",
            "65    1\n",
            "14    1\n",
            "80    1\n",
            "70    1\n",
            "15    2\n",
            "Name: ejection_fraction, dtype: int64\n",
            "\n",
            "Axes(0.125,0.11;0.775x0.77)\n"
          ]
        },
        {
          "output_type": "display_data",
          "data": {
            "text/plain": [
              "<Figure size 640x480 with 1 Axes>"
            ],
            "image/png": "[encoded data removed]"
          },
          "metadata": {}
        }
      ],
      "source": [
        "print('Top 5 Most Common Values in \"EJECTION FRACTION\" column: ')\n",
        "print(data['ejection_fraction'].value_counts().nlargest(5))\n",
        "print()\n",
        "print('Top 5 Least Common Values in \"EJECTION FRACTION\" column: ')\n",
        "print(data['ejection_fraction'].value_counts().nsmallest(5))\n",
        "print()\n",
        "print(data['ejection_fraction'].hist(bins=15))"
      ]
    },
    {
      "cell_type": "code",
      "execution_count": null,
      "metadata": {
        "colab": {
          "base_uri": "https://localhost:8080/",
          "height": 452
        },
        "id": "6LF9_S0NG_8S",
        "outputId": "b11a0e93-04b9-403d-de9c-70909102aba9"
      },
      "outputs": [
        {
          "output_type": "display_data",
          "data": {
            "text/plain": [
              "<Figure size 640x480 with 1 Axes>"
            ],
            "image/png": "[encoded data removed]"
          },
          "metadata": {}
        }
      ],
      "source": [
        "plt.boxplot(data['ejection_fraction'])\n",
        "plt.title(\"Box Plot for Column 'EJECTION FRACTION'\")\n",
        "plt.ylabel('Values')\n",
        "plt.show()"
      ]
    },
    {
      "cell_type": "markdown",
      "source": [
        "####HIGH BLOOD PRESSURE"
      ],
      "metadata": {
        "id": "y7-XREF6k5Rg"
      }
    },
    {
      "cell_type": "code",
      "execution_count": null,
      "metadata": {
        "colab": {
          "base_uri": "https://localhost:8080/",
          "height": 621
        },
        "id": "9mSNqv6kHEvZ",
        "outputId": "490f3db2-0ec3-4e58-8653-2d0c1758465c"
      },
      "outputs": [
        {
          "output_type": "stream",
          "name": "stdout",
          "text": [
            "Top 5 Most Common Values in \"HIGH BLOOD PRESSURE\" column: \n",
            "0    194\n",
            "1    105\n",
            "Name: high_blood_pressure, dtype: int64\n",
            "\n",
            "Top 5 Least Common Values in \"HIGH BLOOD PRESSURE\" column: \n",
            "1    105\n",
            "0    194\n",
            "Name: high_blood_pressure, dtype: int64\n",
            "\n",
            "Axes(0.125,0.11;0.775x0.77)\n"
          ]
        },
        {
          "output_type": "display_data",
          "data": {
            "text/plain": [
              "<Figure size 640x480 with 1 Axes>"
            ],
            "image/png": "[encoded data removed]"
          },
          "metadata": {}
        }
      ],
      "source": [
        "print('Top 5 Most Common Values in \"HIGH BLOOD PRESSURE\" column: ')\n",
        "print(data['high_blood_pressure'].value_counts().nlargest(5))\n",
        "print()\n",
        "print('Top 5 Least Common Values in \"HIGH BLOOD PRESSURE\" column: ')\n",
        "print(data['high_blood_pressure'].value_counts().nsmallest(5))\n",
        "print()\n",
        "print(data['high_blood_pressure'].hist(bins=15))"
      ]
    },
    {
      "cell_type": "markdown",
      "source": [
        "####PLATELETS"
      ],
      "metadata": {
        "id": "geEi4OEDk7w6"
      }
    },
    {
      "cell_type": "code",
      "execution_count": null,
      "metadata": {
        "colab": {
          "base_uri": "https://localhost:8080/",
          "height": 725
        },
        "id": "YlAPMuGXHTPO",
        "outputId": "f21ea79b-03f6-43b5-8d14-2d27902d5645"
      },
      "outputs": [
        {
          "output_type": "stream",
          "name": "stdout",
          "text": [
            "Top 5 Most Common Values in \"PLATELETS\" column: \n",
            "263358.03    25\n",
            "221000.00     4\n",
            "279000.00     4\n",
            "271000.00     4\n",
            "305000.00     4\n",
            "Name: platelets, dtype: int64\n",
            "\n",
            "Top 5 Least Common Values in \"PLATELETS\" column: \n",
            "260000.0    1\n",
            "186000.0    1\n",
            "130000.0    1\n",
            "371000.0    1\n",
            "151000.0    1\n",
            "Name: platelets, dtype: int64\n",
            "\n",
            "Axes(0.125,0.11;0.775x0.77)\n"
          ]
        },
        {
          "output_type": "display_data",
          "data": {
            "text/plain": [
              "<Figure size 640x480 with 1 Axes>"
            ],
            "image/png": "[encoded data removed]"
          },
          "metadata": {}
        }
      ],
      "source": [
        "print('Top 5 Most Common Values in \"PLATELETS\" column: ')\n",
        "print(data['platelets'].value_counts().nlargest(5))\n",
        "print()\n",
        "print('Top 5 Least Common Values in \"PLATELETS\" column: ')\n",
        "print(data['platelets'].value_counts().nsmallest(5))\n",
        "print()\n",
        "print(data['platelets'].hist(bins=15))"
      ]
    },
    {
      "cell_type": "code",
      "execution_count": null,
      "metadata": {
        "colab": {
          "base_uri": "https://localhost:8080/",
          "height": 452
        },
        "id": "cyr5cez6Heyo",
        "outputId": "61a2284f-429f-4976-d2ec-20a9a7fcadfd"
      },
      "outputs": [
        {
          "output_type": "display_data",
          "data": {
            "text/plain": [
              "<Figure size 640x480 with 1 Axes>"
            ],
            "image/png": "[encoded data removed]"
          },
          "metadata": {}
        }
      ],
      "source": [
        "plt.boxplot(data['platelets'])\n",
        "plt.title(\"Box Plot for Column 'PLATELETS'\")\n",
        "plt.ylabel('Values')\n",
        "plt.show()"
      ]
    },
    {
      "cell_type": "markdown",
      "source": [
        "####SERUM CREATININE"
      ],
      "metadata": {
        "id": "XTqA6jImk-hm"
      }
    },
    {
      "cell_type": "code",
      "execution_count": null,
      "metadata": {
        "colab": {
          "base_uri": "https://localhost:8080/",
          "height": 725
        },
        "id": "J3UwBuHfHqm4",
        "outputId": "2187e476-f9ce-4f35-a07b-0e7f8db8f717"
      },
      "outputs": [
        {
          "output_type": "stream",
          "name": "stdout",
          "text": [
            "Top 5 Most Common Values in \"SERUM CREATININE\" column: \n",
            "1.0    50\n",
            "1.1    32\n",
            "0.9    32\n",
            "1.2    24\n",
            "0.8    24\n",
            "Name: serum_creatinine, dtype: int64\n",
            "\n",
            "Top 5 Least Common Values in \"SERUM CREATININE\" column: \n",
            "0.50    1\n",
            "5.00    1\n",
            "0.75    1\n",
            "6.10    1\n",
            "3.40    1\n",
            "Name: serum_creatinine, dtype: int64\n",
            "\n",
            "Axes(0.125,0.11;0.775x0.77)\n"
          ]
        },
        {
          "output_type": "display_data",
          "data": {
            "text/plain": [
              "<Figure size 640x480 with 1 Axes>"
            ],
            "image/png": "[encoded data removed]"
          },
          "metadata": {}
        }
      ],
      "source": [
        "print('Top 5 Most Common Values in \"SERUM CREATININE\" column: ')\n",
        "print(data['serum_creatinine'].value_counts().nlargest(5))\n",
        "print()\n",
        "print('Top 5 Least Common Values in \"SERUM CREATININE\" column: ')\n",
        "print(data['serum_creatinine'].value_counts().nsmallest(5))\n",
        "print()\n",
        "print(data['serum_creatinine'].hist(bins=15)) "
      ]
    },
    {
      "cell_type": "code",
      "execution_count": null,
      "metadata": {
        "colab": {
          "base_uri": "https://localhost:8080/",
          "height": 452
        },
        "id": "aThOI0RQH7TQ",
        "outputId": "63767ec7-5421-4c55-bd72-c3658290fdeb"
      },
      "outputs": [
        {
          "output_type": "display_data",
          "data": {
            "text/plain": [
              "<Figure size 640x480 with 1 Axes>"
            ],
            "image/png": "[encoded data removed]"
          },
          "metadata": {}
        }
      ],
      "source": [
        "plt.boxplot(data['serum_creatinine'])\n",
        "plt.title(\"Box Plot for Column 'SERUM CREATININE'\")\n",
        "plt.ylabel('Values')\n",
        "plt.show()"
      ]
    },
    {
      "cell_type": "markdown",
      "source": [
        "####SERUM SODIUM"
      ],
      "metadata": {
        "id": "Hdd_ZnEelBzI"
      }
    },
    {
      "cell_type": "code",
      "execution_count": null,
      "metadata": {
        "colab": {
          "base_uri": "https://localhost:8080/",
          "height": 725
        },
        "id": "0tVgqYCWIBI9",
        "outputId": "b50ba0a7-b09c-4f0c-9d34-7560003c52f6"
      },
      "outputs": [
        {
          "output_type": "stream",
          "name": "stdout",
          "text": [
            "Top 5 Most Common Values in \"SERUM SODIUM\" column: \n",
            "136    40\n",
            "137    38\n",
            "140    35\n",
            "134    32\n",
            "138    23\n",
            "Name: serum_sodium, dtype: int64\n",
            "\n",
            "Top 5 Least Common Values in \"SERUM SODIUM\" column: \n",
            "121    1\n",
            "116    1\n",
            "146    1\n",
            "126    1\n",
            "124    1\n",
            "Name: serum_sodium, dtype: int64\n",
            "\n",
            "Axes(0.125,0.11;0.775x0.77)\n"
          ]
        },
        {
          "output_type": "display_data",
          "data": {
            "text/plain": [
              "<Figure size 640x480 with 1 Axes>"
            ],
            "image/png": "[encoded data removed]"
          },
          "metadata": {}
        }
      ],
      "source": [
        "print('Top 5 Most Common Values in \"SERUM SODIUM\" column: ')\n",
        "print(data['serum_sodium'].value_counts().nlargest(5))\n",
        "print()\n",
        "print('Top 5 Least Common Values in \"SERUM SODIUM\" column: ')\n",
        "print(data['serum_sodium'].value_counts().nsmallest(5))\n",
        "print()\n",
        "print(data['serum_sodium'].hist(bins=15))"
      ]
    },
    {
      "cell_type": "code",
      "execution_count": null,
      "metadata": {
        "colab": {
          "base_uri": "https://localhost:8080/",
          "height": 452
        },
        "id": "mRlj0KzuILP5",
        "outputId": "fd66bf13-34da-4c02-9bc4-73328534373d"
      },
      "outputs": [
        {
          "output_type": "display_data",
          "data": {
            "text/plain": [
              "<Figure size 640x480 with 1 Axes>"
            ],
            "image/png": "[encoded data removed]"
          },
          "metadata": {}
        }
      ],
      "source": [
        "plt.boxplot(data['serum_sodium'])\n",
        "plt.title(\"Box Plot for Column 'SERUM SODIUM'\")\n",
        "plt.ylabel('Values')\n",
        "plt.show()"
      ]
    },
    {
      "cell_type": "markdown",
      "source": [
        "####SEX"
      ],
      "metadata": {
        "id": "U_cl8ZiBlEHH"
      }
    },
    {
      "cell_type": "code",
      "execution_count": null,
      "metadata": {
        "colab": {
          "base_uri": "https://localhost:8080/",
          "height": 621
        },
        "id": "wmHuv_7BIP4Y",
        "outputId": "1483e0c5-56d8-4892-f304-eeecb9d1176a"
      },
      "outputs": [
        {
          "output_type": "stream",
          "name": "stdout",
          "text": [
            "Top 5 Most Common Values in \"SEx\" column: \n",
            "1    194\n",
            "0    105\n",
            "Name: sex, dtype: int64\n",
            "\n",
            "Top 5 Least Common Values in \"SEX\" column: \n",
            "0    105\n",
            "1    194\n",
            "Name: sex, dtype: int64\n",
            "\n",
            "Axes(0.125,0.11;0.775x0.77)\n"
          ]
        },
        {
          "output_type": "display_data",
          "data": {
            "text/plain": [
              "<Figure size 640x480 with 1 Axes>"
            ],
            "image/png": "[encoded data removed]"
          },
          "metadata": {}
        }
      ],
      "source": [
        "print('Top 5 Most Common Values in \"SEx\" column: ')\n",
        "print(data['sex'].value_counts().nlargest(5))\n",
        "print()\n",
        "print('Top 5 Least Common Values in \"SEX\" column: ')\n",
        "print(data['sex'].value_counts().nsmallest(5))\n",
        "print()\n",
        "print(data['sex'].hist(bins=15))"
      ]
    },
    {
      "cell_type": "markdown",
      "source": [
        "####SMOKING"
      ],
      "metadata": {
        "id": "rRpqGGoGlGeF"
      }
    },
    {
      "cell_type": "code",
      "execution_count": null,
      "metadata": {
        "colab": {
          "base_uri": "https://localhost:8080/",
          "height": 621
        },
        "id": "CDeKqhWSIXzA",
        "outputId": "df596feb-f1de-4f35-d7af-f621ec7f7502"
      },
      "outputs": [
        {
          "output_type": "stream",
          "name": "stdout",
          "text": [
            "Top 5 Most Common Values in \"SMOKING\" column: \n",
            "0    203\n",
            "1     96\n",
            "Name: smoking, dtype: int64\n",
            "\n",
            "Top 5 Least Common Values in \"SMOKING\" column: \n",
            "1     96\n",
            "0    203\n",
            "Name: smoking, dtype: int64\n",
            "\n",
            "Axes(0.125,0.11;0.775x0.77)\n"
          ]
        },
        {
          "output_type": "display_data",
          "data": {
            "text/plain": [
              "<Figure size 640x480 with 1 Axes>"
            ],
            "image/png": "[encoded data removed]"
          },
          "metadata": {}
        }
      ],
      "source": [
        "print('Top 5 Most Common Values in \"SMOKING\" column: ')\n",
        "print(data['smoking'].value_counts().nlargest(5))\n",
        "print()\n",
        "print('Top 5 Least Common Values in \"SMOKING\" column: ')\n",
        "print(data['smoking'].value_counts().nsmallest(5))\n",
        "print()\n",
        "print(data['smoking'].hist(bins=15))"
      ]
    },
    {
      "cell_type": "markdown",
      "source": [
        "####TIME"
      ],
      "metadata": {
        "id": "CvblEU8alItT"
      }
    },
    {
      "cell_type": "code",
      "execution_count": null,
      "metadata": {
        "colab": {
          "base_uri": "https://localhost:8080/",
          "height": 725
        },
        "id": "aorcvweZIgSE",
        "outputId": "7339c895-7bf9-4fab-db0f-7c035720e6b1"
      },
      "outputs": [
        {
          "output_type": "stream",
          "name": "stdout",
          "text": [
            "Top 5 Most Common Values in \"TIME\" column: \n",
            "250    7\n",
            "187    7\n",
            "10     6\n",
            "186    6\n",
            "107    6\n",
            "Name: time, dtype: int64\n",
            "\n",
            "Top 5 Least Common Values in \"TIME\" column: \n",
            "175    1\n",
            "185    1\n",
            "193    1\n",
            "195    1\n",
            "194    1\n",
            "Name: time, dtype: int64\n",
            "\n",
            "Axes(0.125,0.11;0.775x0.77)\n"
          ]
        },
        {
          "output_type": "display_data",
          "data": {
            "text/plain": [
              "<Figure size 640x480 with 1 Axes>"
            ],
            "image/png": "[encoded data removed]"
          },
          "metadata": {}
        }
      ],
      "source": [
        "print('Top 5 Most Common Values in \"TIME\" column: ')\n",
        "print(data['time'].value_counts().nlargest(5))\n",
        "print()\n",
        "print('Top 5 Least Common Values in \"TIME\" column: ')\n",
        "print(data['time'].value_counts().nsmallest(5))\n",
        "print()\n",
        "print(data['time'].hist(bins=15))"
      ]
    },
    {
      "cell_type": "code",
      "execution_count": null,
      "metadata": {
        "colab": {
          "base_uri": "https://localhost:8080/",
          "height": 452
        },
        "id": "Swpiv5RYIs7f",
        "outputId": "f912e7e1-07a6-4062-ba6b-18e14e42ce50"
      },
      "outputs": [
        {
          "output_type": "display_data",
          "data": {
            "text/plain": [
              "<Figure size 640x480 with 1 Axes>"
            ],
            "image/png": "[encoded data removed]"
          },
          "metadata": {}
        }
      ],
      "source": [
        "plt.boxplot(data['time'])\n",
        "plt.title(\"Box Plot for Column 'TIME'\")\n",
        "plt.ylabel('Values')\n",
        "plt.show()"
      ]
    },
    {
      "cell_type": "markdown",
      "source": [
        "####CORRELATION HEATMAP"
      ],
      "metadata": {
        "id": "DDbSTT4OlLyW"
      }
    },
    {
      "cell_type": "code",
      "execution_count": null,
      "metadata": {
        "colab": {
          "base_uri": "https://localhost:8080/",
          "height": 865
        },
        "id": "UHFV6lWWLmja",
        "outputId": "9e2b1d76-a78f-46fa-d689-2e8314fa87a2"
      },
      "outputs": [
        {
          "output_type": "display_data",
          "data": {
            "text/plain": [
              "<Figure size 1000x800 with 2 Axes>"
            ],
            "image/png": "[encoded data removed]"
          },
          "metadata": {}
        }
      ],
      "source": [
        "corr_matrix = data.corr()\n",
        "plt.figure(figsize=(10, 8))\n",
        "sns.heatmap(corr_matrix, annot=True, cmap='coolwarm', linewidths=.1)\n",
        "plt.title(\"Correlation Heatmap\")\n",
        "plt.show()"
      ]
    },
    {
      "cell_type": "markdown",
      "source": [
        "SCATTER PLOT BETWEEN EACH FEATURE"
      ],
      "metadata": {
        "id": "J4GP_92xlSbf"
      }
    },
    {
      "cell_type": "code",
      "execution_count": null,
      "metadata": {
        "id": "nygfv38UXQxO"
      },
      "outputs": [],
      "source": [
        "sns.pairplot(data)\n",
        "sns.pairplot(data, kind='reg')\n",
        "plt.show()"
      ]
    },
    {
      "cell_type": "markdown",
      "source": [
        "##Data Preprocessing from Scratch"
      ],
      "metadata": {
        "id": "OKekkf6ZmbMg"
      }
    },
    {
      "cell_type": "code",
      "execution_count": null,
      "metadata": {
        "id": "ftqApQevibe0"
      },
      "outputs": [],
      "source": [
        "def detect_outliers(df,features):\n",
        "    outlier_indices = []\n",
        "    \n",
        "    for c in features:\n",
        "        # 1st quartile\n",
        "        Q1 = np.percentile(df[c],25)\n",
        "        # 3st quartile\n",
        "        Q3 = np.percentile(df[c],75)\n",
        "        # IQR\n",
        "        IQR = Q3 - Q1\n",
        "        # Outlier Step\n",
        "        outlier_step = IQR * 1.5\n",
        "        # detect outlier and their indeces\n",
        "        outlier_list_col = df[(df[c] < Q1 - outlier_step) | (df[c] > Q3 + outlier_step)].index\n",
        "        # store indeces \n",
        "        outlier_indices.extend(outlier_list_col)\n",
        "        \n",
        "    outlier_indices = Counter(outlier_indices)\n",
        "    multiple_outliers = list(i for i, v in outlier_indices.items() if v > 1) \n",
        "    \n",
        "    return multiple_outliers"
      ]
    },
    {
      "cell_type": "markdown",
      "metadata": {
        "id": "CLY0w5MnlUbe"
      },
      "source": [
        "Cheaking for outliers"
      ]
    },
    {
      "cell_type": "code",
      "execution_count": null,
      "metadata": {
        "colab": {
          "base_uri": "https://localhost:8080/",
          "height": 363
        },
        "id": "JrsS2GF_ieAU",
        "outputId": "824f2b89-aca0-4949-fe77-0f632e514312"
      },
      "outputs": [
        {
          "output_type": "execute_result",
          "data": {
            "text/plain": [
              "      age  anaemia  creatinine_phosphokinase  diabetes  ejection_fraction  \\\n",
              "38   60.0        0                      2656         1                 30   \n",
              "52   60.0        0                      3964         1                 62   \n",
              "163  50.0        1                      2334         1                 35   \n",
              "200  63.0        1                      1767         0                 45   \n",
              "296  45.0        0                      2060         1                 60   \n",
              "217  54.0        1                       427         0                 70   \n",
              "117  85.0        1                       102         0                 60   \n",
              "167  59.0        0                        66         1                 20   \n",
              "281  70.0        0                       582         0                 40   \n",
              "4    65.0        1                       160         1                 20   \n",
              "\n",
              "     high_blood_pressure  platelets  serum_creatinine  serum_sodium  sex  \\\n",
              "38                     0  305000.00               2.3           137    1   \n",
              "52                     0  263358.03               6.8           146    0   \n",
              "163                    0   75000.00               0.9           142    0   \n",
              "200                    0   73000.00               0.7           137    1   \n",
              "296                    0  742000.00               0.8           138    0   \n",
              "217                    1  151000.00               9.0           137    0   \n",
              "117                    0  507000.00               3.2           138    0   \n",
              "167                    0   70000.00               2.4           134    1   \n",
              "281                    0   51000.00               2.7           136    1   \n",
              "4                      0  327000.00               2.7           116    0   \n",
              "\n",
              "     smoking  time  DEATH_EVENT  \n",
              "38         0    30            0  \n",
              "52         0    43            1  \n",
              "163        0   126            1  \n",
              "200        0   186            0  \n",
              "296        0   278            0  \n",
              "217        0   196            1  \n",
              "117        0    94            0  \n",
              "167        0   135            1  \n",
              "281        1   250            0  \n",
              "4          0     8            1  "
            ],
            "text/html": [
              "\n",
              "  <div id=\"df-c43da525-0cc4-4900-8946-1d3aa25f8409\">\n",
              "    <div class=\"colab-df-container\">\n",
              "      <div>\n",
              "<style scoped>\n",
              "    .dataframe tbody tr th:only-of-type {\n",
              "        vertical-align: middle;\n",
              "    }\n",
              "\n",
              "    .dataframe tbody tr th {\n",
              "        vertical-align: top;\n",
              "    }\n",
              "\n",
              "    .dataframe thead th {\n",
              "        text-align: right;\n",
              "    }\n",
              "</style>\n",
              "<table border=\"1\" class=\"dataframe\">\n",
              "  <thead>\n",
              "    <tr style=\"text-align: right;\">\n",
              "      <th></th>\n",
              "      <th>age</th>\n",
              "      <th>anaemia</th>\n",
              "      <th>creatinine_phosphokinase</th>\n",
              "      <th>diabetes</th>\n",
              "      <th>ejection_fraction</th>\n",
              "      <th>high_blood_pressure</th>\n",
              "      <th>platelets</th>\n",
              "      <th>serum_creatinine</th>\n",
              "      <th>serum_sodium</th>\n",
              "      <th>sex</th>\n",
              "      <th>smoking</th>\n",
              "      <th>time</th>\n",
              "      <th>DEATH_EVENT</th>\n",
              "    </tr>\n",
              "  </thead>\n",
              "  <tbody>\n",
              "    <tr>\n",
              "      <th>38</th>\n",
              "      <td>60.0</td>\n",
              "      <td>0</td>\n",
              "      <td>2656</td>\n",
              "      <td>1</td>\n",
              "      <td>30</td>\n",
              "      <td>0</td>\n",
              "      <td>305000.00</td>\n",
              "      <td>2.3</td>\n",
              "      <td>137</td>\n",
              "      <td>1</td>\n",
              "      <td>0</td>\n",
              "      <td>30</td>\n",
              "      <td>0</td>\n",
              "    </tr>\n",
              "    <tr>\n",
              "      <th>52</th>\n",
              "      <td>60.0</td>\n",
              "      <td>0</td>\n",
              "      <td>3964</td>\n",
              "      <td>1</td>\n",
              "      <td>62</td>\n",
              "      <td>0</td>\n",
              "      <td>263358.03</td>\n",
              "      <td>6.8</td>\n",
              "      <td>146</td>\n",
              "      <td>0</td>\n",
              "      <td>0</td>\n",
              "      <td>43</td>\n",
              "      <td>1</td>\n",
              "    </tr>\n",
              "    <tr>\n",
              "      <th>163</th>\n",
              "      <td>50.0</td>\n",
              "      <td>1</td>\n",
              "      <td>2334</td>\n",
              "      <td>1</td>\n",
              "      <td>35</td>\n",
              "      <td>0</td>\n",
              "      <td>75000.00</td>\n",
              "      <td>0.9</td>\n",
              "      <td>142</td>\n",
              "      <td>0</td>\n",
              "      <td>0</td>\n",
              "      <td>126</td>\n",
              "      <td>1</td>\n",
              "    </tr>\n",
              "    <tr>\n",
              "      <th>200</th>\n",
              "      <td>63.0</td>\n",
              "      <td>1</td>\n",
              "      <td>1767</td>\n",
              "      <td>0</td>\n",
              "      <td>45</td>\n",
              "      <td>0</td>\n",
              "      <td>73000.00</td>\n",
              "      <td>0.7</td>\n",
              "      <td>137</td>\n",
              "      <td>1</td>\n",
              "      <td>0</td>\n",
              "      <td>186</td>\n",
              "      <td>0</td>\n",
              "    </tr>\n",
              "    <tr>\n",
              "      <th>296</th>\n",
              "      <td>45.0</td>\n",
              "      <td>0</td>\n",
              "      <td>2060</td>\n",
              "      <td>1</td>\n",
              "      <td>60</td>\n",
              "      <td>0</td>\n",
              "      <td>742000.00</td>\n",
              "      <td>0.8</td>\n",
              "      <td>138</td>\n",
              "      <td>0</td>\n",
              "      <td>0</td>\n",
              "      <td>278</td>\n",
              "      <td>0</td>\n",
              "    </tr>\n",
              "    <tr>\n",
              "      <th>217</th>\n",
              "      <td>54.0</td>\n",
              "      <td>1</td>\n",
              "      <td>427</td>\n",
              "      <td>0</td>\n",
              "      <td>70</td>\n",
              "      <td>1</td>\n",
              "      <td>151000.00</td>\n",
              "      <td>9.0</td>\n",
              "      <td>137</td>\n",
              "      <td>0</td>\n",
              "      <td>0</td>\n",
              "      <td>196</td>\n",
              "      <td>1</td>\n",
              "    </tr>\n",
              "    <tr>\n",
              "      <th>117</th>\n",
              "      <td>85.0</td>\n",
              "      <td>1</td>\n",
              "      <td>102</td>\n",
              "      <td>0</td>\n",
              "      <td>60</td>\n",
              "      <td>0</td>\n",
              "      <td>507000.00</td>\n",
              "      <td>3.2</td>\n",
              "      <td>138</td>\n",
              "      <td>0</td>\n",
              "      <td>0</td>\n",
              "      <td>94</td>\n",
              "      <td>0</td>\n",
              "    </tr>\n",
              "    <tr>\n",
              "      <th>167</th>\n",
              "      <td>59.0</td>\n",
              "      <td>0</td>\n",
              "      <td>66</td>\n",
              "      <td>1</td>\n",
              "      <td>20</td>\n",
              "      <td>0</td>\n",
              "      <td>70000.00</td>\n",
              "      <td>2.4</td>\n",
              "      <td>134</td>\n",
              "      <td>1</td>\n",
              "      <td>0</td>\n",
              "      <td>135</td>\n",
              "      <td>1</td>\n",
              "    </tr>\n",
              "    <tr>\n",
              "      <th>281</th>\n",
              "      <td>70.0</td>\n",
              "      <td>0</td>\n",
              "      <td>582</td>\n",
              "      <td>0</td>\n",
              "      <td>40</td>\n",
              "      <td>0</td>\n",
              "      <td>51000.00</td>\n",
              "      <td>2.7</td>\n",
              "      <td>136</td>\n",
              "      <td>1</td>\n",
              "      <td>1</td>\n",
              "      <td>250</td>\n",
              "      <td>0</td>\n",
              "    </tr>\n",
              "    <tr>\n",
              "      <th>4</th>\n",
              "      <td>65.0</td>\n",
              "      <td>1</td>\n",
              "      <td>160</td>\n",
              "      <td>1</td>\n",
              "      <td>20</td>\n",
              "      <td>0</td>\n",
              "      <td>327000.00</td>\n",
              "      <td>2.7</td>\n",
              "      <td>116</td>\n",
              "      <td>0</td>\n",
              "      <td>0</td>\n",
              "      <td>8</td>\n",
              "      <td>1</td>\n",
              "    </tr>\n",
              "  </tbody>\n",
              "</table>\n",
              "</div>\n",
              "      <button class=\"colab-df-convert\" onclick=\"convertToInteractive('df-c43da525-0cc4-4900-8946-1d3aa25f8409')\"\n",
              "              title=\"Convert this dataframe to an interactive table.\"\n",
              "              style=\"display:none;\">\n",
              "        \n",
              "  <svg xmlns=\"http://www.w3.org/2000/svg\" height=\"24px\"viewBox=\"0 0 24 24\"\n",
              "       width=\"24px\">\n",
              "    <path d=\"M0 0h24v24H0V0z\" fill=\"none\"/>\n",
              "    <path d=\"M18.56 5.44l.94 2.06.94-2.06 2.06-.94-2.06-.94-.94-2.06-.94 2.06-2.06.94zm-11 1L8.5 8.5l.94-2.06 2.06-.94-2.06-.94L8.5 2.5l-.94 2.06-2.06.94zm10 10l.94 2.06.94-2.06 2.06-.94-2.06-.94-.94-2.06-.94 2.06-2.06.94z\"/><path d=\"M17.41 7.96l-1.37-1.37c-.4-.4-.92-.59-1.43-.59-.52 0-1.04.2-1.43.59L10.3 9.45l-7.72 7.72c-.78.78-.78 2.05 0 2.83L4 21.41c.39.39.9.59 1.41.59.51 0 1.02-.2 1.41-.59l7.78-7.78 2.81-2.81c.8-.78.8-2.07 0-2.86zM5.41 20L4 18.59l7.72-7.72 1.47 1.35L5.41 20z\"/>\n",
              "  </svg>\n",
              "      </button>\n",
              "      \n",
              "  <style>\n",
              "    .colab-df-container {\n",
              "      display:flex;\n",
              "      flex-wrap:wrap;\n",
              "      gap: 12px;\n",
              "    }\n",
              "\n",
              "    .colab-df-convert {\n",
              "      background-color: #E8F0FE;\n",
              "      border: none;\n",
              "      border-radius: 50%;\n",
              "      cursor: pointer;\n",
              "      display: none;\n",
              "      fill: #1967D2;\n",
              "      height: 32px;\n",
              "      padding: 0 0 0 0;\n",
              "      width: 32px;\n",
              "    }\n",
              "\n",
              "    .colab-df-convert:hover {\n",
              "      background-color: #E2EBFA;\n",
              "      box-shadow: 0px 1px 2px rgba(60, 64, 67, 0.3), 0px 1px 3px 1px rgba(60, 64, 67, 0.15);\n",
              "      fill: #174EA6;\n",
              "    }\n",
              "\n",
              "    [theme=dark] .colab-df-convert {\n",
              "      background-color: #3B4455;\n",
              "      fill: #D2E3FC;\n",
              "    }\n",
              "\n",
              "    [theme=dark] .colab-df-convert:hover {\n",
              "      background-color: #434B5C;\n",
              "      box-shadow: 0px 1px 3px 1px rgba(0, 0, 0, 0.15);\n",
              "      filter: drop-shadow(0px 1px 2px rgba(0, 0, 0, 0.3));\n",
              "      fill: #FFFFFF;\n",
              "    }\n",
              "  </style>\n",
              "\n",
              "      <script>\n",
              "        const buttonEl =\n",
              "          document.querySelector('#df-c43da525-0cc4-4900-8946-1d3aa25f8409 button.colab-df-convert');\n",
              "        buttonEl.style.display =\n",
              "          google.colab.kernel.accessAllowed ? 'block' : 'none';\n",
              "\n",
              "        async function convertToInteractive(key) {\n",
              "          const element = document.querySelector('#df-c43da525-0cc4-4900-8946-1d3aa25f8409');\n",
              "          const dataTable =\n",
              "            await google.colab.kernel.invokeFunction('convertToInteractive',\n",
              "                                                     [key], {});\n",
              "          if (!dataTable) return;\n",
              "\n",
              "          const docLinkHtml = 'Like what you see? Visit the ' +\n",
              "            '<a target=\"_blank\" href=https://colab.research.google.com/notebooks/data_table.ipynb>data table notebook</a>'\n",
              "            + ' to learn more about interactive tables.';\n",
              "          element.innerHTML = '';\n",
              "          dataTable['output_type'] = 'display_data';\n",
              "          await google.colab.output.renderOutput(dataTable, element);\n",
              "          const docLink = document.createElement('div');\n",
              "          docLink.innerHTML = docLinkHtml;\n",
              "          element.appendChild(docLink);\n",
              "        }\n",
              "      </script>\n",
              "    </div>\n",
              "  </div>\n",
              "  "
            ]
          },
          "metadata": {},
          "execution_count": 36
        }
      ],
      "source": [
        "data.loc[detect_outliers(data,[\"age\",\"creatinine_phosphokinase\",\"ejection_fraction\",\"platelets\",\"serum_creatinine\",\"serum_sodium\",\"time\"])]"
      ]
    },
    {
      "cell_type": "markdown",
      "source": [
        "The outliers in our dataset"
      ],
      "metadata": {
        "id": "jR3RbXj0lil9"
      }
    },
    {
      "cell_type": "code",
      "execution_count": null,
      "metadata": {
        "id": "Y_SZ0u2RjFGF"
      },
      "outputs": [],
      "source": [
        "data = data.drop(detect_outliers(data,[\"age\",\"creatinine_phosphokinase\",\"ejection_fraction\",\"platelets\",\"serum_creatinine\",\"serum_sodium\",\"time\"]),axis = 0).reset_index(drop=True)"
      ]
    },
    {
      "cell_type": "markdown",
      "source": [
        "removing the outliers"
      ],
      "metadata": {
        "id": "rEOJkPFQmIdT"
      }
    },
    {
      "cell_type": "code",
      "execution_count": null,
      "metadata": {
        "colab": {
          "base_uri": "https://localhost:8080/"
        },
        "id": "csFlCHzylR8t",
        "outputId": "04ad26cd-85d2-4472-99f0-fb79f9508477"
      },
      "outputs": [
        {
          "output_type": "execute_result",
          "data": {
            "text/plain": [
              "(289, 13)"
            ]
          },
          "metadata": {},
          "execution_count": 38
        }
      ],
      "source": [
        "data.shape"
      ]
    },
    {
      "cell_type": "code",
      "execution_count": null,
      "metadata": {
        "colab": {
          "base_uri": "https://localhost:8080/"
        },
        "id": "mIi0YB4Olhrz",
        "outputId": "282b5fa3-f6ec-4c6a-9b4d-5e8132765138"
      },
      "outputs": [
        {
          "output_type": "execute_result",
          "data": {
            "text/plain": [
              "3.3444816053511706"
            ]
          },
          "metadata": {},
          "execution_count": 39
        }
      ],
      "source": [
        "(299-289)/299*100 #Percentage of data which is outlier in out dataset"
      ]
    },
    {
      "cell_type": "code",
      "execution_count": null,
      "metadata": {
        "id": "KPyN8It5bfg7"
      },
      "outputs": [],
      "source": [
        "data['creatinine_phosphokinase_log'] = np.log(data['creatinine_phosphokinase'])\n",
        "data['serum_creatinine_log'] = np.log(data['serum_creatinine'])"
      ]
    },
    {
      "cell_type": "markdown",
      "source": [
        "Log transformation of the two squewed feature column"
      ],
      "metadata": {
        "id": "zlas3dvAmh6L"
      }
    },
    {
      "cell_type": "code",
      "execution_count": null,
      "metadata": {
        "colab": {
          "base_uri": "https://localhost:8080/",
          "height": 447
        },
        "id": "hAQm6Xy_cIIS",
        "outputId": "1fe4a385-5fd4-4be8-b149-b0c40b330302"
      },
      "outputs": [
        {
          "output_type": "execute_result",
          "data": {
            "text/plain": [
              "<Axes: >"
            ]
          },
          "metadata": {},
          "execution_count": 43
        },
        {
          "output_type": "display_data",
          "data": {
            "text/plain": [
              "<Figure size 640x480 with 1 Axes>"
            ],
            "image/png": "[encoded data removed]"
          },
          "metadata": {}
        }
      ],
      "source": [
        "data['creatinine_phosphokinase_log'].hist()"
      ]
    },
    {
      "cell_type": "code",
      "execution_count": null,
      "metadata": {
        "colab": {
          "base_uri": "https://localhost:8080/",
          "height": 447
        },
        "id": "_exNodSIcOuf",
        "outputId": "9ad9ebad-3658-4316-ef75-5da4388a745d"
      },
      "outputs": [
        {
          "output_type": "execute_result",
          "data": {
            "text/plain": [
              "<Axes: >"
            ]
          },
          "metadata": {},
          "execution_count": 44
        },
        {
          "output_type": "display_data",
          "data": {
            "text/plain": [
              "<Figure size 640x480 with 1 Axes>"
            ],
            "image/png": "[encoded data removed]"
          },
          "metadata": {}
        }
      ],
      "source": [
        "data['serum_creatinine_log'].hist()"
      ]
    },
    {
      "cell_type": "markdown",
      "source": [
        "Histogram of creatinine_phosphokinase and serum_creatinine after log transform."
      ],
      "metadata": {
        "id": "5XRGkrudmp5Q"
      }
    },
    {
      "cell_type": "code",
      "execution_count": null,
      "metadata": {
        "id": "qlK55t5NORIu"
      },
      "outputs": [],
      "source": [
        "scaler = preprocessing.StandardScaler()\n",
        "scaled_input = scaler.fit_transform(data[['age', 'creatinine_phosphokinase_log', 'ejection_fraction', 'platelets', 'serum_creatinine_log', 'serum_sodium', 'time' ]])\n",
        "scaled_input\n",
        "data_stand = pd.DataFrame(scaled_input,columns=['age', 'creatinine_phosphokinase_log', 'ejection_fraction', 'platelets', 'serum_creatinine_log', 'serum_sodium', 'time' ])\n",
        "data_standed = pd.concat([data_stand, data[['anaemia', 'diabetes', 'high_blood_pressure', 'sex', 'smoking', 'DEATH_EVENT']]], axis=1)"
      ]
    },
    {
      "cell_type": "markdown",
      "source": [
        "Scaling and Concatinating data to get the final perprocessed dataset"
      ],
      "metadata": {
        "id": "Y8zGHy-mnQOv"
      }
    },
    {
      "cell_type": "code",
      "execution_count": null,
      "metadata": {
        "colab": {
          "base_uri": "https://localhost:8080/",
          "height": 206
        },
        "id": "0ytbW8OfUNqa",
        "outputId": "e2436a35-c292-4136-c881-de58d4c495db"
      },
      "outputs": [
        {
          "output_type": "execute_result",
          "data": {
            "text/plain": [
              "        age  creatinine_phosphokinase_log  ejection_fraction  platelets  \\\n",
              "0  1.189344                      0.664264          -1.550559   0.015424   \n",
              "1 -0.488705                      3.011063           0.011108  -0.002634   \n",
              "2  0.350319                     -0.582395          -1.550559  -1.117326   \n",
              "3 -0.908218                     -0.829477          -1.550559  -0.589443   \n",
              "4  2.447881                     -1.604215           0.184626  -0.655428   \n",
              "\n",
              "   serum_creatinine_log  serum_sodium      time  anaemia  diabetes  \\\n",
              "0              1.112949     -1.558990 -1.635850        0         0   \n",
              "1             -0.194972     -0.151027 -1.609907        0         0   \n",
              "2              0.204801     -1.793651 -1.596935        0         0   \n",
              "3              1.112949      0.083633 -1.596935        1         0   \n",
              "4              1.352456     -1.089669 -1.583964        1         0   \n",
              "\n",
              "   high_blood_pressure  sex  smoking  DEATH_EVENT  \n",
              "0                    1    1        0            1  \n",
              "1                    0    1        0            1  \n",
              "2                    0    1        1            1  \n",
              "3                    0    1        0            1  \n",
              "4                    1    1        1            1  "
            ],
            "text/html": [
              "\n",
              "  <div id=\"df-283825b5-bede-450f-8c0b-f58841d8800a\">\n",
              "    <div class=\"colab-df-container\">\n",
              "      <div>\n",
              "<style scoped>\n",
              "    .dataframe tbody tr th:only-of-type {\n",
              "        vertical-align: middle;\n",
              "    }\n",
              "\n",
              "    .dataframe tbody tr th {\n",
              "        vertical-align: top;\n",
              "    }\n",
              "\n",
              "    .dataframe thead th {\n",
              "        text-align: right;\n",
              "    }\n",
              "</style>\n",
              "<table border=\"1\" class=\"dataframe\">\n",
              "  <thead>\n",
              "    <tr style=\"text-align: right;\">\n",
              "      <th></th>\n",
              "      <th>age</th>\n",
              "      <th>creatinine_phosphokinase_log</th>\n",
              "      <th>ejection_fraction</th>\n",
              "      <th>platelets</th>\n",
              "      <th>serum_creatinine_log</th>\n",
              "      <th>serum_sodium</th>\n",
              "      <th>time</th>\n",
              "      <th>anaemia</th>\n",
              "      <th>diabetes</th>\n",
              "      <th>high_blood_pressure</th>\n",
              "      <th>sex</th>\n",
              "      <th>smoking</th>\n",
              "      <th>DEATH_EVENT</th>\n",
              "    </tr>\n",
              "  </thead>\n",
              "  <tbody>\n",
              "    <tr>\n",
              "      <th>0</th>\n",
              "      <td>1.189344</td>\n",
              "      <td>0.664264</td>\n",
              "      <td>-1.550559</td>\n",
              "      <td>0.015424</td>\n",
              "      <td>1.112949</td>\n",
              "      <td>-1.558990</td>\n",
              "      <td>-1.635850</td>\n",
              "      <td>0</td>\n",
              "      <td>0</td>\n",
              "      <td>1</td>\n",
              "      <td>1</td>\n",
              "      <td>0</td>\n",
              "      <td>1</td>\n",
              "    </tr>\n",
              "    <tr>\n",
              "      <th>1</th>\n",
              "      <td>-0.488705</td>\n",
              "      <td>3.011063</td>\n",
              "      <td>0.011108</td>\n",
              "      <td>-0.002634</td>\n",
              "      <td>-0.194972</td>\n",
              "      <td>-0.151027</td>\n",
              "      <td>-1.609907</td>\n",
              "      <td>0</td>\n",
              "      <td>0</td>\n",
              "      <td>0</td>\n",
              "      <td>1</td>\n",
              "      <td>0</td>\n",
              "      <td>1</td>\n",
              "    </tr>\n",
              "    <tr>\n",
              "      <th>2</th>\n",
              "      <td>0.350319</td>\n",
              "      <td>-0.582395</td>\n",
              "      <td>-1.550559</td>\n",
              "      <td>-1.117326</td>\n",
              "      <td>0.204801</td>\n",
              "      <td>-1.793651</td>\n",
              "      <td>-1.596935</td>\n",
              "      <td>0</td>\n",
              "      <td>0</td>\n",
              "      <td>0</td>\n",
              "      <td>1</td>\n",
              "      <td>1</td>\n",
              "      <td>1</td>\n",
              "    </tr>\n",
              "    <tr>\n",
              "      <th>3</th>\n",
              "      <td>-0.908218</td>\n",
              "      <td>-0.829477</td>\n",
              "      <td>-1.550559</td>\n",
              "      <td>-0.589443</td>\n",
              "      <td>1.112949</td>\n",
              "      <td>0.083633</td>\n",
              "      <td>-1.596935</td>\n",
              "      <td>1</td>\n",
              "      <td>0</td>\n",
              "      <td>0</td>\n",
              "      <td>1</td>\n",
              "      <td>0</td>\n",
              "      <td>1</td>\n",
              "    </tr>\n",
              "    <tr>\n",
              "      <th>4</th>\n",
              "      <td>2.447881</td>\n",
              "      <td>-1.604215</td>\n",
              "      <td>0.184626</td>\n",
              "      <td>-0.655428</td>\n",
              "      <td>1.352456</td>\n",
              "      <td>-1.089669</td>\n",
              "      <td>-1.583964</td>\n",
              "      <td>1</td>\n",
              "      <td>0</td>\n",
              "      <td>1</td>\n",
              "      <td>1</td>\n",
              "      <td>1</td>\n",
              "      <td>1</td>\n",
              "    </tr>\n",
              "  </tbody>\n",
              "</table>\n",
              "</div>\n",
              "      <button class=\"colab-df-convert\" onclick=\"convertToInteractive('df-283825b5-bede-450f-8c0b-f58841d8800a')\"\n",
              "              title=\"Convert this dataframe to an interactive table.\"\n",
              "              style=\"display:none;\">\n",
              "        \n",
              "  <svg xmlns=\"http://www.w3.org/2000/svg\" height=\"24px\"viewBox=\"0 0 24 24\"\n",
              "       width=\"24px\">\n",
              "    <path d=\"M0 0h24v24H0V0z\" fill=\"none\"/>\n",
              "    <path d=\"M18.56 5.44l.94 2.06.94-2.06 2.06-.94-2.06-.94-.94-2.06-.94 2.06-2.06.94zm-11 1L8.5 8.5l.94-2.06 2.06-.94-2.06-.94L8.5 2.5l-.94 2.06-2.06.94zm10 10l.94 2.06.94-2.06 2.06-.94-2.06-.94-.94-2.06-.94 2.06-2.06.94z\"/><path d=\"M17.41 7.96l-1.37-1.37c-.4-.4-.92-.59-1.43-.59-.52 0-1.04.2-1.43.59L10.3 9.45l-7.72 7.72c-.78.78-.78 2.05 0 2.83L4 21.41c.39.39.9.59 1.41.59.51 0 1.02-.2 1.41-.59l7.78-7.78 2.81-2.81c.8-.78.8-2.07 0-2.86zM5.41 20L4 18.59l7.72-7.72 1.47 1.35L5.41 20z\"/>\n",
              "  </svg>\n",
              "      </button>\n",
              "      \n",
              "  <style>\n",
              "    .colab-df-container {\n",
              "      display:flex;\n",
              "      flex-wrap:wrap;\n",
              "      gap: 12px;\n",
              "    }\n",
              "\n",
              "    .colab-df-convert {\n",
              "      background-color: #E8F0FE;\n",
              "      border: none;\n",
              "      border-radius: 50%;\n",
              "      cursor: pointer;\n",
              "      display: none;\n",
              "      fill: #1967D2;\n",
              "      height: 32px;\n",
              "      padding: 0 0 0 0;\n",
              "      width: 32px;\n",
              "    }\n",
              "\n",
              "    .colab-df-convert:hover {\n",
              "      background-color: #E2EBFA;\n",
              "      box-shadow: 0px 1px 2px rgba(60, 64, 67, 0.3), 0px 1px 3px 1px rgba(60, 64, 67, 0.15);\n",
              "      fill: #174EA6;\n",
              "    }\n",
              "\n",
              "    [theme=dark] .colab-df-convert {\n",
              "      background-color: #3B4455;\n",
              "      fill: #D2E3FC;\n",
              "    }\n",
              "\n",
              "    [theme=dark] .colab-df-convert:hover {\n",
              "      background-color: #434B5C;\n",
              "      box-shadow: 0px 1px 3px 1px rgba(0, 0, 0, 0.15);\n",
              "      filter: drop-shadow(0px 1px 2px rgba(0, 0, 0, 0.3));\n",
              "      fill: #FFFFFF;\n",
              "    }\n",
              "  </style>\n",
              "\n",
              "      <script>\n",
              "        const buttonEl =\n",
              "          document.querySelector('#df-283825b5-bede-450f-8c0b-f58841d8800a button.colab-df-convert');\n",
              "        buttonEl.style.display =\n",
              "          google.colab.kernel.accessAllowed ? 'block' : 'none';\n",
              "\n",
              "        async function convertToInteractive(key) {\n",
              "          const element = document.querySelector('#df-283825b5-bede-450f-8c0b-f58841d8800a');\n",
              "          const dataTable =\n",
              "            await google.colab.kernel.invokeFunction('convertToInteractive',\n",
              "                                                     [key], {});\n",
              "          if (!dataTable) return;\n",
              "\n",
              "          const docLinkHtml = 'Like what you see? Visit the ' +\n",
              "            '<a target=\"_blank\" href=https://colab.research.google.com/notebooks/data_table.ipynb>data table notebook</a>'\n",
              "            + ' to learn more about interactive tables.';\n",
              "          element.innerHTML = '';\n",
              "          dataTable['output_type'] = 'display_data';\n",
              "          await google.colab.output.renderOutput(dataTable, element);\n",
              "          const docLink = document.createElement('div');\n",
              "          docLink.innerHTML = docLinkHtml;\n",
              "          element.appendChild(docLink);\n",
              "        }\n",
              "      </script>\n",
              "    </div>\n",
              "  </div>\n",
              "  "
            ]
          },
          "metadata": {},
          "execution_count": 46
        }
      ],
      "source": [
        "data_standed.head()"
      ]
    },
    {
      "cell_type": "code",
      "execution_count": null,
      "metadata": {
        "id": "Ag2MBAJe-zvI"
      },
      "outputs": [],
      "source": [
        "# data_standed.to_csv(\"/content/drive/MyDrive/255/project/cleaned_log_ds.csv\")"
      ]
    },
    {
      "cell_type": "code",
      "execution_count": null,
      "metadata": {
        "colab": {
          "base_uri": "https://localhost:8080/"
        },
        "id": "DFIKL8ALxbkM",
        "outputId": "a18f935e-06b2-460c-cc24-af780152d8fb"
      },
      "outputs": [
        {
          "output_type": "execute_result",
          "data": {
            "text/plain": [
              "0    198\n",
              "1     91\n",
              "Name: DEATH_EVENT, dtype: int64"
            ]
          },
          "metadata": {},
          "execution_count": 48
        }
      ],
      "source": [
        "data_standed['DEATH_EVENT'].value_counts()"
      ]
    },
    {
      "cell_type": "markdown",
      "source": [
        "Label Imbalanced"
      ],
      "metadata": {
        "id": "DnTT_t4RnY5u"
      }
    },
    {
      "cell_type": "code",
      "execution_count": null,
      "metadata": {
        "id": "sfmsOmBexiKr"
      },
      "outputs": [],
      "source": [
        "X = data_standed.drop(['DEATH_EVENT'],axis=1)\n",
        "y = data_standed['DEATH_EVENT']"
      ]
    },
    {
      "cell_type": "code",
      "source": [
        "# rng = np.random.default_rng(42)\n",
        "# data_standed = np.random.random((100, 5))\n",
        "# msk = rng.random(len(data_standed)) < 0.8\n",
        "# train = data_standed[msk]\n",
        "# test = data_standed[~msk]"
      ],
      "metadata": {
        "id": "cE04jpHPthmB"
      },
      "execution_count": null,
      "outputs": []
    },
    {
      "cell_type": "code",
      "execution_count": null,
      "metadata": {
        "id": "XSPwx886r-Mb"
      },
      "outputs": [],
      "source": [
        "msk = np.random.rand(len(data_standed)) < 0.8\n",
        "train = data_standed[msk]\n",
        "test = data_standed[~msk]"
      ]
    },
    {
      "cell_type": "markdown",
      "source": [
        "Data Split"
      ],
      "metadata": {
        "id": "0odLiP7Zty1i"
      }
    },
    {
      "cell_type": "code",
      "execution_count": null,
      "metadata": {
        "colab": {
          "base_uri": "https://localhost:8080/"
        },
        "id": "o5tzDFYKxyop",
        "outputId": "58d856d5-0a87-4daa-bf7c-99f932f33b2b"
      },
      "outputs": [
        {
          "output_type": "execute_result",
          "data": {
            "text/plain": [
              "0    158\n",
              "1     70\n",
              "Name: DEATH_EVENT, dtype: int64"
            ]
          },
          "metadata": {},
          "execution_count": 51
        }
      ],
      "source": [
        "train['DEATH_EVENT'].value_counts()"
      ]
    },
    {
      "cell_type": "code",
      "execution_count": null,
      "metadata": {
        "colab": {
          "base_uri": "https://localhost:8080/"
        },
        "id": "Z54dN56Ax0n-",
        "outputId": "69481870-70f4-4546-b0e8-43a87bdaca43"
      },
      "outputs": [
        {
          "output_type": "execute_result",
          "data": {
            "text/plain": [
              "0    40\n",
              "1    21\n",
              "Name: DEATH_EVENT, dtype: int64"
            ]
          },
          "metadata": {},
          "execution_count": 52
        }
      ],
      "source": [
        "test['DEATH_EVENT'].value_counts()"
      ]
    },
    {
      "cell_type": "markdown",
      "source": [
        "Stratified Labels"
      ],
      "metadata": {
        "id": "76BD94-wt30Y"
      }
    },
    {
      "cell_type": "code",
      "execution_count": null,
      "metadata": {
        "id": "33JulOykx2w8"
      },
      "outputs": [],
      "source": [
        "X_train = train.drop(['DEATH_EVENT'],axis=1)\n",
        "X_test = test.drop(['DEATH_EVENT'],axis=1)\n",
        "\n",
        "y_train = train['DEATH_EVENT']\n",
        "y_test = test['DEATH_EVENT']"
      ]
    },
    {
      "cell_type": "code",
      "execution_count": null,
      "metadata": {
        "id": "OTm-5uLqyk2u"
      },
      "outputs": [],
      "source": [
        "X_train_arr = X_train.to_numpy()\n",
        "y_train_arr = y_train.to_numpy().reshape(-1, 1)\n",
        "\n",
        "X_test_arr = X_test.to_numpy()\n",
        "y_test_arr = y_test.to_numpy().reshape(-1, 1)"
      ]
    },
    {
      "cell_type": "markdown",
      "source": [
        "Evaludation function to check for model's performance"
      ],
      "metadata": {
        "id": "0gLz1ya-uDsm"
      }
    },
    {
      "cell_type": "code",
      "execution_count": null,
      "metadata": {
        "id": "gg0cKWkRLXLe"
      },
      "outputs": [],
      "source": [
        "def evaluation_metrics(y_test, y_pred):\n",
        "    '''\n",
        "    Function for calculating and printing precision, recall, accuracy, and F1 score.\n",
        "    '''\n",
        "    def precision(y_test, y_pred):\n",
        "        TP = sum([1 for i in range(len(y_test)) if y_test[i] == y_pred[i] == 1])\n",
        "        FP = sum([1 for i in range(len(y_test)) if y_test[i] == 0 and y_pred[i] == 1])\n",
        "\n",
        "        if TP + FP == 0:\n",
        "            return 0\n",
        "\n",
        "        return TP / (TP + FP)\n",
        "\n",
        "    def recall(y_test, y_pred):\n",
        "        TP = sum([1 for i in range(len(y_test)) if y_test[i] == y_pred[i] == 1])\n",
        "        FN = sum([1 for i in range(len(y_test)) if y_test[i] == 1 and y_pred[i] == 0])\n",
        "\n",
        "        if TP + FN == 0:\n",
        "            return 0\n",
        "\n",
        "        return TP / (TP + FN)\n",
        "\n",
        "    def accuracy(y_test, y_pred):\n",
        "        correct_predictions = sum([1 for i in range(len(y_test)) if y_test[i] == y_pred[i]])\n",
        "        return correct_predictions / len(y_test)\n",
        "\n",
        "    def f1_score(y_test, y_pred):\n",
        "        p = precision(y_test, y_pred)\n",
        "        r = recall(y_test, y_pred)\n",
        "\n",
        "        if p + r == 0:\n",
        "            return 0\n",
        "\n",
        "        return 2 * (p * r) / (p + r)\n",
        "\n",
        "    y_test = y_test.flatten().tolist()\n",
        "    y_pred = y_pred.flatten().tolist()\n",
        "\n",
        "    print(\"Precision: \", precision(y_test, y_pred))\n",
        "    print(\"Recall: \", recall(y_test, y_pred))\n",
        "    print(\"Accuracy: \", accuracy(y_test, y_pred))\n",
        "    print(\"F1 Score: \", f1_score(y_test, y_pred))\n",
        "\n",
        "# Example usage:\n",
        "# evaluation_metrics(y_test_arr, y_pred)\n"
      ]
    },
    {
      "cell_type": "code",
      "source": [
        "def accuracy_score(y_test, y_pred):\n",
        "    ''' \n",
        "    Function for calculating accuracy manually.\n",
        "    '''\n",
        "    # Converting to list for manipulation\n",
        "    y_test = y_test.tolist()\n",
        "    # y_pred = y_pred.tolist()\n",
        "\n",
        "    correct_predictions = sum([1 for i in range(len(y_test)) if y_test[i] == y_pred[i]])\n",
        "    accuracy = correct_predictions / len(y_test)\n",
        "    \n",
        "    return accuracy"
      ],
      "metadata": {
        "id": "fm9thBDgSDc6"
      },
      "execution_count": null,
      "outputs": []
    },
    {
      "cell_type": "markdown",
      "source": [
        "## Classification Algosithms from Scratch"
      ],
      "metadata": {
        "id": "rR7vEGP9uAUE"
      }
    },
    {
      "cell_type": "markdown",
      "source": [
        "### Logistic Regression with L2 regularization"
      ],
      "metadata": {
        "id": "ECfqmSgsuQ_a"
      }
    },
    {
      "cell_type": "code",
      "execution_count": null,
      "metadata": {
        "colab": {
          "base_uri": "https://localhost:8080/"
        },
        "id": "Q_Wh4B1E8ZaZ",
        "outputId": "dc8963e3-0128-4434-dc82-c9c8b5efd1a1"
      },
      "outputs": [
        {
          "output_type": "stream",
          "name": "stdout",
          "text": [
            "Accuracy: 0.7540983606557377\n"
          ]
        }
      ],
      "source": [
        "# import numpy as np\n",
        "\n",
        "def sigmoid(z):\n",
        "    return 1 / (1 + np.exp(-z))\n",
        "\n",
        "def cost_function(X, y, theta, lambda_reg):\n",
        "    m = len(y)\n",
        "    h = sigmoid(X @ theta)\n",
        "    reg_term = (lambda_reg / (2 * m)) * np.sum(np.square(theta[1:]))\n",
        "    return (-1 / m) * (y.T @ np.log(h) + (1 - y).T @ np.log(1 - h)) + reg_term\n",
        "\n",
        "def gradient(X, y, theta, lambda_reg):\n",
        "    m = len(y)\n",
        "    h = sigmoid(X @ theta)\n",
        "    reg_term = (lambda_reg / m) * theta\n",
        "    reg_term[0] = 0  # Exclude the bias term from regularization\n",
        "    return (1 / m) * (X.T @ (h - y)) + reg_term\n",
        "\n",
        "def logistic_regression(X_train_arr, y_train_arr, alpha, num_iters, lambda_reg, random_state=None):\n",
        "    if random_state is not None:\n",
        "        np.random.seed(random_state)\n",
        "        \n",
        "    theta = np.random.rand(X_train_arr.shape[1], 1)  # Randomly initialize theta values\n",
        "    cost = []\n",
        "    \n",
        "    for i in range(num_iters):\n",
        "        cost_val = cost_function(X_train_arr, y_train_arr, theta, lambda_reg)\n",
        "        cost.append(cost_val)\n",
        "        theta = theta - alpha * gradient(X_train_arr, y_train_arr, theta, lambda_reg)\n",
        "        \n",
        "    return theta, cost\n",
        "\n",
        "# Usage example\n",
        "alpha = 0.001\n",
        "num_iters = 50000\n",
        "lambda_reg = 1  # Regularization strength; try different values to see the effect\n",
        "random_state = 91\n",
        "\n",
        "theta, cost = logistic_regression(X_train_arr, y_train_arr, alpha, num_iters, lambda_reg, random_state)\n",
        "\n",
        "y_pred = sigmoid(X_test_arr @ theta)\n",
        "y_pred = (y_pred >= 0.5).astype(int)  # Convert probabilities to class labels (0 or 1)\n",
        "\n",
        "# Calculate the accuracy of the model\n",
        "accuracy = accuracy_score(y_test_arr, y_pred)\n",
        "print(f\"Accuracy: {accuracy}\")"
      ]
    },
    {
      "cell_type": "markdown",
      "source": [
        "Fine Tuning the logistic regression function on different hyperparameters"
      ],
      "metadata": {
        "id": "xFXaSRjNuW6_"
      }
    },
    {
      "cell_type": "code",
      "execution_count": null,
      "metadata": {
        "id": "RZfslZDO9LBV"
      },
      "outputs": [],
      "source": [
        "ALPHA = [0.2,0.1,0.05,0.01]\n",
        "NUM_ITERATION = [5000,10000,20000,30000]\n",
        "LAMBDA_REG = [0.1,0.5,1,3,5,7,10]\n",
        "\n",
        "scores = dict()\n",
        "for alpha in ALPHA:\n",
        "   for num_iter in NUM_ITERATION:\n",
        "     for l2 in LAMBDA_REG:\n",
        "        cost_ = []\n",
        "        \n",
        "        theta, cost = logistic_regression(X_train_arr, y_train_arr, alpha, num_iter, l2, random_state)\n",
        "        cost_.append(cost)\n",
        "        \n",
        "        y_pred = sigmoid(X_test_arr @ theta)\n",
        "        y_pred = (y_pred >= 0.5).astype(int)\n",
        "        \n",
        "        str_t = \"num_iter: \" + str(num_iter) + \", alpha: \" + str(alpha) + \", lambda_l2: \" + str(l2)\n",
        "        \n",
        "        accuracy = accuracy_score(y_test_arr, y_pred)\n",
        "        scores[str_t] = accuracy"
      ]
    },
    {
      "cell_type": "code",
      "execution_count": null,
      "metadata": {
        "colab": {
          "base_uri": "https://localhost:8080/"
        },
        "id": "PXnGEfFD_9J-",
        "outputId": "907d7bb7-cbca-4d5a-f850-c75fc628d92b"
      },
      "outputs": [
        {
          "output_type": "execute_result",
          "data": {
            "text/plain": [
              "[('num_iter: 5000, alpha: 0.2, lambda_l2: 0.1', 0.7540983606557377)]"
            ]
          },
          "metadata": {},
          "execution_count": 176
        }
      ],
      "source": [
        "def fun(dict_):\n",
        "  return dict_[1]\n",
        "\n",
        "sorted(scores.items(),reverse=True, key = fun)[:1]"
      ]
    },
    {
      "cell_type": "markdown",
      "source": [
        "checking for the optimum set of hyperparemeter"
      ],
      "metadata": {
        "id": "LBTIOg4-u9Kx"
      }
    },
    {
      "cell_type": "code",
      "execution_count": null,
      "metadata": {
        "colab": {
          "base_uri": "https://localhost:8080/"
        },
        "id": "CDzhRQwZNmIk",
        "outputId": "f00bf50b-093d-4c51-af4a-f41328550e37"
      },
      "outputs": [
        {
          "output_type": "stream",
          "name": "stdout",
          "text": [
            "Accuracy: 0.7540983606557377\n"
          ]
        }
      ],
      "source": [
        "alpha = 0.2\n",
        "num_iters = 5000\n",
        "lambda_reg = 0.1  # Regularization strength; try different values to see the effect\n",
        "\n",
        "theta, cost = logistic_regression(X_train_arr, y_train_arr, alpha, num_iters, lambda_reg,random_state=91)\n",
        "\n",
        "y_pred = sigmoid(X_test_arr @ theta)\n",
        "y_pred = (y_pred >= 0.5).astype(int)  # Convert probabilities to class labels (0 or 1)\n",
        "\n",
        "# Calculate the accuracy of the model\n",
        "accuracy = accuracy_score(y_test_arr, y_pred)\n",
        "print(f\"Accuracy: {accuracy}\")"
      ]
    },
    {
      "cell_type": "code",
      "execution_count": null,
      "metadata": {
        "colab": {
          "base_uri": "https://localhost:8080/"
        },
        "id": "AS8ODDw1JMK2",
        "outputId": "f49ef7ce-6961-4563-b904-1a6bc7c6176a"
      },
      "outputs": [
        {
          "output_type": "stream",
          "name": "stdout",
          "text": [
            "Precision:  0.625\n",
            "Recall:  0.7142857142857143\n",
            "Accuracy:  0.7540983606557377\n",
            "F1 Score:  0.6666666666666666\n"
          ]
        }
      ],
      "source": [
        "evaluation_metrics(y_test_arr, y_pred)"
      ]
    },
    {
      "cell_type": "markdown",
      "source": [
        "Final Score without SMOTE"
      ],
      "metadata": {
        "id": "ZTKoSWhQvG40"
      }
    },
    {
      "cell_type": "code",
      "source": [
        "def evaluation_metrics(y_test, y_pred):\n",
        "    '''\n",
        "    Function for calculating and printing precision, recall, accuracy, and F1 score.\n",
        "    '''\n",
        "    def precision(y_test, y_pred):\n",
        "        TP = sum([1 for i in range(len(y_test)) if y_test[i] == y_pred[i] == 1])\n",
        "        FP = sum([1 for i in range(len(y_test)) if y_test[i] == 0 and y_pred[i] == 1])\n",
        "\n",
        "        if TP + FP == 0:\n",
        "            return 0\n",
        "\n",
        "        return TP / (TP + FP)\n",
        "\n",
        "    def recall(y_test, y_pred):\n",
        "        TP = sum([1 for i in range(len(y_test)) if y_test[i] == y_pred[i] == 1])\n",
        "        FN = sum([1 for i in range(len(y_test)) if y_test[i] == 1 and y_pred[i] == 0])\n",
        "\n",
        "        if TP + FN == 0:\n",
        "            return 0\n",
        "\n",
        "        return TP / (TP + FN)\n",
        "\n",
        "    def accuracy(y_test, y_pred):\n",
        "        correct_predictions = sum([1 for i in range(len(y_test)) if y_test[i] == y_pred[i]])\n",
        "        return correct_predictions / len(y_test)\n",
        "\n",
        "    def f1_score(y_test, y_pred):\n",
        "        p = precision(y_test, y_pred)\n",
        "        r = recall(y_test, y_pred)\n",
        "\n",
        "        if p + r == 0:\n",
        "            return 0\n",
        "\n",
        "        return 2 * (p * r) / (p + r)\n",
        "\n",
        "    # y_test = y_test.flatten().tolist()\n",
        "    # y_pred = y_pred.flatten().tolist()\n",
        "\n",
        "    print(\"Precision: \", precision(y_test, y_pred))\n",
        "    print(\"Recall: \", recall(y_test, y_pred))\n",
        "    print(\"Accuracy: \", accuracy(y_test, y_pred))\n",
        "    print(\"F1 Score: \", f1_score(y_test, y_pred))\n",
        "\n",
        "# Example usage:\n",
        "# evaluation_metrics(y_test_arr, y_pred)\n"
      ],
      "metadata": {
        "id": "94ch26tWlTIC"
      },
      "execution_count": null,
      "outputs": []
    },
    {
      "cell_type": "markdown",
      "source": [
        "###Decision Tree Classifier"
      ],
      "metadata": {
        "id": "22g5I_bbvQhK"
      }
    },
    {
      "cell_type": "code",
      "execution_count": null,
      "metadata": {
        "id": "GswyWwdzFthp"
      },
      "outputs": [],
      "source": [
        "class DecisionTree:\n",
        "    def __init__(self, max_depth=None, min_samples_split=2, min_samples_leaf=1,\n",
        "                 max_features=None, criterion='gini', splitter='best', class_weight=None,\n",
        "                 random_state=None):\n",
        "        self.max_depth = max_depth\n",
        "        self.min_samples_split = min_samples_split\n",
        "        self.min_samples_leaf = min_samples_leaf\n",
        "        self.max_features = max_features\n",
        "        self.criterion = criterion\n",
        "        self.splitter = splitter\n",
        "        self.class_weight = class_weight\n",
        "        self.random_state = random_state\n",
        "        self.tree = None\n",
        "    \n",
        "    def fit(self, X, y):\n",
        "        self.n_features = X.shape[1]\n",
        "        self.n_classes = len(np.unique(y))\n",
        "        self.tree = self._grow_tree(X, y)\n",
        "    \n",
        "    def _best_split(self, X, y):\n",
        "        if self.random_state is not None:\n",
        "            np.random.seed(self.random_state)\n",
        "            \n",
        "        m = y.size\n",
        "        if m <= 1:\n",
        "            return None, None\n",
        "        num_parent = [np.sum(y == c) for c in range(self.n_classes)]\n",
        "        best_gini = float('inf')\n",
        "        best_idx, best_thr = None, None\n",
        "        if self.splitter == 'random':\n",
        "            idxs = np.arange(self.n_features)\n",
        "            np.random.shuffle(idxs)\n",
        "        else:\n",
        "            idxs = range(self.n_features)\n",
        "        for i in idxs:\n",
        "            thresholds, classes = zip(*sorted(zip(X[:, i], y)))\n",
        "            num_left = [0] * self.n_classes\n",
        "            num_right = num_parent.copy()\n",
        "            for j in range(1, m):\n",
        "                c = classes[j - 1]\n",
        "                num_left[c] += 1\n",
        "                num_right[c] -= 1\n",
        "                gini_left = 1.0 - sum((num_left[x] / j) ** 2 for x in range(self.n_classes))\n",
        "                gini_right = 1.0 - sum((num_right[x] / (m - j)) ** 2 for x in range(self.n_classes))\n",
        "                gini = (j * gini_left + (m - j) * gini_right) / m\n",
        "                if thresholds[j] == thresholds[j - 1]:\n",
        "                    continue\n",
        "                if gini < best_gini:\n",
        "                    best_gini = gini\n",
        "                    best_idx = i\n",
        "                    best_thr = (thresholds[j] + thresholds[j - 1]) / 2  # midpoint\n",
        "        return best_idx, best_thr\n",
        "    \n",
        "    def _grow_tree(self, X, y, depth=0):\n",
        "        num_samples_per_class = [np.sum(y == i) for i in range(self.n_classes)]\n",
        "        predicted_class = np.argmax(num_samples_per_class)\n",
        "        node = {'predicted_class': predicted_class}\n",
        "        if depth < self.max_depth:\n",
        "            idx, thr = self._best_split(X, y)\n",
        "            if idx is not None:\n",
        "                left_idxs = X[:, idx] < thr\n",
        "                X_left, y_left = X[left_idxs], y[left_idxs]\n",
        "                X_right, y_right = X[~left_idxs], y[~left_idxs]\n",
        "                if len(X_left) > self.min_samples_leaf and len(X_right) > self.min_samples_leaf:\n",
        "                    node['feature_idx'] = idx\n",
        "                    node['threshold'] = thr\n",
        "                    left = self._grow_tree(X_left, y_left, depth + 1)\n",
        "                    right = self._grow_tree(X_right, y_right, depth + 1)\n",
        "                    node['left'] = left\n",
        "                    node['right'] = right\n",
        "        return node\n",
        "    \n",
        "    def predict(self, X):\n",
        "        return [self._predict(inputs) for inputs in X]\n",
        "    \n",
        "    def _predict(self, inputs, node=None):\n",
        "      if node is None:\n",
        "          node = self.tree\n",
        "      if 'feature_idx' not in node:\n",
        "          return node['predicted_class']\n",
        "      if inputs[node['feature_idx']] < node['threshold']:\n",
        "          return self._predict(inputs, node['left'])\n",
        "      else:\n",
        "          return self._predict(inputs, node['right'])\n",
        "\n",
        "    def print_tree(self, node=None, depth=0):\n",
        "      if node is None:\n",
        "          node = self.tree\n",
        "      if 'feature_idx' in node:\n",
        "          print(' ' * depth, f'X_{node[\"feature_idx\"]} < {node[\"threshold\"]}')\n",
        "          self.print_tree(node['left'], depth + 1)\n",
        "          self.print_tree(node['right'], depth + 1)\n",
        "      else:\n",
        "          print(' ' * depth, f'class {node[\"predicted_class\"]}')"
      ]
    },
    {
      "cell_type": "code",
      "source": [
        "def accuracy_score(y_test, y_pred):\n",
        "    ''' \n",
        "    Function for calculating accuracy manually.\n",
        "    '''\n",
        "    # Converting to list for manipulation\n",
        "    y_test = y_test.tolist()\n",
        "    # y_pred = y_pred.tolist()\n",
        "\n",
        "    correct_predictions = sum([1 for i in range(len(y_test)) if y_test[i] == y_pred[i]])\n",
        "    accuracy = correct_predictions / len(y_test)\n",
        "    \n",
        "    return accuracy"
      ],
      "metadata": {
        "id": "2MV3CPVmlqSi"
      },
      "execution_count": null,
      "outputs": []
    },
    {
      "cell_type": "markdown",
      "source": [
        "Decision Tree the logistic regression function on different hyperparameters"
      ],
      "metadata": {
        "id": "BfAepzEKuecx"
      }
    },
    {
      "cell_type": "code",
      "source": [
        "MAX_DEPTH  = [2,3,4,5,6]\n",
        "MIN_SAMPLES_SPLIT = [1,3,5,7,9]\n",
        "CRITERION = [\"entropy\",\"gini\"]\n",
        "scores = dict()\n",
        "for max_depth in MAX_DEPTH:\n",
        " for min_samples_split in MIN_SAMPLES_SPLIT:\n",
        "   for criterion in CRITERION:\n",
        "     clf = DecisionTree(max_depth=max_depth, min_samples_split=min_samples_split, criterion=criterion, random_state=41)\n",
        "     \n",
        "     # Train the classifier on the training set and evaluate it on the validation set\n",
        "     clf.fit(X_train.values, y_train.values)\n",
        "     y_pred = clf.predict(X_test.values)\n",
        "     acc = accuracy_score(y_test.values, y_pred)\n",
        "     str_t = \"max_depth: \" + str(max_depth) + \", min_samples_split: \" + str(min_samples_split) + \", criterian: \" + criterion\n",
        "     scores[str_t] = acc"
      ],
      "metadata": {
        "id": "qy6f0OilllTZ"
      },
      "execution_count": null,
      "outputs": []
    },
    {
      "cell_type": "code",
      "source": [
        "def fun(dict_):\n",
        "  return dict_[1]\n",
        "\n",
        "sorted(scores.items(),reverse=True, key = fun)[:15]"
      ],
      "metadata": {
        "colab": {
          "base_uri": "https://localhost:8080/"
        },
        "id": "vlyVRSaNodxP",
        "outputId": "ca5c61c3-48bd-408f-9b04-36e7e9c3dd12"
      },
      "execution_count": null,
      "outputs": [
        {
          "output_type": "execute_result",
          "data": {
            "text/plain": [
              "[('max_depth: 3, min_samples_split: 1, criterian: entropy',\n",
              "  0.8360655737704918),\n",
              " ('max_depth: 3, min_samples_split: 1, criterian: gini', 0.8360655737704918),\n",
              " ('max_depth: 3, min_samples_split: 3, criterian: entropy',\n",
              "  0.8360655737704918),\n",
              " ('max_depth: 3, min_samples_split: 3, criterian: gini', 0.8360655737704918),\n",
              " ('max_depth: 3, min_samples_split: 5, criterian: entropy',\n",
              "  0.8360655737704918),\n",
              " ('max_depth: 3, min_samples_split: 5, criterian: gini', 0.8360655737704918),\n",
              " ('max_depth: 3, min_samples_split: 7, criterian: entropy',\n",
              "  0.8360655737704918),\n",
              " ('max_depth: 3, min_samples_split: 7, criterian: gini', 0.8360655737704918),\n",
              " ('max_depth: 3, min_samples_split: 9, criterian: entropy',\n",
              "  0.8360655737704918),\n",
              " ('max_depth: 3, min_samples_split: 9, criterian: gini', 0.8360655737704918),\n",
              " ('max_depth: 2, min_samples_split: 1, criterian: entropy',\n",
              "  0.7704918032786885),\n",
              " ('max_depth: 2, min_samples_split: 1, criterian: gini', 0.7704918032786885),\n",
              " ('max_depth: 2, min_samples_split: 3, criterian: entropy',\n",
              "  0.7704918032786885),\n",
              " ('max_depth: 2, min_samples_split: 3, criterian: gini', 0.7704918032786885),\n",
              " ('max_depth: 2, min_samples_split: 5, criterian: entropy',\n",
              "  0.7704918032786885)]"
            ]
          },
          "metadata": {},
          "execution_count": 186
        }
      ]
    },
    {
      "cell_type": "markdown",
      "source": [
        "checking for the optimum set of hyperparemeter\n"
      ],
      "metadata": {
        "id": "MplXpRRUvbhF"
      }
    },
    {
      "cell_type": "code",
      "source": [
        "clf = DecisionTree(max_depth=3, min_samples_split=1, criterion='entropy',random_state=41)\n",
        "\n",
        "# Train the classifier on the training data\n",
        "clf.fit(X_train.values, y_train.values)\n",
        "\n",
        "# Make predictions on the testing data\n",
        "y_pred = clf.predict(X_test.values)\n",
        "print(type(y_pred))\n",
        "print(type(y_test))\n",
        "# Calculate the accuracy of the model\n",
        "evaluation_metrics(y_test.values, y_pred)\n",
        "print()"
      ],
      "metadata": {
        "colab": {
          "base_uri": "https://localhost:8080/"
        },
        "id": "H4yWtwdKlDEZ",
        "outputId": "c7fd87c1-c681-428b-8ad2-9b7ffd64ca8b"
      },
      "execution_count": null,
      "outputs": [
        {
          "output_type": "stream",
          "name": "stdout",
          "text": [
            "<class 'list'>\n",
            "<class 'pandas.core.series.Series'>\n",
            "Precision:  0.7391304347826086\n",
            "Recall:  0.8095238095238095\n",
            "Accuracy:  0.8360655737704918\n",
            "F1 Score:  0.7727272727272727\n",
            "\n"
          ]
        }
      ]
    },
    {
      "cell_type": "markdown",
      "source": [
        "Decison Tree Final Accuracy without SMOTE"
      ],
      "metadata": {
        "id": "f2lXVwjHvfCs"
      }
    },
    {
      "cell_type": "code",
      "source": [
        "clf.print_tree()"
      ],
      "metadata": {
        "colab": {
          "base_uri": "https://localhost:8080/"
        },
        "id": "yiin2VrXzXIR",
        "outputId": "830edc07-e6ec-41a3-99fb-697d38514127"
      },
      "execution_count": null,
      "outputs": [
        {
          "output_type": "stream",
          "name": "stdout",
          "text": [
            " X_6 < -0.73432804913876\n",
            "  X_4 < -0.8161246680244516\n",
            "   X_2 < 0.09786682769166624\n",
            "    class 1\n",
            "    class 0\n",
            "   X_1 < -0.8376725157377556\n",
            "    class 1\n",
            "    class 1\n",
            "  X_4 < 0.6244749502230063\n",
            "   X_2 < -0.8998644662753637\n",
            "    class 0\n",
            "    class 0\n",
            "   X_0 < 0.6439777740689321\n",
            "    class 0\n",
            "    class 1\n"
          ]
        }
      ]
    },
    {
      "cell_type": "markdown",
      "source": [
        "Decision tree representation"
      ],
      "metadata": {
        "id": "MwN5XfWnvkaB"
      }
    },
    {
      "cell_type": "markdown",
      "source": [
        "###Random Forest"
      ],
      "metadata": {
        "id": "57H9ueNmomVs"
      }
    },
    {
      "cell_type": "code",
      "source": [
        "import numpy as np\n",
        "from collections import Counter\n",
        "# from sklearn.datasets import load_iris\n",
        "# from sklearn.model_selection import train_test_split\n",
        "\n",
        "def gini_impurity(y):\n",
        "    count = Counter(y)\n",
        "    impurity = 1\n",
        "    for label in count:\n",
        "        prob = count[label] / len(y)\n",
        "        impurity -= prob**2\n",
        "    return impurity\n",
        "\n",
        "def information_gain(y_left, y_right, parent_impurity):\n",
        "    p_left = len(y_left) / (len(y_left) + len(y_right))\n",
        "    p_right = len(y_right) / (len(y_left) + len(y_right))\n",
        "    return parent_impurity - p_left * gini_impurity(y_left) - p_right * gini_impurity(y_right)\n",
        "\n",
        "def split(X, y, feature_idx, threshold):\n",
        "    left_mask = X[:, feature_idx] < threshold\n",
        "    right_mask = ~left_mask\n",
        "    return X[left_mask], X[right_mask], y[left_mask], y[right_mask]\n",
        "\n",
        "def best_split(X, y):\n",
        "    best_gain = 0\n",
        "    best_feature_idx, best_threshold = None, None\n",
        "    parent_impurity = gini_impurity(y)\n",
        "\n",
        "    for feature_idx in range(X.shape[1]):\n",
        "        thresholds = np.unique(X[:, feature_idx])\n",
        "        for threshold in thresholds:\n",
        "            X_left, X_right, y_left, y_right = split(X, y, feature_idx, threshold)\n",
        "            if len(y_left) == 0 or len(y_right) == 0:\n",
        "                continue\n",
        "\n",
        "            gain = information_gain(y_left, y_right, parent_impurity)\n",
        "            if gain > best_gain:\n",
        "                best_gain = gain\n",
        "                best_feature_idx, best_threshold = feature_idx, threshold\n",
        "\n",
        "    return best_feature_idx, best_threshold, best_gain\n",
        "\n",
        "class DecisionTree:\n",
        "    def __init__(self, max_depth=None):\n",
        "        self.max_depth = max_depth\n",
        "\n",
        "    def fit(self, X, y, depth=0):\n",
        "        if self.max_depth and depth == self.max_depth:\n",
        "            self.label = Counter(y).most_common(1)[0][0]\n",
        "            return\n",
        "\n",
        "        feature_idx, threshold, gain = best_split(X, y)\n",
        "        if gain == 0:\n",
        "            self.label = Counter(y).most_common(1)[0][0]\n",
        "            return\n",
        "\n",
        "        X_left, X_right, y_left, y_right = split(X, y, feature_idx, threshold)\n",
        "\n",
        "        self.feature_idx = feature_idx\n",
        "        self.threshold = threshold\n",
        "        self.left = DecisionTree(self.max_depth)\n",
        "        self.right = DecisionTree(self.max_depth)\n",
        "        self.left.fit(X_left, y_left, depth + 1)\n",
        "        self.right.fit(X_right, y_right, depth + 1)\n",
        "\n",
        "    def predict(self, X):\n",
        "        if hasattr(self, \"label\"):\n",
        "            return np.full(X.shape[0], self.label)\n",
        "\n",
        "        mask = X[:, self.feature_idx] < self.threshold\n",
        "        y = np.empty(X.shape[0], dtype=int)\n",
        "        y[mask] = self.left.predict(X[mask])\n",
        "        y[~mask] = self.right.predict(X[~mask])\n",
        "        return y\n",
        "\n",
        "class RandomForest:\n",
        "    def __init__(self, n_estimators=100, max_depth=None, random_state=None):\n",
        "        self.n_estimators = n_estimators\n",
        "        self.max_depth = max_depth\n",
        "        self.random_state = random_state\n",
        "        self.trees = [DecisionTree(max_depth) for _ in range(n_estimators)]\n",
        "\n",
        "    def fit(self, X, y):\n",
        "        if self.random_state is not None:\n",
        "            np.random.seed(self.random_state)\n",
        "        for tree in self.trees:\n",
        "            bootstrap_indices = np.random.choice(np.arange(X.shape[0]), size=X.shape[0], replace=True)\n",
        "            X_bootstrap, y_bootstrap = X[bootstrap_indices], y[bootstrap_indices]\n",
        "            tree.fit(X_bootstrap, y_bootstrap)\n",
        "\n",
        "    def predict(self, X):\n",
        "        predictions = np.zeros((X.shape[0], len(self.trees)), dtype=int)\n",
        "        for i, tree in enumerate(self.trees):\n",
        "            predictions[:, i] = tree.predict(X)\n",
        "        return np.array([Counter(row).most_common(1)[0][0] for row in predictions])"
      ],
      "metadata": {
        "id": "syMLkCU_onAn"
      },
      "execution_count": null,
      "outputs": []
    },
    {
      "cell_type": "markdown",
      "source": [
        "Fine Tuning the Random Forest Classifier function on different hyperparameters"
      ],
      "metadata": {
        "id": "IfiFUGR_uhmj"
      }
    },
    {
      "cell_type": "code",
      "source": [
        "MAX_DEPTH  = [1,2,3,4,5]\n",
        "N_ESTIMATORS = [10,20,30,40,50]\n",
        "CRITERION = [\"entropy\",\"gini\"]\n",
        "scores = dict()\n",
        "for max_depth in MAX_DEPTH:\n",
        "   for n_estimators in N_ESTIMATORS:\n",
        "     rf = RandomForest(n_estimators=n_estimators, max_depth=max_depth,random_state=23)\n",
        "     \n",
        "     # Train the classifier on the training set and evaluate it on the validation set\n",
        "     rf.fit(X_train.values, y_train.values)\n",
        "     y_pred = rf.predict(X_test.values)\n",
        "     accuracy = accuracy_score(y_test, y_pred)\n",
        "     str_t = \"max_depth: \" + str(max_depth) + \", n_estimators: \" + str(n_estimators)\n",
        "     scores[str_t] = accuracy"
      ],
      "metadata": {
        "id": "1ijEhI9ztoXd"
      },
      "execution_count": null,
      "outputs": []
    },
    {
      "cell_type": "code",
      "source": [
        "def fun(dict_):\n",
        "  return dict_[1]\n",
        "\n",
        "sorted(scores.items(),reverse=True, key = fun)[:15]"
      ],
      "metadata": {
        "colab": {
          "base_uri": "https://localhost:8080/"
        },
        "id": "qgYlLTGOt-Rs",
        "outputId": "19d5bb5e-0238-4d2f-84e5-12e888ec9ab7"
      },
      "execution_count": null,
      "outputs": [
        {
          "output_type": "execute_result",
          "data": {
            "text/plain": [
              "[('max_depth: 1, n_estimators: 10', 0.8524590163934426),\n",
              " ('max_depth: 1, n_estimators: 20', 0.8524590163934426),\n",
              " ('max_depth: 1, n_estimators: 30', 0.8524590163934426),\n",
              " ('max_depth: 1, n_estimators: 40', 0.8524590163934426),\n",
              " ('max_depth: 1, n_estimators: 50', 0.8524590163934426),\n",
              " ('max_depth: 4, n_estimators: 30', 0.8360655737704918),\n",
              " ('max_depth: 4, n_estimators: 40', 0.8360655737704918),\n",
              " ('max_depth: 5, n_estimators: 30', 0.8360655737704918),\n",
              " ('max_depth: 2, n_estimators: 30', 0.819672131147541),\n",
              " ('max_depth: 2, n_estimators: 40', 0.819672131147541),\n",
              " ('max_depth: 2, n_estimators: 50', 0.819672131147541),\n",
              " ('max_depth: 3, n_estimators: 10', 0.819672131147541),\n",
              " ('max_depth: 3, n_estimators: 30', 0.819672131147541),\n",
              " ('max_depth: 3, n_estimators: 40', 0.819672131147541),\n",
              " ('max_depth: 3, n_estimators: 50', 0.819672131147541)]"
            ]
          },
          "metadata": {},
          "execution_count": 301
        }
      ]
    },
    {
      "cell_type": "markdown",
      "source": [
        "checking for the optimum set of hyperparemeter\n"
      ],
      "metadata": {
        "id": "v8ZH4-hgvuAk"
      }
    },
    {
      "cell_type": "code",
      "source": [
        "rf = RandomForest(n_estimators=10, max_depth=1, random_state=6)\n",
        "rf.fit(X_train.values, y_train.values)\n",
        "y_pred = rf.predict(X_test.values)\n",
        "# print(\"Accuracy:\", accuracy_score(y_test, y_pred))\n",
        "evaluation_metrics(y_test.values, y_pred)"
      ],
      "metadata": {
        "colab": {
          "base_uri": "https://localhost:8080/"
        },
        "id": "QE7Eg-fPov8H",
        "outputId": "275bf515-80a6-4c8a-f0d3-2192f5695f08"
      },
      "execution_count": null,
      "outputs": [
        {
          "output_type": "stream",
          "name": "stdout",
          "text": [
            "Precision:  0.875\n",
            "Recall:  0.6666666666666666\n",
            "Accuracy:  0.8524590163934426\n",
            "F1 Score:  0.7567567567567567\n"
          ]
        }
      ]
    },
    {
      "cell_type": "markdown",
      "source": [
        "Random Forest Final Accuracy without SMOTE"
      ],
      "metadata": {
        "id": "eTlvAFQQvvju"
      }
    },
    {
      "cell_type": "markdown",
      "source": [
        "###SVC"
      ],
      "metadata": {
        "id": "0-rkrneauJeX"
      }
    },
    {
      "cell_type": "code",
      "source": [
        "# import numpy as np\n",
        "\n",
        "def linear_kernel(x1, x2):\n",
        "    return np.dot(x1, x2)\n",
        "\n",
        "def rbf_kernel(x1, x2, gamma=1.0):\n",
        "    diff = x1 - x2\n",
        "    distance = np.sum(diff * diff, axis=-1)\n",
        "    return np.exp(-gamma * distance)\n",
        "def smo(X, y, C, kernel, tol=1e-3, max_passes=5, random_state=None):\n",
        "    if random_state is not None:\n",
        "      np.random.seed(random_state)\n",
        "    n, m = X.shape\n",
        "    alpha = np.zeros(n)\n",
        "    b = 0.0\n",
        "    passes = 0\n",
        "\n",
        "    while passes < max_passes:\n",
        "        num_changed_alphas = 0\n",
        "\n",
        "        for i in range(n):\n",
        "            E_i = np.sum(alpha * y * kernel(X, X[i])) - y[i]\n",
        "            if (y[i] * E_i < -tol and alpha[i] < C) or (y[i] * E_i > tol and alpha[i] > 0):\n",
        "                j = np.random.choice(list(range(i)) + list(range(i + 1, n)))\n",
        "                E_j = np.sum(alpha * y * kernel(X, X[j])) - y[j]\n",
        "\n",
        "                alpha_i_old = alpha[i]\n",
        "                alpha_j_old = alpha[j]\n",
        "\n",
        "                if y[i] != y[j]:\n",
        "                    L = max(0, alpha[j] - alpha[i])\n",
        "                    H = min(C, C + alpha[j] - alpha[i])\n",
        "                else:\n",
        "                    L = max(0, alpha[i] + alpha[j] - C)\n",
        "                    H = min(C, alpha[i] + alpha[j])\n",
        "\n",
        "                if L == H:\n",
        "                    continue\n",
        "\n",
        "                eta = 2 * kernel(X[i], X[j]) - kernel(X[i], X[i]) - kernel(X[j], X[j])\n",
        "                if eta >= 0:\n",
        "                    continue\n",
        "\n",
        "                alpha[j] -= y[j] * (E_i - E_j) / eta\n",
        "                alpha[j] = np.clip(alpha[j], L, H)\n",
        "\n",
        "                if abs(alpha[j] - alpha_j_old) < tol:\n",
        "                    continue\n",
        "\n",
        "                alpha[i] += y[i] * y[j] * (alpha_j_old - alpha[j])\n",
        "\n",
        "                b1 = b - E_i - y[i] * (alpha[i] - alpha_i_old) * kernel(X[i], X[i]) - y[j] * (alpha[j] - alpha_j_old) * kernel(X[i], X[j])\n",
        "                b2 = b - E_j - y[i] * (alpha[i] - alpha_i_old) * kernel(X[i], X[j]) - y[j] * (alpha[j] - alpha_j_old) * kernel(X[j], X[j])\n",
        "\n",
        "                if 0 < alpha[i] < C:\n",
        "                    b = b1\n",
        "                elif 0 < alpha[j] < C:\n",
        "                    b = b2\n",
        "                else:\n",
        "                    b = (b1 + b2) / 2\n",
        "\n",
        "                num_changed_alphas += 1\n",
        "\n",
        "        passes = passes + 1 if num_changed_alphas == 0 else 0\n",
        "\n",
        "    return alpha, b\n",
        "\n",
        "def fit(X, y, C=1.0, kernel=rbf_kernel, gamma=1.0, random_state=None):\n",
        "    alpha, b = smo(X, y, C, lambda x1, x2: kernel(x1, x2, gamma), random_state=random_state)\n",
        "    support_indices = np.where(alpha > 0)[0]\n",
        "    support_vectors = X[support_indices]\n",
        "    support_alphas = alpha[support_indices]\n",
        "    support_targets = y[support_indices]\n",
        "    return support_vectors, support_alphas, support_targets, b\n",
        "\n",
        "def predict(X, support_vectors, support_alphas, support_targets, b, kernel=rbf_kernel, gamma=1.0):\n",
        "    predictions = np.zeros(X.shape[0])\n",
        "    for i, x in enumerate(X):\n",
        "        result = np.sum(support_alphas * support_targets * kernel(support_vectors, x)) + b\n",
        "        predictions[i] = np.sign(result)\n",
        "    return predictions"
      ],
      "metadata": {
        "id": "e1CEabrquKee"
      },
      "execution_count": null,
      "outputs": []
    },
    {
      "cell_type": "code",
      "source": [
        "y_train_edited = y_train.replace(0,-1)\n",
        "y_test_edited = y_test.replace(0,-1)"
      ],
      "metadata": {
        "id": "e1uvlHoN-txm"
      },
      "execution_count": null,
      "outputs": []
    },
    {
      "cell_type": "markdown",
      "source": [
        "Fine Tuning the SVC function on different hyperparameters"
      ],
      "metadata": {
        "id": "d7U9eg6qullw"
      }
    },
    {
      "cell_type": "code",
      "source": [
        "C_VALUES = [0.1, 1, 10, 100]\n",
        "GAMMA_VALUES = [0.1, 1, 10, 100]\n",
        "\n",
        "scores = dict()\n",
        "for c_values in C_VALUES:\n",
        "   for gamma_values in GAMMA_VALUES:\n",
        "     support_vectors, support_alphas, support_targets, b = fit(X_train.values, y_train_edited.values, kernel=rbf_kernel, C=c_values, gamma=gamma_values, random_state=44)\n",
        "     predictions = predict(X_test.values, support_vectors, support_alphas, support_targets, b, kernel=rbf_kernel, gamma=gamma_values)\n",
        "     # Train the classifier on the training set and evaluate it on the validation set\n",
        "\n",
        "     accuracy = np.mean(predictions == y_test_edited.values)\n",
        "     str_t = \"gamma_values: \" + str(gamma_values) + \", c_values: \" + str(c_values)\n",
        "     scores[str_t] = accuracy"
      ],
      "metadata": {
        "id": "lm4ojYQ0uYyA"
      },
      "execution_count": null,
      "outputs": []
    },
    {
      "cell_type": "code",
      "source": [
        "def fun(dict_):\n",
        "  return dict_[1]\n",
        "\n",
        "sorted(scores.items(), reverse=True, key = fun)[:15]"
      ],
      "metadata": {
        "colab": {
          "base_uri": "https://localhost:8080/"
        },
        "id": "4HzWv70l_jg6",
        "outputId": "e66306d8-81f5-4a73-c731-b845e6f98f19"
      },
      "execution_count": null,
      "outputs": [
        {
          "output_type": "execute_result",
          "data": {
            "text/plain": [
              "[('gamma_values: 0.1, c_values: 0.1', 0.6557377049180327),\n",
              " ('gamma_values: 1, c_values: 0.1', 0.6557377049180327),\n",
              " ('gamma_values: 10, c_values: 0.1', 0.6557377049180327),\n",
              " ('gamma_values: 100, c_values: 0.1', 0.6557377049180327),\n",
              " ('gamma_values: 1, c_values: 1', 0.6557377049180327),\n",
              " ('gamma_values: 10, c_values: 1', 0.6557377049180327),\n",
              " ('gamma_values: 100, c_values: 1', 0.6557377049180327),\n",
              " ('gamma_values: 0.1, c_values: 10', 0.6557377049180327),\n",
              " ('gamma_values: 1, c_values: 10', 0.6557377049180327),\n",
              " ('gamma_values: 10, c_values: 10', 0.6557377049180327),\n",
              " ('gamma_values: 100, c_values: 10', 0.6557377049180327),\n",
              " ('gamma_values: 0.1, c_values: 100', 0.6557377049180327),\n",
              " ('gamma_values: 1, c_values: 100', 0.6557377049180327),\n",
              " ('gamma_values: 10, c_values: 100', 0.6557377049180327),\n",
              " ('gamma_values: 100, c_values: 100', 0.6557377049180327)]"
            ]
          },
          "metadata": {},
          "execution_count": 201
        }
      ]
    },
    {
      "cell_type": "markdown",
      "source": [
        "checking for the optimum set of hyperparemeter\n"
      ],
      "metadata": {
        "id": "EvXd4gvxv5EO"
      }
    },
    {
      "cell_type": "code",
      "source": [
        "# y_train_edited = y_train.replace(0,-1)\n",
        "# y_test_edited = y_test.replace(0,-1)\n",
        "\n",
        "gamma = 0.1\n",
        "# Train the SVC\n",
        "support_vectors, support_alphas, support_targets, b = fit(X_train.values, y_train_edited.values, kernel=rbf_kernel, C=0.1, gamma=gamma, random_state=44)\n",
        "\n",
        "# Predict labels for the same dataset (just for demonstration)\n",
        "predictions = predict(X_test.values, support_vectors, support_alphas, support_targets, b, kernel=rbf_kernel, gamma=gamma)\n",
        "\n",
        "# Calculate and print the accuracy\n",
        "\n",
        "accuracy = np.mean(predictions == y_test_edited.values)\n",
        "print(\"Accuracy \", accuracy)\n",
        "# evaluation_metrics(y_test_edited.values, predictions)"
      ],
      "metadata": {
        "colab": {
          "base_uri": "https://localhost:8080/"
        },
        "id": "c3UZqt_quQvY",
        "outputId": "b3ac6751-c996-497a-814f-87f029c20f75"
      },
      "execution_count": null,
      "outputs": [
        {
          "output_type": "stream",
          "name": "stdout",
          "text": [
            "Accuracy  0.6557377049180327\n"
          ]
        }
      ]
    },
    {
      "cell_type": "markdown",
      "source": [
        "###XGBOOST"
      ],
      "metadata": {
        "id": "IJYarfZnzcbf"
      }
    },
    {
      "cell_type": "code",
      "source": [
        "from sklearn.metrics import f1_score, accuracy_score, confusion_matrix, roc_curve, auc"
      ],
      "metadata": {
        "id": "SU8kyWoHz3Cw"
      },
      "execution_count": null,
      "outputs": []
    },
    {
      "cell_type": "code",
      "source": [
        "def sigmoid(x):\n",
        "    return 1 / (1 + np.exp(-x))\n",
        "\n",
        "# first order gradient\n",
        "def grad(preds, labels):\n",
        "    preds = sigmoid(preds)\n",
        "    return (preds - labels)\n",
        "\n",
        "# second order gradient\n",
        "def hess(preds, labels):\n",
        "    preds = sigmoid(preds)\n",
        "    return (preds * (1 - preds))"
      ],
      "metadata": {
        "id": "z2lbzOH_zd6p"
      },
      "execution_count": null,
      "outputs": []
    },
    {
      "cell_type": "code",
      "source": [
        "class TreeNode(object):\n",
        "    def __init__(self, is_leaf = False, leaf_score = None, split_feature = None, split_threshold = None, \n",
        "                 left_child = None, right_child = None, NA_direction = 'left'):\n",
        "        self.is_leaf = is_leaf # if True, the node is a leaf and no further split necessary\n",
        "        self.leaf_score = leaf_score # prediction score\n",
        "        self.split_feature = split_feature\n",
        "        self.split_threshold = split_threshold\n",
        "        self.left_child = left_child\n",
        "        self.right_child = right_child\n",
        "        self.NA_direction = NA_direction # whether to put NA on left or right\n",
        "\n",
        "class Tree(object):\n",
        "    def __init__(self, root = None, min_sample_split = None, col_sub_frac = None, lamda = None, \n",
        "                 gamma = None, num_thread = None, min_child_weight = None, random_state=None):\n",
        "        self.random_state = random_state\n",
        "        self.root = root\n",
        "        self.min_sample_split = min_sample_split # minimum samples required for a split\n",
        "        self.col_sub_frac = col_sub_frac # column subsampling fraction\n",
        "        self.lamda = lamda #lambda\n",
        "        self.gamma = gamma #gamma\n",
        "        self.min_child_weight = min_child_weight # minimum weight for a split\n",
        "    \n",
        "    def cal_leaf_score(self, Y):\n",
        "        # calculate score for a leaf\n",
        "        # Formula (5): -G / (H + Lambda)\n",
        "        return - (Y['grad'].sum() / (Y['hess'].sum() + self.lamda))\n",
        "    \n",
        "    def cal_split_gain(self, left_Y, right_Y, NA_grad, NA_hess, NA_direction = 'left'):\n",
        "        # calculate gain from a potential split\n",
        "        # Formula (7): 0.5 * [GL^2 / (HL+Lambda) + GR^2 / (HR+Lambda) - G^2 / (H+Lambda)] - Gamma\n",
        "        if (NA_direction == 'left'):\n",
        "            GL = left_Y['grad'].sum() + NA_grad\n",
        "            HL = left_Y['hess'].sum() + NA_hess\n",
        "            GR = right_Y['grad'].sum()\n",
        "            HR = right_Y['hess'].sum()\n",
        "        else:\n",
        "            GL = left_Y['grad'].sum()\n",
        "            HL = left_Y['hess'].sum()\n",
        "            GR = right_Y['grad'].sum() + NA_grad\n",
        "            HR = right_Y['hess'].sum() + NA_hess\n",
        "        gain = 0.5 * ( (GL**2/(HL+self.lamda)) + (GR**2/(HR+self.lamda)) - ((GL+GR)**2/(HL+HR+self.lamda)) ) - self.gamma\n",
        "        return gain\n",
        "    \n",
        "    def weighted_quantile_sketch(self, dt, feature):\n",
        "        # find the best split value for a given feature\n",
        "        best_split_value = None\n",
        "        best_gain = -np.inf\n",
        "        best_NA_direction = 'left'\n",
        "        \n",
        "        selected_dt = dt[[feature, 'label', 'grad', 'hess']]\n",
        "        \n",
        "        # divide selected_dt into data with/without NA\n",
        "        mask = selected_dt[feature].isnull()\n",
        "        NA_dt = selected_dt[mask]\n",
        "        Non_NA_dt = selected_dt[~mask]\n",
        "        \n",
        "        # for NA data, calculate NA_grad & NA_hess\n",
        "        NA_grad = NA_dt['grad'].sum()\n",
        "        NA_hess = NA_dt['hess'].sum()\n",
        "        \n",
        "        # for non NA data, order data by feature value\n",
        "        Non_NA_dt.reset_index(inplace = True)\n",
        "        Non_NA_dt['feature_index'] = Non_NA_dt[feature].argsort() # assign new index based on feature value\n",
        "        Non_NA_dt = Non_NA_dt.iloc[Non_NA_dt['feature_index']] # sort\n",
        "        \n",
        "        # weighted quantile sketch\n",
        "        hess_sum = Non_NA_dt['hess'].sum()\n",
        "        # formula (8)\n",
        "        Non_NA_dt['rank'] = Non_NA_dt.apply(lambda x : (1/hess_sum)*sum(Non_NA_dt[Non_NA_dt[feature] < x[feature]]['hess']),\n",
        "                                            axis=1)\n",
        "\n",
        "        # loop over feature value to find split gain\n",
        "        for j in range(Non_NA_dt.shape[0]-1):\n",
        "            \n",
        "            # look at the current rank and the next rank\n",
        "            rk_sk_j, rk_sk_j_1 = Non_NA_dt['rank'].iloc[j:j+2]\n",
        "            \n",
        "            # formula (9)\n",
        "            # compare | rk(sk,j) - rk(sk,j+1) | with eps\n",
        "            if (abs(rk_sk_j-rk_sk_j_1) >= self.eps):\n",
        "                continue\n",
        "            \n",
        "            # if | rk(sk,j) - rk(sk,j+1) | < eps, then propose a split\n",
        "            split_value = (Non_NA_dt[feature].iloc[j+1] + Non_NA_dt[feature].iloc[j])/2\n",
        "                \n",
        "            left_Y = Non_NA_dt.iloc[:(j+1)] # observations before this point are put in the left tree\n",
        "            right_Y = Non_NA_dt.iloc[(j+1):] # observations after this point are put in the right tree\n",
        "            \n",
        "            # decide on where to put NA\n",
        "            go_left = self.cal_split_gain(left_Y, right_Y, NA_grad, NA_hess, NA_direction = 'left')\n",
        "            go_right = self.cal_split_gain(left_Y, right_Y, NA_grad, NA_hess, NA_direction = 'right')\n",
        "            \n",
        "            if (go_left > go_right):\n",
        "                this_gain = go_left\n",
        "                this_direction = 'left'\n",
        "            else:\n",
        "                this_gain = go_right\n",
        "                this_direction = 'right'\n",
        "            \n",
        "            # always choose the best gain\n",
        "            if (this_gain > best_gain):\n",
        "                best_split_value = split_value\n",
        "                best_gain = this_gain\n",
        "                best_NA_direction = this_direction\n",
        "        \n",
        "        return feature, best_split_value, best_gain, best_NA_direction\n",
        "    \n",
        "    def find_best_split_value_and_feature(self, X, Y):\n",
        "        best_gain = -np.inf\n",
        "        best_feature, best_split_value, results = None, None, None\n",
        "        \n",
        "        features = list(X.columns) # get a list of all features\n",
        "        data = pd.concat([X, Y], axis = 1)\n",
        "        \n",
        "        results = []\n",
        "        for j in range(len(features)):\n",
        "            results.append(self.weighted_quantile_sketch(data, features[j]))\n",
        "        \n",
        "        # find the best split\n",
        "        best = sorted(results, key = lambda x: float(x[2]), reverse = True)[0]\n",
        "        best_feature = best[0]\n",
        "        best_split_value = best[1]\n",
        "        best_gain = best[2]\n",
        "        best_NA_direction = best[3]\n",
        "        \n",
        "        return best_feature, best_split_value, best_gain, best_NA_direction\n",
        "    \n",
        "    def split(self, X, Y, feature, split_value, NA_direction):\n",
        "        data = pd.concat([X, Y], axis = 1)\n",
        "        X_cols, Y_cols = list(X.columns), list(Y.columns)\n",
        "        \n",
        "        if(NA_direction == 'left'):\n",
        "            mask = (data[feature] >= split_value)\n",
        "            left = data[~mask] # left take all NA\n",
        "            right = data[mask]\n",
        "        else:\n",
        "            mask = (data[feature] < split_value)\n",
        "            left = data[mask]\n",
        "            right = data[~mask] # right take all NA\n",
        "        \n",
        "        return left[X_cols], left[Y_cols], right[X_cols], right[Y_cols]\n",
        "    \n",
        "    def build_tree(self, X, Y, depth):\n",
        "        # return a tree node when cannot split\n",
        "        if (X.shape[0] < self.min_sample_split) or (depth == 0) or (Y['hess'].sum() < self.min_child_weight):\n",
        "            l_score = self.cal_leaf_score(Y)\n",
        "            return TreeNode(is_leaf = True, leaf_score = l_score)\n",
        "        \n",
        "        # column sub-sampling to reduce overfitting\n",
        "        if self.random_state is not None:\n",
        "            np.random.seed(self.random_state)\n",
        "        X_sub = X.sample(frac = self.col_sub_frac, axis = 1)\n",
        "        best_feature, best_split_value, best_gain, best_NA_direction = self.find_best_split_value_and_feature(X_sub, Y)\n",
        "        \n",
        "        if (best_gain <= 0):\n",
        "            l_score = self.cal_leaf_score(Y)\n",
        "            return TreeNode(is_leaf = True, leaf_score = l_score)\n",
        "        \n",
        "        # split data\n",
        "        left_X, left_Y, right_X, right_Y = self.split(X_sub, Y, best_feature, best_split_value, best_NA_direction)\n",
        "        left_child = self.build_tree(left_X, left_Y, depth - 1)\n",
        "        right_child = self.build_tree(right_X, right_Y, depth - 1)\n",
        "        \n",
        "        # merge two trees together\n",
        "        sub_tree = TreeNode(is_leaf = False, leaf_score = None, split_feature = best_feature, split_threshold = best_split_value, \n",
        "                 left_child = left_child, right_child = right_child, NA_direction = best_NA_direction)\n",
        "        \n",
        "        return sub_tree\n",
        "    \n",
        "    def fit(self, X, Y, max_depth = 3, min_child_weight = 1, col_sub_frac = 1, min_sample_split = 10, \n",
        "            lamda = 1, gamma = 0.05, eps = 0.001):\n",
        "        self.min_child_weight = min_child_weight\n",
        "        self.col_sub_frac = col_sub_frac\n",
        "        self.min_sample_split = min_sample_split\n",
        "        self.lamda = lamda\n",
        "        self.gamma = gamma\n",
        "        self.eps = eps\n",
        "        self.root = self.build_tree(X, Y, max_depth)\n",
        "    \n",
        "    def predict_one(self, tree_node, X):\n",
        "        # predict one observation\n",
        "        # print predicted score at leaf\n",
        "        \n",
        "        if tree_node.is_leaf == True:\n",
        "            return tree_node.leaf_score\n",
        "        # if the observation has a missing value for this feature and NA direction is left\n",
        "        elif (type(X[tree_node.split_feature].item()) != int) and (type(X[tree_node.split_feature].item()) != float) and (tree_node.NA_direction == 'left'):\n",
        "            return self.predict_one(tree_node.left_child, X)\n",
        "        \n",
        "        # if value of the feature is less than the split value\n",
        "        elif ((X[tree_node.split_feature] < tree_node.split_threshold).item()):\n",
        "            return self.predict_one(tree_node.left_child, X)\n",
        "        \n",
        "        # all else\n",
        "        else:\n",
        "            return self.predict_one(tree_node.right_child, X)\n",
        "        \n",
        "    def predict(self, X):\n",
        "        # make predictions\n",
        "        preds = []\n",
        "        for n in range(X.shape[0]):\n",
        "            preds.append(self.predict_one(self.root, X.iloc[[n]]))\n",
        "        return np.array(preds)"
      ],
      "metadata": {
        "id": "Qt-OlinDzgVK"
      },
      "execution_count": null,
      "outputs": []
    },
    {
      "cell_type": "code",
      "source": [
        "def xgboost_train(X, Y, eta, max_round, max_depth, row_sub_frac, col_sub_frac, min_child_weight, \n",
        "                  min_sample_split, lamda, gamma, eps, metric, random_state=None):\n",
        "    \n",
        "    # initialize variables\n",
        "    trees = [] # tree models in this xgboost\n",
        "    initialize_pred = 1 # initialize a starting point for prediction\n",
        "    best_metric_value, best_round = -np.inf, None\n",
        "    metric_value_list = []\n",
        "    \n",
        "    # reset index for X & Y\n",
        "    X.reset_index(drop = True, inplace = True)\n",
        "    Y = Y.to_frame(name = 'label')\n",
        "    Y.reset_index(drop = True, inplace = True)\n",
        "    \n",
        "    # initialize Y\n",
        "    Y['y_pred'] = initialize_pred\n",
        "    Y['grad'] = grad(Y['y_pred'], Y['label'])\n",
        "    Y['hess'] = hess(Y['y_pred'], Y['label'])\n",
        "        \n",
        "    for i in range(max_round):\n",
        "        data = pd.concat([X, Y], axis = 1)\n",
        "        # in each boosting round, use row sub-sampling to reduce overfitting\n",
        "        if random_state is not None:\n",
        "            np.random.seed(random_state)\n",
        "        data = data.sample(frac = row_sub_frac, axis = 0)\n",
        "            \n",
        "        Y_Selected = data[['label', 'y_pred', 'grad', 'hess']]\n",
        "        X_Selected = data[list(X.columns)]\n",
        "            \n",
        "        tree = Tree()\n",
        "        tree.fit(X_Selected, Y_Selected, max_depth = max_depth, min_child_weight = min_child_weight, col_sub_frac = col_sub_frac,\n",
        "                 min_sample_split = min_sample_split, lamda = lamda, gamma = gamma, eps = eps)\n",
        "        # predict on the whole training set\n",
        "        preds = tree.predict(X)\n",
        "        # eta is a shrinkage factor to prevent overfitting\n",
        "        Y['y_pred'] = Y['y_pred'] + eta * preds\n",
        "        Y['grad'] = grad(Y['y_pred'], Y['label'])\n",
        "        Y['hess'] = hess(Y['y_pred'], Y['label'])\n",
        "            \n",
        "        trees.append(tree)\n",
        "        \n",
        "        # print out current iteration and its corresponding metric value\n",
        "        print(\"Iteration: \", i)\n",
        "        test_perf = []\n",
        "        avg = Y['y_pred'].mean()\n",
        "        for j in Y['y_pred']:\n",
        "            if (j > avg):\n",
        "                test_perf.append(1)\n",
        "            else:\n",
        "                test_perf.append(0)\n",
        "        \n",
        "        # decide on metric to use\n",
        "        if (metric == 'f1'):\n",
        "            m = f1_score(Y['label'], test_perf)\n",
        "            print(\"F1-Score: \", m)\n",
        "            metric_value_list.append(m)\n",
        "        if (metric == 'accuracy'):\n",
        "            m = accuracy_score(Y['label'], test_perf)\n",
        "            print(\"Accuracy: \", m)\n",
        "        \n",
        "        # replace best metric\n",
        "        if (m > best_metric_value):\n",
        "            best_metric_value = m\n",
        "            best_round = i\n",
        "    \n",
        "    # too many training rounds may cause overfitting and/or decreased performance\n",
        "    # choose xgboost model when its training metric reaches its maximum\n",
        "    best_trees = trees[:(i+1)]\n",
        "    # plt.plot(metric_value_list)\n",
        "    # plt.show()\n",
        "    \n",
        "    return best_trees, eta"
      ],
      "metadata": {
        "id": "fO12BGqOzn-A"
      },
      "execution_count": null,
      "outputs": []
    },
    {
      "cell_type": "code",
      "source": [
        "def xgboost_predict(trees, X_test, eta):\n",
        "    # initialize starting point for prediction\n",
        "    preds = np.ones(X_test.shape[0])\n",
        "    for tree in trees:\n",
        "        preds = preds + tree.predict(X_test) * eta\n",
        "    \n",
        "    adj_preds = []\n",
        "    avg = preds.mean()\n",
        "    for i in preds:\n",
        "        if (i > avg):\n",
        "            adj_preds.append(1)\n",
        "        else:\n",
        "            adj_preds.append(0)\n",
        "    \n",
        "    return adj_preds"
      ],
      "metadata": {
        "id": "dATPGOZvzrzT"
      },
      "execution_count": null,
      "outputs": []
    },
    {
      "cell_type": "code",
      "source": [
        "model, eta = xgboost_train(X_train, y_train, \n",
        "                           eta = 0.4, # shrinkage factor that reduces influence of each individual tree\n",
        "                           max_round = 10, # the total number of training rounds\n",
        "                           max_depth = 6, # the max depth for each tree\n",
        "                           row_sub_frac = 0.95, # sampling percentage of observations used to reduce overfitting\n",
        "                           col_sub_frac = 1,  # sampling percentage of columns used to reduce overfitting\n",
        "                           min_child_weight = 1, # min weight for a tree to split\n",
        "                           min_sample_split = 10, # min sample required for a split\n",
        "                           lamda = 1, # lambda: L2 regularization term on weights\n",
        "                           gamma = 0, # gamma(regularization term): minimum loss reduction required for a split\n",
        "                           eps = 0.003, # epsilon for weighted quantile sketch\n",
        "                           metric = 'accuracy', random_state=12)"
      ],
      "metadata": {
        "colab": {
          "base_uri": "https://localhost:8080/"
        },
        "id": "21C14QR3zthw",
        "outputId": "0d0e60d2-46cf-416e-a967-4fdf920bdcdd"
      },
      "execution_count": null,
      "outputs": [
        {
          "output_type": "stream",
          "name": "stdout",
          "text": [
            "Iteration:  0\n",
            "Accuracy:  0.8640350877192983\n",
            "Iteration:  1\n",
            "Accuracy:  0.8640350877192983\n",
            "Iteration:  2\n",
            "Accuracy:  0.8377192982456141\n",
            "Iteration:  3\n",
            "Accuracy:  0.8377192982456141\n",
            "Iteration:  4\n",
            "Accuracy:  0.8596491228070176\n",
            "Iteration:  5\n",
            "Accuracy:  0.8640350877192983\n",
            "Iteration:  6\n",
            "Accuracy:  0.8728070175438597\n",
            "Iteration:  7\n",
            "Accuracy:  0.8728070175438597\n",
            "Iteration:  8\n",
            "Accuracy:  0.881578947368421\n",
            "Iteration:  9\n",
            "Accuracy:  0.881578947368421\n"
          ]
        }
      ]
    },
    {
      "cell_type": "code",
      "source": [
        "prediction = xgboost_predict(model, X_test, eta)\n",
        "# print(\"Test Accuracy: \", accuracy_score(y_test, prediction))"
      ],
      "metadata": {
        "id": "JOCev9diLOVF"
      },
      "execution_count": null,
      "outputs": []
    },
    {
      "cell_type": "code",
      "source": [
        "evaluation_metrics(y_test.values, prediction)"
      ],
      "metadata": {
        "colab": {
          "base_uri": "https://localhost:8080/"
        },
        "id": "VYnvUM0_OptC",
        "outputId": "b194d375-967b-4de9-b6c9-6d72d6bace8a"
      },
      "execution_count": null,
      "outputs": [
        {
          "output_type": "stream",
          "name": "stdout",
          "text": [
            "Precision:  0.59375\n",
            "Recall:  0.9047619047619048\n",
            "Accuracy:  0.7540983606557377\n",
            "F1 Score:  0.7169811320754718\n"
          ]
        }
      ]
    },
    {
      "cell_type": "markdown",
      "source": [
        "XGBoost Final Accuracy without SMOTE"
      ],
      "metadata": {
        "id": "-Fn1mwvbwrcr"
      }
    },
    {
      "cell_type": "markdown",
      "source": [
        "##Synthetic Minority Oversampling Technique (SMOTE)"
      ],
      "metadata": {
        "id": "vNUYQpLHLwB3"
      }
    },
    {
      "cell_type": "code",
      "source": [
        "from imblearn.over_sampling import SMOTE\n",
        "\n",
        "smote = SMOTE(sampling_strategy=0.9, random_state=42) # we are taking 0.9 sampling strategy so that the class with minor sample will be scaled to 90% of the amount of instances in majority class\n",
        "X_train_resampled, y_train_resampled = smote.fit_resample(X_train, y_train)"
      ],
      "metadata": {
        "id": "YbJbSVl5LxfX"
      },
      "execution_count": null,
      "outputs": []
    },
    {
      "cell_type": "code",
      "source": [
        "y_train_resampled.value_counts()"
      ],
      "metadata": {
        "colab": {
          "base_uri": "https://localhost:8080/"
        },
        "id": "qxNkrmMJTWGP",
        "outputId": "b9a2fa95-a8dd-471c-8dde-ef8c33c4f7fc"
      },
      "execution_count": null,
      "outputs": [
        {
          "output_type": "execute_result",
          "data": {
            "text/plain": [
              "0    158\n",
              "1    142\n",
              "Name: DEATH_EVENT, dtype: int64"
            ]
          },
          "metadata": {},
          "execution_count": 240
        }
      ]
    },
    {
      "cell_type": "markdown",
      "source": [
        "Class value count after SMOTE"
      ],
      "metadata": {
        "id": "NNJfWsVtxPjy"
      }
    },
    {
      "cell_type": "markdown",
      "source": [
        "Here we can see that using smote we are able to generate syntehically augmented data which mimic the original minor class hense help us in eradicating class imbalance in the dataset"
      ],
      "metadata": {
        "id": "NCjGfkotxVxV"
      }
    },
    {
      "cell_type": "code",
      "source": [
        "X_train_arr = X_train_resampled.to_numpy()\n",
        "y_train_arr = y_train_resampled.to_numpy().reshape(-1, 1)"
      ],
      "metadata": {
        "id": "PTwTLz3aXav1"
      },
      "execution_count": null,
      "outputs": []
    },
    {
      "cell_type": "markdown",
      "source": [
        "### Logistic Regression with l2 regularization with SMOTE"
      ],
      "metadata": {
        "id": "LO0UVepfxpK3"
      }
    },
    {
      "cell_type": "code",
      "source": [
        "def sigmoid(z):\n",
        "    return 1 / (1 + np.exp(-z))\n",
        "\n",
        "def cost_function(X, y, theta, lambda_reg):\n",
        "    m = len(y)\n",
        "    h = sigmoid(X @ theta)\n",
        "    reg_term = (lambda_reg / (2 * m)) * np.sum(np.square(theta[1:]))\n",
        "    return (-1 / m) * (y.T @ np.log(h) + (1 - y).T @ np.log(1 - h)) + reg_term\n",
        "\n",
        "def gradient(X, y, theta, lambda_reg):\n",
        "    m = len(y)\n",
        "    h = sigmoid(X @ theta)\n",
        "    reg_term = (lambda_reg / m) * theta\n",
        "    reg_term[0] = 0  # Exclude the bias term from regularization\n",
        "    return (1 / m) * (X.T @ (h - y)) + reg_term\n",
        "\n",
        "def logistic_regression(X_train_arr, y_train_arr, alpha, num_iters, lambda_reg, random_state=None):\n",
        "    if random_state is not None:\n",
        "        np.random.seed(random_state)\n",
        "        \n",
        "    theta = np.random.rand(X_train_arr.shape[1], 1)  # Randomly initialize theta values\n",
        "    cost = []\n",
        "    \n",
        "    for i in range(num_iters):\n",
        "        cost_val = cost_function(X_train_arr, y_train_arr, theta, lambda_reg)\n",
        "        cost.append(cost_val)\n",
        "        theta = theta - alpha * gradient(X_train_arr, y_train_arr, theta, lambda_reg)\n",
        "        \n",
        "    return theta, cost\n",
        "\n",
        "# Usage example\n",
        "alpha = 0.01\n",
        "num_iters = 50000\n",
        "lambda_reg = 15  # Regularization strength; try different values to see the effect\n",
        "random_state = 49\n",
        "\n",
        "theta, cost = logistic_regression(X_train_arr, y_train_arr, alpha, num_iters, lambda_reg, random_state=random_state)\n",
        "\n",
        "y_pred = sigmoid(X_test_arr @ theta)\n",
        "y_pred = (y_pred >= 0.5).astype(int)  # Convert probabilities to class labels (0 or 1)\n",
        "\n",
        "# Calculate the accuracy of the model\n",
        "accuracy = accuracy_score(y_test_arr, y_pred)\n",
        "print(f\"Accuracy: {accuracy}\")"
      ],
      "metadata": {
        "colab": {
          "base_uri": "https://localhost:8080/"
        },
        "id": "aAeQHKdzTaDa",
        "outputId": "6eb75196-6494-4bb2-b7b8-25ccae6de06e"
      },
      "execution_count": null,
      "outputs": [
        {
          "output_type": "stream",
          "name": "stdout",
          "text": [
            "Accuracy: 0.7704918032786885\n"
          ]
        }
      ]
    },
    {
      "cell_type": "markdown",
      "source": [
        "Fine Tuning the logistic regression function on different hyperparameters"
      ],
      "metadata": {
        "id": "rZElN1PYutZL"
      }
    },
    {
      "cell_type": "code",
      "source": [
        "ALPHA = [0.2,0.1,0.05,0.01]\n",
        "NUM_ITERATION = [5000,10000,20000,30000]\n",
        "LAMBDA_REG = [0.1,0.5,1,3,5,7,10,15]\n",
        "\n",
        "scores = dict()\n",
        "for alpha in ALPHA:\n",
        "   for num_iter in NUM_ITERATION:\n",
        "     for l2 in LAMBDA_REG:\n",
        "        cost_ = []\n",
        "        \n",
        "        theta, cost = logistic_regression(X_train_arr, y_train_arr, alpha, num_iter, l2,random_state=49)\n",
        "        cost_.append(cost)\n",
        "        \n",
        "        y_pred = sigmoid(X_test_arr @ theta)\n",
        "        y_pred = (y_pred >= 0.5).astype(int)\n",
        "        \n",
        "        str_t = \"num_iter: \" + str(num_iter) + \", alpha: \" + str(alpha)\n",
        "        \n",
        "        accuracy = accuracy_score(y_test_arr, y_pred)\n",
        "        # print(accuracy)\n",
        "        scores[str_t] = accuracy"
      ],
      "metadata": {
        "id": "YKlZUZeuXuz7"
      },
      "execution_count": null,
      "outputs": []
    },
    {
      "cell_type": "code",
      "source": [
        "def fun(dict_):\n",
        "  return dict_[1]\n",
        "\n",
        "sorted(scores.items(),reverse=True, key = fun)[:15]"
      ],
      "metadata": {
        "colab": {
          "base_uri": "https://localhost:8080/"
        },
        "id": "UVmqe2qCXrii",
        "outputId": "c648483f-6dad-42bf-9fc0-ff150be06c34"
      },
      "execution_count": null,
      "outputs": [
        {
          "output_type": "execute_result",
          "data": {
            "text/plain": [
              "[('num_iter: 5000, alpha: 0.2', 0.7704918032786885),\n",
              " ('num_iter: 10000, alpha: 0.2', 0.7704918032786885),\n",
              " ('num_iter: 20000, alpha: 0.2', 0.7704918032786885),\n",
              " ('num_iter: 30000, alpha: 0.2', 0.7704918032786885),\n",
              " ('num_iter: 5000, alpha: 0.1', 0.7704918032786885),\n",
              " ('num_iter: 10000, alpha: 0.1', 0.7704918032786885),\n",
              " ('num_iter: 20000, alpha: 0.1', 0.7704918032786885),\n",
              " ('num_iter: 30000, alpha: 0.1', 0.7704918032786885),\n",
              " ('num_iter: 5000, alpha: 0.05', 0.7704918032786885),\n",
              " ('num_iter: 10000, alpha: 0.05', 0.7704918032786885),\n",
              " ('num_iter: 20000, alpha: 0.05', 0.7704918032786885),\n",
              " ('num_iter: 30000, alpha: 0.05', 0.7704918032786885),\n",
              " ('num_iter: 5000, alpha: 0.01', 0.7704918032786885),\n",
              " ('num_iter: 10000, alpha: 0.01', 0.7704918032786885),\n",
              " ('num_iter: 20000, alpha: 0.01', 0.7704918032786885)]"
            ]
          },
          "metadata": {},
          "execution_count": 260
        }
      ]
    },
    {
      "cell_type": "markdown",
      "source": [
        "checking for the optimum set of hyperparemeter\n"
      ],
      "metadata": {
        "id": "T4NVPLuSxvVR"
      }
    },
    {
      "cell_type": "code",
      "source": [
        "evaluation_metrics(y_test_arr, y_pred)"
      ],
      "metadata": {
        "colab": {
          "base_uri": "https://localhost:8080/"
        },
        "id": "NXU1FiXoX6lX",
        "outputId": "201eef23-6364-41d6-ddf9-96bc536e70df"
      },
      "execution_count": null,
      "outputs": [
        {
          "output_type": "stream",
          "name": "stdout",
          "text": [
            "Precision:  0.6296296296296297\n",
            "Recall:  0.8095238095238095\n",
            "Accuracy:  0.7704918032786885\n",
            "F1 Score:  0.7083333333333334\n"
          ]
        }
      ]
    },
    {
      "cell_type": "markdown",
      "source": [
        "Logistic Regression Final Performance with SMOTE"
      ],
      "metadata": {
        "id": "OnxqyaA2xwmZ"
      }
    },
    {
      "cell_type": "markdown",
      "source": [
        "### Decision Tree with SMOTE"
      ],
      "metadata": {
        "id": "5zJFmnD8af-e"
      }
    },
    {
      "cell_type": "code",
      "source": [
        "class DecisionTree:\n",
        "    def __init__(self, max_depth=None, min_samples_split=2, min_samples_leaf=1,\n",
        "                 max_features=None, criterion='gini', splitter='best', class_weight=None,\n",
        "                 random_state=None):\n",
        "        self.max_depth = max_depth\n",
        "        self.min_samples_split = min_samples_split\n",
        "        self.min_samples_leaf = min_samples_leaf\n",
        "        self.max_features = max_features\n",
        "        self.criterion = criterion\n",
        "        self.splitter = splitter\n",
        "        self.class_weight = class_weight\n",
        "        self.random_state = random_state\n",
        "        self.tree = None\n",
        "    \n",
        "    def fit(self, X, y):\n",
        "        self.n_features = X.shape[1]\n",
        "        self.n_classes = len(np.unique(y))\n",
        "        self.tree = self._grow_tree(X, y)\n",
        "    \n",
        "    def _best_split(self, X, y):\n",
        "        if self.random_state is not None:\n",
        "            np.random.seed(self.random_state)\n",
        "            \n",
        "        m = y.size\n",
        "        if m <= 1:\n",
        "            return None, None\n",
        "        num_parent = [np.sum(y == c) for c in range(self.n_classes)]\n",
        "        best_gini = float('inf')\n",
        "        best_idx, best_thr = None, None\n",
        "        if self.splitter == 'random':\n",
        "            idxs = np.arange(self.n_features)\n",
        "            np.random.shuffle(idxs)\n",
        "        else:\n",
        "            idxs = range(self.n_features)\n",
        "        for i in idxs:\n",
        "            thresholds, classes = zip(*sorted(zip(X[:, i], y)))\n",
        "            num_left = [0] * self.n_classes\n",
        "            num_right = num_parent.copy()\n",
        "            for j in range(1, m):\n",
        "                c = classes[j - 1]\n",
        "                num_left[c] += 1\n",
        "                num_right[c] -= 1\n",
        "                gini_left = 1.0 - sum((num_left[x] / j) ** 2 for x in range(self.n_classes))\n",
        "                gini_right = 1.0 - sum((num_right[x] / (m - j)) ** 2 for x in range(self.n_classes))\n",
        "                gini = (j * gini_left + (m - j) * gini_right) / m\n",
        "                if thresholds[j] == thresholds[j - 1]:\n",
        "                    continue\n",
        "                if gini < best_gini:\n",
        "                    best_gini = gini\n",
        "                    best_idx = i\n",
        "                    best_thr = (thresholds[j] + thresholds[j - 1]) / 2  # midpoint\n",
        "        return best_idx, best_thr\n",
        "    \n",
        "    def _grow_tree(self, X, y, depth=0):\n",
        "        num_samples_per_class = [np.sum(y == i) for i in range(self.n_classes)]\n",
        "        predicted_class = np.argmax(num_samples_per_class)\n",
        "        node = {'predicted_class': predicted_class}\n",
        "        if depth < self.max_depth:\n",
        "            idx, thr = self._best_split(X, y)\n",
        "            if idx is not None:\n",
        "                left_idxs = X[:, idx] < thr\n",
        "                X_left, y_left = X[left_idxs], y[left_idxs]\n",
        "                X_right, y_right = X[~left_idxs], y[~left_idxs]\n",
        "                if len(X_left) > self.min_samples_leaf and len(X_right) > self.min_samples_leaf:\n",
        "                    node['feature_idx'] = idx\n",
        "                    node['threshold'] = thr\n",
        "                    left = self._grow_tree(X_left, y_left, depth + 1)\n",
        "                    right = self._grow_tree(X_right, y_right, depth + 1)\n",
        "                    node['left'] = left\n",
        "                    node['right'] = right\n",
        "        return node\n",
        "    \n",
        "    def predict(self, X):\n",
        "        return [self._predict(inputs) for inputs in X]\n",
        "    \n",
        "    def _predict(self, inputs, node=None):\n",
        "      if node is None:\n",
        "          node = self.tree\n",
        "      if 'feature_idx' not in node:\n",
        "          return node['predicted_class']\n",
        "      if inputs[node['feature_idx']] < node['threshold']:\n",
        "          return self._predict(inputs, node['left'])\n",
        "      else:\n",
        "          return self._predict(inputs, node['right'])\n",
        "\n",
        "    def print_tree(self, node=None, depth=0):\n",
        "      if node is None:\n",
        "          node = self.tree\n",
        "      if 'feature_idx' in node:\n",
        "          print(' ' * depth, f'X_{node[\"feature_idx\"]} < {node[\"threshold\"]}')\n",
        "          self.print_tree(node['left'], depth + 1)\n",
        "          self.print_tree(node['right'], depth + 1)\n",
        "      else:\n",
        "          print(' ' * depth, f'class {node[\"predicted_class\"]}')"
      ],
      "metadata": {
        "id": "oytMGRV7a3Eg"
      },
      "execution_count": null,
      "outputs": []
    },
    {
      "cell_type": "markdown",
      "source": [
        "Fine Tuning the decison tree function on different hyperparameters"
      ],
      "metadata": {
        "id": "0Ws_JGaAuvxE"
      }
    },
    {
      "cell_type": "code",
      "source": [
        "MAX_DEPTH  = [2,3,4,5,6]\n",
        "MIN_SAMPLES_SPLIT = [1,3,5,7,9]\n",
        "CRITERION = [\"entropy\",\"gini\"]\n",
        "scores = dict()\n",
        "for max_depth in MAX_DEPTH:\n",
        " for min_samples_split in MIN_SAMPLES_SPLIT:\n",
        "   for criterion in CRITERION:\n",
        "     clf = DecisionTree(max_depth=max_depth, min_samples_split=min_samples_split, criterion=criterion,random_state=41)\n",
        "     \n",
        "     # Train the classifier on the training set and evaluate it on the validation set\n",
        "     clf.fit(X_train_resampled.values, y_train_resampled.values)\n",
        "     y_pred = clf.predict(X_test.values)\n",
        "     acc = accuracy_score(y_test.values, y_pred)\n",
        "     str_t = \"max_depth: \" + str(max_depth) + \", min_samples_split: \" + str(min_samples_split) + \", criterian: \" + criterion\n",
        "     scores[str_t] = acc"
      ],
      "metadata": {
        "id": "Ny1TqQZ8bYV_"
      },
      "execution_count": null,
      "outputs": []
    },
    {
      "cell_type": "markdown",
      "source": [
        "checking for the optimum set of hyperparemeter"
      ],
      "metadata": {
        "id": "gc3KM_gIx-E9"
      }
    },
    {
      "cell_type": "code",
      "source": [
        "def fun(dict_):\n",
        "  return dict_[1]\n",
        "\n",
        "sorted(scores.items(),reverse=True, key = fun)[:15]"
      ],
      "metadata": {
        "colab": {
          "base_uri": "https://localhost:8080/"
        },
        "id": "peiOpL4FW12v",
        "outputId": "61559f58-ef01-4d6f-cf8d-8db348337a4d"
      },
      "execution_count": null,
      "outputs": [
        {
          "output_type": "execute_result",
          "data": {
            "text/plain": [
              "[('max_depth: 3, min_samples_split: 1, criterian: entropy',\n",
              "  0.7868852459016393),\n",
              " ('max_depth: 3, min_samples_split: 1, criterian: gini', 0.7868852459016393),\n",
              " ('max_depth: 3, min_samples_split: 3, criterian: entropy',\n",
              "  0.7868852459016393),\n",
              " ('max_depth: 3, min_samples_split: 3, criterian: gini', 0.7868852459016393),\n",
              " ('max_depth: 3, min_samples_split: 5, criterian: entropy',\n",
              "  0.7868852459016393),\n",
              " ('max_depth: 3, min_samples_split: 5, criterian: gini', 0.7868852459016393),\n",
              " ('max_depth: 3, min_samples_split: 7, criterian: entropy',\n",
              "  0.7868852459016393),\n",
              " ('max_depth: 3, min_samples_split: 7, criterian: gini', 0.7868852459016393),\n",
              " ('max_depth: 3, min_samples_split: 9, criterian: entropy',\n",
              "  0.7868852459016393),\n",
              " ('max_depth: 3, min_samples_split: 9, criterian: gini', 0.7868852459016393),\n",
              " ('max_depth: 2, min_samples_split: 1, criterian: entropy',\n",
              "  0.7704918032786885),\n",
              " ('max_depth: 2, min_samples_split: 1, criterian: gini', 0.7704918032786885),\n",
              " ('max_depth: 2, min_samples_split: 3, criterian: entropy',\n",
              "  0.7704918032786885),\n",
              " ('max_depth: 2, min_samples_split: 3, criterian: gini', 0.7704918032786885),\n",
              " ('max_depth: 2, min_samples_split: 5, criterian: entropy',\n",
              "  0.7704918032786885)]"
            ]
          },
          "metadata": {},
          "execution_count": 264
        }
      ]
    },
    {
      "cell_type": "code",
      "source": [
        "clf = DecisionTree(max_depth=3, min_samples_split=1, criterion='entropy',random_state=41)\n",
        "\n",
        "# Train the classifier on the training data\n",
        "clf.fit(X_train_resampled.values, y_train_resampled.values)\n",
        "\n",
        "# Make predictions on the testing data\n",
        "y_pred = clf.predict(X_test.values)\n",
        "# print(type(y_pred))\n",
        "# print(type(y_test))\n",
        "# Calculate the accuracy of the model\n",
        "evaluation_metrics(y_test.values, y_pred)\n",
        "print()\n",
        "print()\n",
        "# Print the decision tree\n",
        "clf.print_tree()"
      ],
      "metadata": {
        "colab": {
          "base_uri": "https://localhost:8080/"
        },
        "id": "eOekGOXBafYj",
        "outputId": "0e4af6a7-8ba2-43bf-98f7-94b2368d69ca"
      },
      "execution_count": null,
      "outputs": [
        {
          "output_type": "stream",
          "name": "stdout",
          "text": [
            "Precision:  0.6818181818181818\n",
            "Recall:  0.7142857142857143\n",
            "Accuracy:  0.7868852459016393\n",
            "F1 Score:  0.6976744186046512\n",
            "\n",
            "\n",
            " X_6 < -0.73432804913876\n",
            "  X_4 < -0.8183283368128189\n",
            "   X_1 < 0.013990873726647424\n",
            "    class 0\n",
            "    class 1\n",
            "   X_1 < -0.7077078963714223\n",
            "    class 1\n",
            "    class 1\n",
            "  X_4 < 0.41459649922461905\n",
            "   X_2 < -0.8051397643886216\n",
            "    class 0\n",
            "    class 0\n",
            "   X_5 < -0.18489666647502018\n",
            "    class 1\n",
            "    class 0\n"
          ]
        }
      ]
    },
    {
      "cell_type": "markdown",
      "source": [
        "Random Forest"
      ],
      "metadata": {
        "id": "gduZDD-8bqaQ"
      }
    },
    {
      "cell_type": "code",
      "source": [
        "import numpy as np\n",
        "from collections import Counter\n",
        "# from sklearn.datasets import load_iris\n",
        "# from sklearn.model_selection import train_test_split\n",
        "\n",
        "def gini_impurity(y):\n",
        "    count = Counter(y)\n",
        "    impurity = 1\n",
        "    for label in count:\n",
        "        prob = count[label] / len(y)\n",
        "        impurity -= prob**2\n",
        "    return impurity\n",
        "\n",
        "def information_gain(y_left, y_right, parent_impurity):\n",
        "    p_left = len(y_left) / (len(y_left) + len(y_right))\n",
        "    p_right = len(y_right) / (len(y_left) + len(y_right))\n",
        "    return parent_impurity - p_left * gini_impurity(y_left) - p_right * gini_impurity(y_right)\n",
        "\n",
        "def split(X, y, feature_idx, threshold):\n",
        "    left_mask = X[:, feature_idx] < threshold\n",
        "    right_mask = ~left_mask\n",
        "    return X[left_mask], X[right_mask], y[left_mask], y[right_mask]\n",
        "\n",
        "def best_split(X, y):\n",
        "    best_gain = 0\n",
        "    best_feature_idx, best_threshold = None, None\n",
        "    parent_impurity = gini_impurity(y)\n",
        "\n",
        "    for feature_idx in range(X.shape[1]):\n",
        "        thresholds = np.unique(X[:, feature_idx])\n",
        "        for threshold in thresholds:\n",
        "            X_left, X_right, y_left, y_right = split(X, y, feature_idx, threshold)\n",
        "            if len(y_left) == 0 or len(y_right) == 0:\n",
        "                continue\n",
        "\n",
        "            gain = information_gain(y_left, y_right, parent_impurity)\n",
        "            if gain > best_gain:\n",
        "                best_gain = gain\n",
        "                best_feature_idx, best_threshold = feature_idx, threshold\n",
        "\n",
        "    return best_feature_idx, best_threshold, best_gain\n",
        "\n",
        "class DecisionTree:\n",
        "    def __init__(self, max_depth=None):\n",
        "        self.max_depth = max_depth\n",
        "\n",
        "    def fit(self, X, y, depth=0):\n",
        "        if self.max_depth and depth == self.max_depth:\n",
        "            self.label = Counter(y).most_common(1)[0][0]\n",
        "            return\n",
        "\n",
        "        feature_idx, threshold, gain = best_split(X, y)\n",
        "        if gain == 0:\n",
        "            self.label = Counter(y).most_common(1)[0][0]\n",
        "            return\n",
        "\n",
        "        X_left, X_right, y_left, y_right = split(X, y, feature_idx, threshold)\n",
        "\n",
        "        self.feature_idx = feature_idx\n",
        "        self.threshold = threshold\n",
        "        self.left = DecisionTree(self.max_depth)\n",
        "        self.right = DecisionTree(self.max_depth)\n",
        "        self.left.fit(X_left, y_left, depth + 1)\n",
        "        self.right.fit(X_right, y_right, depth + 1)\n",
        "\n",
        "    def predict(self, X):\n",
        "        if hasattr(self, \"label\"):\n",
        "            return np.full(X.shape[0], self.label)\n",
        "\n",
        "        mask = X[:, self.feature_idx] < self.threshold\n",
        "        y = np.empty(X.shape[0], dtype=int)\n",
        "        y[mask] = self.left.predict(X[mask])\n",
        "        y[~mask] = self.right.predict(X[~mask])\n",
        "        return y\n",
        "\n",
        "class RandomForest:\n",
        "    def __init__(self, n_estimators=100, max_depth=None, random_state=None):\n",
        "        self.n_estimators = n_estimators\n",
        "        self.max_depth = max_depth\n",
        "        self.random_state = random_state\n",
        "        self.trees = [DecisionTree(max_depth) for _ in range(n_estimators)]\n",
        "\n",
        "    def fit(self, X, y):\n",
        "        if self.random_state is not None:\n",
        "            np.random.seed(self.random_state)\n",
        "        for tree in self.trees:\n",
        "            bootstrap_indices = np.random.choice(np.arange(X.shape[0]), size=X.shape[0], replace=True)\n",
        "            X_bootstrap, y_bootstrap = X[bootstrap_indices], y[bootstrap_indices]\n",
        "            tree.fit(X_bootstrap, y_bootstrap)\n",
        "\n",
        "    def predict(self, X):\n",
        "        predictions = np.zeros((X.shape[0], len(self.trees)), dtype=int)\n",
        "        for i, tree in enumerate(self.trees):\n",
        "            predictions[:, i] = tree.predict(X)\n",
        "        return np.array([Counter(row).most_common(1)[0][0] for row in predictions])"
      ],
      "metadata": {
        "id": "1H0iwyIBbsqO"
      },
      "execution_count": null,
      "outputs": []
    },
    {
      "cell_type": "markdown",
      "source": [
        "Fine Tuning the Random Forest function on different hyperparameters"
      ],
      "metadata": {
        "id": "pM3TfwLSuych"
      }
    },
    {
      "cell_type": "code",
      "source": [
        "MAX_DEPTH  = [1,2,3,4,5]\n",
        "N_ESTIMATORS = [10,20,30,40,50]\n",
        "CRITERION = [\"entropy\",\"gini\"]\n",
        "scores = dict()\n",
        "for max_depth in MAX_DEPTH:\n",
        "   for n_estimators in N_ESTIMATORS:\n",
        "     rf = RandomForest(n_estimators=n_estimators, max_depth=max_depth,random_state=60)\n",
        "     \n",
        "     # Train the classifier on the training set and evaluate it on the validation set\n",
        "     rf.fit(X_train_resampled.values, y_train_resampled.values)\n",
        "     y_pred = rf.predict(X_test.values)\n",
        "     accuracy = accuracy_score(y_test, y_pred)\n",
        "     str_t = \"max_depth: \" + str(max_depth) + \", n_estimators: \" + str(n_estimators)\n",
        "     scores[str_t] = accuracy"
      ],
      "metadata": {
        "id": "_CMdr4mrcGh9"
      },
      "execution_count": null,
      "outputs": []
    },
    {
      "cell_type": "code",
      "source": [
        "def fun(dict_):\n",
        "  return dict_[1]\n",
        "\n",
        "sorted(scores.items(),reverse=True, key = fun)[:15]"
      ],
      "metadata": {
        "colab": {
          "base_uri": "https://localhost:8080/"
        },
        "id": "zL3OaXCDcLwu",
        "outputId": "4d16af65-4216-4b07-bdd2-b6a89727e930"
      },
      "execution_count": null,
      "outputs": [
        {
          "output_type": "execute_result",
          "data": {
            "text/plain": [
              "[('max_depth: 1, n_estimators: 10', 0.8524590163934426),\n",
              " ('max_depth: 1, n_estimators: 20', 0.8524590163934426),\n",
              " ('max_depth: 1, n_estimators: 30', 0.8524590163934426),\n",
              " ('max_depth: 1, n_estimators: 40', 0.8524590163934426),\n",
              " ('max_depth: 1, n_estimators: 50', 0.8524590163934426),\n",
              " ('max_depth: 4, n_estimators: 40', 0.7868852459016393),\n",
              " ('max_depth: 2, n_estimators: 10', 0.7704918032786885),\n",
              " ('max_depth: 2, n_estimators: 20', 0.7704918032786885),\n",
              " ('max_depth: 2, n_estimators: 30', 0.7704918032786885),\n",
              " ('max_depth: 2, n_estimators: 40', 0.7704918032786885),\n",
              " ('max_depth: 2, n_estimators: 50', 0.7704918032786885),\n",
              " ('max_depth: 3, n_estimators: 20', 0.7704918032786885),\n",
              " ('max_depth: 3, n_estimators: 30', 0.7704918032786885),\n",
              " ('max_depth: 3, n_estimators: 40', 0.7704918032786885),\n",
              " ('max_depth: 3, n_estimators: 50', 0.7704918032786885)]"
            ]
          },
          "metadata": {},
          "execution_count": 381
        }
      ]
    },
    {
      "cell_type": "code",
      "source": [
        "rf = RandomForest(n_estimators=10, max_depth=1,random_state=60)\n",
        "rf.fit(X_train_resampled.values, y_train_resampled.values)\n",
        "y_pred = rf.predict(X_test.values)\n",
        "print(\"Accuracy:\", accuracy_score(y_test, y_pred))"
      ],
      "metadata": {
        "colab": {
          "base_uri": "https://localhost:8080/"
        },
        "id": "3li4Wh8BbzH2",
        "outputId": "b362a72b-7932-40c4-affe-c07030eaad36"
      },
      "execution_count": null,
      "outputs": [
        {
          "output_type": "stream",
          "name": "stdout",
          "text": [
            "Accuracy: 0.8524590163934426\n"
          ]
        }
      ]
    },
    {
      "cell_type": "markdown",
      "source": [
        "SVC"
      ],
      "metadata": {
        "id": "r_rjk_R4czLP"
      }
    },
    {
      "cell_type": "code",
      "source": [
        "# import numpy as np\n",
        "\n",
        "def linear_kernel(x1, x2):\n",
        "    return np.dot(x1, x2)\n",
        "\n",
        "def rbf_kernel(x1, x2, gamma=1.0):\n",
        "    diff = x1 - x2\n",
        "    distance = np.sum(diff * diff, axis=-1)\n",
        "    return np.exp(-gamma * distance)\n",
        "def smo(X, y, C, kernel, tol=1e-3, max_passes=5, random_state=None):\n",
        "    if random_state is not None:\n",
        "      np.random.seed(random_state)\n",
        "    n, m = X.shape\n",
        "    alpha = np.zeros(n)\n",
        "    b = 0.0\n",
        "    passes = 0\n",
        "\n",
        "    while passes < max_passes:\n",
        "        num_changed_alphas = 0\n",
        "\n",
        "        for i in range(n):\n",
        "            E_i = np.sum(alpha * y * kernel(X, X[i])) - y[i]\n",
        "            if (y[i] * E_i < -tol and alpha[i] < C) or (y[i] * E_i > tol and alpha[i] > 0):\n",
        "                j = np.random.choice(list(range(i)) + list(range(i + 1, n)))\n",
        "                E_j = np.sum(alpha * y * kernel(X, X[j])) - y[j]\n",
        "\n",
        "                alpha_i_old = alpha[i]\n",
        "                alpha_j_old = alpha[j]\n",
        "\n",
        "                if y[i] != y[j]:\n",
        "                    L = max(0, alpha[j] - alpha[i])\n",
        "                    H = min(C, C + alpha[j] - alpha[i])\n",
        "                else:\n",
        "                    L = max(0, alpha[i] + alpha[j] - C)\n",
        "                    H = min(C, alpha[i] + alpha[j])\n",
        "\n",
        "                if L == H:\n",
        "                    continue\n",
        "\n",
        "                eta = 2 * kernel(X[i], X[j]) - kernel(X[i], X[i]) - kernel(X[j], X[j])\n",
        "                if eta >= 0:\n",
        "                    continue\n",
        "\n",
        "                alpha[j] -= y[j] * (E_i - E_j) / eta\n",
        "                alpha[j] = np.clip(alpha[j], L, H)\n",
        "\n",
        "                if abs(alpha[j] - alpha_j_old) < tol:\n",
        "                    continue\n",
        "\n",
        "                alpha[i] += y[i] * y[j] * (alpha_j_old - alpha[j])\n",
        "\n",
        "                b1 = b - E_i - y[i] * (alpha[i] - alpha_i_old) * kernel(X[i], X[i]) - y[j] * (alpha[j] - alpha_j_old) * kernel(X[i], X[j])\n",
        "                b2 = b - E_j - y[i] * (alpha[i] - alpha_i_old) * kernel(X[i], X[j]) - y[j] * (alpha[j] - alpha_j_old) * kernel(X[j], X[j])\n",
        "\n",
        "                if 0 < alpha[i] < C:\n",
        "                    b = b1\n",
        "                elif 0 < alpha[j] < C:\n",
        "                    b = b2\n",
        "                else:\n",
        "                    b = (b1 + b2) / 2\n",
        "\n",
        "                num_changed_alphas += 1\n",
        "\n",
        "        passes = passes + 1 if num_changed_alphas == 0 else 0\n",
        "\n",
        "    return alpha, b\n",
        "\n",
        "def fit(X, y, C=1.0, kernel=rbf_kernel, gamma=1.0, random_state=None):\n",
        "    alpha, b = smo(X, y, C, lambda x1, x2: kernel(x1, x2, gamma), random_state=random_state)\n",
        "    support_indices = np.where(alpha > 0)[0]\n",
        "    support_vectors = X[support_indices]\n",
        "    support_alphas = alpha[support_indices]\n",
        "    support_targets = y[support_indices]\n",
        "    return support_vectors, support_alphas, support_targets, b\n",
        "\n",
        "def predict(X, support_vectors, support_alphas, support_targets, b, kernel=rbf_kernel, gamma=1.0):\n",
        "    predictions = np.zeros(X.shape[0])\n",
        "    for i, x in enumerate(X):\n",
        "        result = np.sum(support_alphas * support_targets * kernel(support_vectors, x)) + b\n",
        "        predictions[i] = np.sign(result)\n",
        "    return predictions"
      ],
      "metadata": {
        "id": "YRUP2avLc0Dh"
      },
      "execution_count": null,
      "outputs": []
    },
    {
      "cell_type": "markdown",
      "source": [
        "Fine Tuning the SVC function on different hyperparameters"
      ],
      "metadata": {
        "id": "f6tXaSRsu1wp"
      }
    },
    {
      "cell_type": "code",
      "source": [
        "y_train_edited = y_train_resampled.replace(0,-1)\n",
        "y_test_edited = y_test.replace(0,-1)\n",
        "\n",
        "C_VALUES = [0.1, 1, 10, 100]\n",
        "GAMMA_VALUES = [0.1, 1, 10, 100]\n",
        "\n",
        "scores = dict()\n",
        "for c_values in C_VALUES:\n",
        "   for gamma_values in GAMMA_VALUES:\n",
        "     support_vectors, support_alphas, support_targets, b = fit(X_train_resampled.values, y_train_edited.values, kernel=rbf_kernel, C=c_values, gamma=gamma_values,random_state=32)\n",
        "     predictions = predict(X_test.values, support_vectors, support_alphas, support_targets, b, kernel=rbf_kernel, gamma=gamma)\n",
        "     # Train the classifier on the training set and evaluate it on the validation set\n",
        "\n",
        "     accuracy = np.mean(predictions == y_test_edited.values)\n",
        "     str_t = \"gamma_values: \" + str(gamma_values) + \", c_values: \" + str(c_values)\n",
        "     scores[str_t] = accuracy"
      ],
      "metadata": {
        "id": "k_-qvBXxdXIp"
      },
      "execution_count": null,
      "outputs": []
    },
    {
      "cell_type": "code",
      "source": [
        "def fun(dict_):\n",
        "  return dict_[1]\n",
        "\n",
        "sorted(scores.items(),reverse=True, key = fun)[:15]"
      ],
      "metadata": {
        "colab": {
          "base_uri": "https://localhost:8080/"
        },
        "id": "oCgb3r31fCca",
        "outputId": "b724bd77-5762-409d-f93f-cad127063f89"
      },
      "execution_count": null,
      "outputs": [
        {
          "output_type": "execute_result",
          "data": {
            "text/plain": [
              "[('gamma_values: 1, c_values: 0.1', 0.6557377049180327),\n",
              " ('gamma_values: 10, c_values: 0.1', 0.6557377049180327),\n",
              " ('gamma_values: 100, c_values: 0.1', 0.6557377049180327),\n",
              " ('gamma_values: 1, c_values: 1', 0.6557377049180327),\n",
              " ('gamma_values: 10, c_values: 1', 0.6557377049180327),\n",
              " ('gamma_values: 100, c_values: 1', 0.6557377049180327),\n",
              " ('gamma_values: 0.1, c_values: 10', 0.6557377049180327),\n",
              " ('gamma_values: 1, c_values: 10', 0.6557377049180327),\n",
              " ('gamma_values: 10, c_values: 10', 0.6557377049180327),\n",
              " ('gamma_values: 100, c_values: 10', 0.6557377049180327),\n",
              " ('gamma_values: 0.1, c_values: 100', 0.6557377049180327),\n",
              " ('gamma_values: 1, c_values: 100', 0.6557377049180327),\n",
              " ('gamma_values: 10, c_values: 100', 0.6557377049180327),\n",
              " ('gamma_values: 100, c_values: 100', 0.6557377049180327),\n",
              " ('gamma_values: 0.1, c_values: 0.1', 0.3442622950819672)]"
            ]
          },
          "metadata": {},
          "execution_count": 385
        }
      ]
    },
    {
      "cell_type": "code",
      "source": [
        "y_train_edited = y_train_resampled.replace(0,-1)\n",
        "y_test_edited = y_test.replace(0,-1)\n",
        "\n",
        "gamma = 1\n",
        "# Train the SVC\n",
        "support_vectors, support_alphas, support_targets, b = fit(X_train_resampled.values, y_train_edited.values, kernel=rbf_kernel, gamma=gamma,random_state=21)\n",
        "\n",
        "# Predict labels for the same dataset (just for demonstration)\n",
        "predictions = predict(X_test.values, support_vectors, support_alphas, support_targets, b, kernel=rbf_kernel, gamma=gamma)\n",
        "\n",
        "# Calculate and print the accuracy\n",
        "accuracy = np.mean(predictions == y_test_edited.values)\n",
        "print(\"Accuracy:\", accuracy)"
      ],
      "metadata": {
        "colab": {
          "base_uri": "https://localhost:8080/"
        },
        "id": "boqFHZ6Vc3hD",
        "outputId": "da881549-6a1f-4fcd-fa86-305c8732ff14"
      },
      "execution_count": null,
      "outputs": [
        {
          "output_type": "stream",
          "name": "stdout",
          "text": [
            "Accuracy: 0.6557377049180327\n"
          ]
        }
      ]
    },
    {
      "cell_type": "markdown",
      "source": [
        "XGBOOST"
      ],
      "metadata": {
        "id": "Moh9AbpqfFKN"
      }
    },
    {
      "cell_type": "code",
      "source": [
        "def sigmoid(x):\n",
        "    return 1 / (1 + np.exp(-x))\n",
        "\n",
        "# first order gradient\n",
        "def grad(preds, labels):\n",
        "    preds = sigmoid(preds)\n",
        "    return (preds - labels)\n",
        "\n",
        "# second order gradient\n",
        "def hess(preds, labels):\n",
        "    preds = sigmoid(preds)\n",
        "    return (preds * (1 - preds))"
      ],
      "metadata": {
        "id": "s5S8iXnKfGm_"
      },
      "execution_count": null,
      "outputs": []
    },
    {
      "cell_type": "code",
      "source": [
        "class TreeNode(object):\n",
        "    def __init__(self, is_leaf = False, leaf_score = None, split_feature = None, split_threshold = None, \n",
        "                 left_child = None, right_child = None, NA_direction = 'left'):\n",
        "        self.is_leaf = is_leaf # if True, the node is a leaf and no further split necessary\n",
        "        self.leaf_score = leaf_score # prediction score\n",
        "        self.split_feature = split_feature\n",
        "        self.split_threshold = split_threshold\n",
        "        self.left_child = left_child\n",
        "        self.right_child = right_child\n",
        "        self.NA_direction = NA_direction # whether to put NA on left or right\n",
        "\n",
        "class Tree(object):\n",
        "    def __init__(self, root = None, min_sample_split = None, col_sub_frac = None, lamda = None, \n",
        "                 gamma = None, num_thread = None, min_child_weight = None, random_state=None):\n",
        "        self.random_state = random_state\n",
        "        self.root = root\n",
        "        self.min_sample_split = min_sample_split # minimum samples required for a split\n",
        "        self.col_sub_frac = col_sub_frac # column subsampling fraction\n",
        "        self.lamda = lamda #lambda\n",
        "        self.gamma = gamma #gamma\n",
        "        self.min_child_weight = min_child_weight # minimum weight for a split\n",
        "    \n",
        "    def cal_leaf_score(self, Y):\n",
        "        # calculate score for a leaf\n",
        "        # Formula (5): -G / (H + Lambda)\n",
        "        return - (Y['grad'].sum() / (Y['hess'].sum() + self.lamda))\n",
        "    \n",
        "    def cal_split_gain(self, left_Y, right_Y, NA_grad, NA_hess, NA_direction = 'left'):\n",
        "        # calculate gain from a potential split\n",
        "        # Formula (7): 0.5 * [GL^2 / (HL+Lambda) + GR^2 / (HR+Lambda) - G^2 / (H+Lambda)] - Gamma\n",
        "        if (NA_direction == 'left'):\n",
        "            GL = left_Y['grad'].sum() + NA_grad\n",
        "            HL = left_Y['hess'].sum() + NA_hess\n",
        "            GR = right_Y['grad'].sum()\n",
        "            HR = right_Y['hess'].sum()\n",
        "        else:\n",
        "            GL = left_Y['grad'].sum()\n",
        "            HL = left_Y['hess'].sum()\n",
        "            GR = right_Y['grad'].sum() + NA_grad\n",
        "            HR = right_Y['hess'].sum() + NA_hess\n",
        "        gain = 0.5 * ( (GL**2/(HL+self.lamda)) + (GR**2/(HR+self.lamda)) - ((GL+GR)**2/(HL+HR+self.lamda)) ) - self.gamma\n",
        "        return gain\n",
        "    \n",
        "    def weighted_quantile_sketch(self, dt, feature):\n",
        "        # find the best split value for a given feature\n",
        "        best_split_value = None\n",
        "        best_gain = -np.inf\n",
        "        best_NA_direction = 'left'\n",
        "        \n",
        "        selected_dt = dt[[feature, 'label', 'grad', 'hess']]\n",
        "        \n",
        "        # divide selected_dt into data with/without NA\n",
        "        mask = selected_dt[feature].isnull()\n",
        "        NA_dt = selected_dt[mask]\n",
        "        Non_NA_dt = selected_dt[~mask]\n",
        "        \n",
        "        # for NA data, calculate NA_grad & NA_hess\n",
        "        NA_grad = NA_dt['grad'].sum()\n",
        "        NA_hess = NA_dt['hess'].sum()\n",
        "        \n",
        "        # for non NA data, order data by feature value\n",
        "        Non_NA_dt.reset_index(inplace = True)\n",
        "        Non_NA_dt['feature_index'] = Non_NA_dt[feature].argsort() # assign new index based on feature value\n",
        "        Non_NA_dt = Non_NA_dt.iloc[Non_NA_dt['feature_index']] # sort\n",
        "        \n",
        "        # weighted quantile sketch\n",
        "        hess_sum = Non_NA_dt['hess'].sum()\n",
        "        # formula (8)\n",
        "        Non_NA_dt['rank'] = Non_NA_dt.apply(lambda x : (1/hess_sum)*sum(Non_NA_dt[Non_NA_dt[feature] < x[feature]]['hess']),\n",
        "                                            axis=1)\n",
        "\n",
        "        # loop over feature value to find split gain\n",
        "        for j in range(Non_NA_dt.shape[0]-1):\n",
        "            \n",
        "            # look at the current rank and the next rank\n",
        "            rk_sk_j, rk_sk_j_1 = Non_NA_dt['rank'].iloc[j:j+2]\n",
        "            \n",
        "            # formula (9)\n",
        "            # compare | rk(sk,j) - rk(sk,j+1) | with eps\n",
        "            if (abs(rk_sk_j-rk_sk_j_1) >= self.eps):\n",
        "                continue\n",
        "            \n",
        "            # if | rk(sk,j) - rk(sk,j+1) | < eps, then propose a split\n",
        "            split_value = (Non_NA_dt[feature].iloc[j+1] + Non_NA_dt[feature].iloc[j])/2\n",
        "                \n",
        "            left_Y = Non_NA_dt.iloc[:(j+1)] # observations before this point are put in the left tree\n",
        "            right_Y = Non_NA_dt.iloc[(j+1):] # observations after this point are put in the right tree\n",
        "            \n",
        "            # decide on where to put NA\n",
        "            go_left = self.cal_split_gain(left_Y, right_Y, NA_grad, NA_hess, NA_direction = 'left')\n",
        "            go_right = self.cal_split_gain(left_Y, right_Y, NA_grad, NA_hess, NA_direction = 'right')\n",
        "            \n",
        "            if (go_left > go_right):\n",
        "                this_gain = go_left\n",
        "                this_direction = 'left'\n",
        "            else:\n",
        "                this_gain = go_right\n",
        "                this_direction = 'right'\n",
        "            \n",
        "            # always choose the best gain\n",
        "            if (this_gain > best_gain):\n",
        "                best_split_value = split_value\n",
        "                best_gain = this_gain\n",
        "                best_NA_direction = this_direction\n",
        "        \n",
        "        return feature, best_split_value, best_gain, best_NA_direction\n",
        "    \n",
        "    def find_best_split_value_and_feature(self, X, Y):\n",
        "        best_gain = -np.inf\n",
        "        best_feature, best_split_value, results = None, None, None\n",
        "        \n",
        "        features = list(X.columns) # get a list of all features\n",
        "        data = pd.concat([X, Y], axis = 1)\n",
        "        \n",
        "        results = []\n",
        "        for j in range(len(features)):\n",
        "            results.append(self.weighted_quantile_sketch(data, features[j]))\n",
        "        \n",
        "        # find the best split\n",
        "        best = sorted(results, key = lambda x: float(x[2]), reverse = True)[0]\n",
        "        best_feature = best[0]\n",
        "        best_split_value = best[1]\n",
        "        best_gain = best[2]\n",
        "        best_NA_direction = best[3]\n",
        "        \n",
        "        return best_feature, best_split_value, best_gain, best_NA_direction\n",
        "    \n",
        "    def split(self, X, Y, feature, split_value, NA_direction):\n",
        "        data = pd.concat([X, Y], axis = 1)\n",
        "        X_cols, Y_cols = list(X.columns), list(Y.columns)\n",
        "        \n",
        "        if(NA_direction == 'left'):\n",
        "            mask = (data[feature] >= split_value)\n",
        "            left = data[~mask] # left take all NA\n",
        "            right = data[mask]\n",
        "        else:\n",
        "            mask = (data[feature] < split_value)\n",
        "            left = data[mask]\n",
        "            right = data[~mask] # right take all NA\n",
        "        \n",
        "        return left[X_cols], left[Y_cols], right[X_cols], right[Y_cols]\n",
        "    \n",
        "    def build_tree(self, X, Y, depth):\n",
        "        # return a tree node when cannot split\n",
        "        if (X.shape[0] < self.min_sample_split) or (depth == 0) or (Y['hess'].sum() < self.min_child_weight):\n",
        "            l_score = self.cal_leaf_score(Y)\n",
        "            return TreeNode(is_leaf = True, leaf_score = l_score)\n",
        "        \n",
        "        # column sub-sampling to reduce overfitting\n",
        "        if self.random_state is not None:\n",
        "            np.random.seed(self.random_state)\n",
        "        X_sub = X.sample(frac = self.col_sub_frac, axis = 1)\n",
        "        best_feature, best_split_value, best_gain, best_NA_direction = self.find_best_split_value_and_feature(X_sub, Y)\n",
        "        \n",
        "        if (best_gain <= 0):\n",
        "            l_score = self.cal_leaf_score(Y)\n",
        "            return TreeNode(is_leaf = True, leaf_score = l_score)\n",
        "        \n",
        "        # split data\n",
        "        left_X, left_Y, right_X, right_Y = self.split(X_sub, Y, best_feature, best_split_value, best_NA_direction)\n",
        "        left_child = self.build_tree(left_X, left_Y, depth - 1)\n",
        "        right_child = self.build_tree(right_X, right_Y, depth - 1)\n",
        "        \n",
        "        # merge two trees together\n",
        "        sub_tree = TreeNode(is_leaf = False, leaf_score = None, split_feature = best_feature, split_threshold = best_split_value, \n",
        "                 left_child = left_child, right_child = right_child, NA_direction = best_NA_direction)\n",
        "        \n",
        "        return sub_tree\n",
        "    \n",
        "    def fit(self, X, Y, max_depth = 3, min_child_weight = 1, col_sub_frac = 1, min_sample_split = 10, \n",
        "            lamda = 1, gamma = 0.05, eps = 0.001):\n",
        "        self.min_child_weight = min_child_weight\n",
        "        self.col_sub_frac = col_sub_frac\n",
        "        self.min_sample_split = min_sample_split\n",
        "        self.lamda = lamda\n",
        "        self.gamma = gamma\n",
        "        self.eps = eps\n",
        "        self.root = self.build_tree(X, Y, max_depth)\n",
        "    \n",
        "    def predict_one(self, tree_node, X):\n",
        "        # predict one observation\n",
        "        # print predicted score at leaf\n",
        "        \n",
        "        if tree_node.is_leaf == True:\n",
        "            return tree_node.leaf_score\n",
        "        # if the observation has a missing value for this feature and NA direction is left\n",
        "        elif (type(X[tree_node.split_feature].item()) != int) and (type(X[tree_node.split_feature].item()) != float) and (tree_node.NA_direction == 'left'):\n",
        "            return self.predict_one(tree_node.left_child, X)\n",
        "        \n",
        "        # if value of the feature is less than the split value\n",
        "        elif ((X[tree_node.split_feature] < tree_node.split_threshold).item()):\n",
        "            return self.predict_one(tree_node.left_child, X)\n",
        "        \n",
        "        # all else\n",
        "        else:\n",
        "            return self.predict_one(tree_node.right_child, X)\n",
        "        \n",
        "    def predict(self, X):\n",
        "        # make predictions\n",
        "        preds = []\n",
        "        for n in range(X.shape[0]):\n",
        "            preds.append(self.predict_one(self.root, X.iloc[[n]]))\n",
        "        return np.array(preds)"
      ],
      "metadata": {
        "id": "Nlj7alBMfJ2a"
      },
      "execution_count": null,
      "outputs": []
    },
    {
      "cell_type": "code",
      "source": [
        "def xgboost_train(X, Y, eta, max_round, max_depth, row_sub_frac, col_sub_frac, min_child_weight, \n",
        "                  min_sample_split, lamda, gamma, eps, metric, random_state=None):\n",
        "    \n",
        "    # initialize variables\n",
        "    trees = [] # tree models in this xgboost\n",
        "    initialize_pred = 1 # initialize a starting point for prediction\n",
        "    best_metric_value, best_round = -np.inf, None\n",
        "    metric_value_list = []\n",
        "    \n",
        "    # reset index for X & Y\n",
        "    X.reset_index(drop = True, inplace = True)\n",
        "    Y = Y.to_frame(name = 'label')\n",
        "    Y.reset_index(drop = True, inplace = True)\n",
        "    \n",
        "    # initialize Y\n",
        "    Y['y_pred'] = initialize_pred\n",
        "    Y['grad'] = grad(Y['y_pred'], Y['label'])\n",
        "    Y['hess'] = hess(Y['y_pred'], Y['label'])\n",
        "        \n",
        "    for i in range(max_round):\n",
        "        data = pd.concat([X, Y], axis = 1)\n",
        "        # in each boosting round, use row sub-sampling to reduce overfitting\n",
        "        if random_state is not None:\n",
        "            np.random.seed(random_state)\n",
        "        data = data.sample(frac = row_sub_frac, axis = 0)\n",
        "            \n",
        "        Y_Selected = data[['label', 'y_pred', 'grad', 'hess']]\n",
        "        X_Selected = data[list(X.columns)]\n",
        "            \n",
        "        tree = Tree()\n",
        "        tree.fit(X_Selected, Y_Selected, max_depth = max_depth, min_child_weight = min_child_weight, col_sub_frac = col_sub_frac,\n",
        "                 min_sample_split = min_sample_split, lamda = lamda, gamma = gamma, eps = eps)\n",
        "        # predict on the whole training set\n",
        "        preds = tree.predict(X)\n",
        "        # eta is a shrinkage factor to prevent overfitting\n",
        "        Y['y_pred'] = Y['y_pred'] + eta * preds\n",
        "        Y['grad'] = grad(Y['y_pred'], Y['label'])\n",
        "        Y['hess'] = hess(Y['y_pred'], Y['label'])\n",
        "            \n",
        "        trees.append(tree)\n",
        "        \n",
        "        # print out current iteration and its corresponding metric value\n",
        "        print(\"Iteration: \", i)\n",
        "        test_perf = []\n",
        "        avg = Y['y_pred'].mean()\n",
        "        for j in Y['y_pred']:\n",
        "            if (j > avg):\n",
        "                test_perf.append(1)\n",
        "            else:\n",
        "                test_perf.append(0)\n",
        "        \n",
        "        # decide on metric to use\n",
        "        if (metric == 'f1'):\n",
        "            m = f1_score(Y['label'], test_perf)\n",
        "            print(\"F1-Score: \", m)\n",
        "            metric_value_list.append(m)\n",
        "        if (metric == 'accuracy'):\n",
        "            m = accuracy_score(Y['label'], test_perf)\n",
        "            print(\"Accuracy: \", m)\n",
        "        \n",
        "        # replace best metric\n",
        "        if (m > best_metric_value):\n",
        "            best_metric_value = m\n",
        "            best_round = i\n",
        "    \n",
        "    # too many training rounds may cause overfitting and/or decreased performance\n",
        "    # choose xgboost model when its training metric reaches its maximum\n",
        "    best_trees = trees[:(i+1)]\n",
        "    # plt.plot(metric_value_list)\n",
        "    # plt.show()\n",
        "    \n",
        "    return best_trees, eta"
      ],
      "metadata": {
        "id": "mgwerifMfLu9"
      },
      "execution_count": null,
      "outputs": []
    },
    {
      "cell_type": "code",
      "source": [
        "def xgboost_predict(trees, X_test, eta):\n",
        "    # initialize starting point for prediction\n",
        "    preds = np.ones(X_test.shape[0])\n",
        "    for tree in trees:\n",
        "        preds = preds + tree.predict(X_test) * eta\n",
        "    \n",
        "    adj_preds = []\n",
        "    avg = preds.mean()\n",
        "    for i in preds:\n",
        "        if (i > avg):\n",
        "            adj_preds.append(1)\n",
        "        else:\n",
        "            adj_preds.append(0)\n",
        "    \n",
        "    return adj_preds"
      ],
      "metadata": {
        "id": "_n1Y1RaRfT3i"
      },
      "execution_count": null,
      "outputs": []
    },
    {
      "cell_type": "code",
      "source": [
        "model, eta = xgboost_train(X_train_resampled, y_train_resampled, \n",
        "                           eta = 0.4, # shrinkage factor that reduces influence of each individual tree\n",
        "                           max_round = 10, # the total number of training rounds\n",
        "                           max_depth = 6, # the max depth for each tree\n",
        "                           row_sub_frac = 0.95, # sampling percentage of observations used to reduce overfitting\n",
        "                           col_sub_frac = 1,  # sampling percentage of columns used to reduce overfitting\n",
        "                           min_child_weight = 1, # min weight for a tree to split\n",
        "                           min_sample_split = 10, # min sample required for a split\n",
        "                           lamda = 3, # lambda: L2 regularization term on weights\n",
        "                           gamma = 0, # gamma(regularization term): minimum loss reduction required for a split\n",
        "                           eps = 0.003, # epsilon for weighted quantile sketch\n",
        "                           metric = 'accuracy',random_state=44)"
      ],
      "metadata": {
        "colab": {
          "base_uri": "https://localhost:8080/"
        },
        "id": "YlN_ve1efVaU",
        "outputId": "e3b7b8c1-0575-431e-a72b-6b752676f1dc"
      },
      "execution_count": null,
      "outputs": [
        {
          "output_type": "stream",
          "name": "stdout",
          "text": [
            "Iteration:  0\n",
            "Accuracy:  0.8466666666666667\n",
            "Iteration:  1\n",
            "Accuracy:  0.89\n",
            "Iteration:  2\n",
            "Accuracy:  0.8766666666666667\n",
            "Iteration:  3\n",
            "Accuracy:  0.9066666666666666\n",
            "Iteration:  4\n",
            "Accuracy:  0.9233333333333333\n",
            "Iteration:  5\n",
            "Accuracy:  0.9366666666666666\n",
            "Iteration:  6\n",
            "Accuracy:  0.9366666666666666\n",
            "Iteration:  7\n",
            "Accuracy:  0.9366666666666666\n",
            "Iteration:  8\n",
            "Accuracy:  0.9366666666666666\n",
            "Iteration:  9\n",
            "Accuracy:  0.9366666666666666\n"
          ]
        }
      ]
    },
    {
      "cell_type": "code",
      "source": [
        "prediction = xgboost_predict(model, X_test, eta)\n",
        "print(\"Test Accuracy: \", accuracy_score(y_test, prediction))"
      ],
      "metadata": {
        "colab": {
          "base_uri": "https://localhost:8080/"
        },
        "id": "yMIseQV6fg0j",
        "outputId": "f5b7fb12-4504-4036-bff0-ae07ea20ea53"
      },
      "execution_count": null,
      "outputs": [
        {
          "output_type": "stream",
          "name": "stdout",
          "text": [
            "Test Accuracy:  0.7704918032786885\n"
          ]
        }
      ]
    },
    {
      "cell_type": "code",
      "source": [
        "evaluation_metrics(y_test.values, prediction)"
      ],
      "metadata": {
        "colab": {
          "base_uri": "https://localhost:8080/"
        },
        "id": "lEjMEnSTjN7c",
        "outputId": "a9409169-9f74-43f5-8e64-122ef6df315c"
      },
      "execution_count": null,
      "outputs": [
        {
          "output_type": "stream",
          "name": "stdout",
          "text": [
            "Precision:  0.6129032258064516\n",
            "Recall:  0.9047619047619048\n",
            "Accuracy:  0.7704918032786885\n",
            "F1 Score:  0.7307692307692307\n"
          ]
        }
      ]
    }
  ],
  "metadata": {
    "colab": {
      "provenance": []
    },
    "kernelspec": {
      "display_name": "Python 3",
      "name": "python3"
    },
    "language_info": {
      "name": "python"
    }
  },
  "nbformat": 4,
  "nbformat_minor": 0
}